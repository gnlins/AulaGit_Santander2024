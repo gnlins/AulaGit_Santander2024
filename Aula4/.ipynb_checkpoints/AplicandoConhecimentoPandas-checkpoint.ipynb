{
 "cells": [
  {
   "cell_type": "markdown",
   "id": "1e247f97",
   "metadata": {},
   "source": [
    "# 0.Bases Usadas"
   ]
  },
  {
   "cell_type": "markdown",
   "id": "a8e17eae",
   "metadata": {},
   "source": [
    "- [class_datasets](https://github.com/gnlins/class_datasets)"
   ]
  },
  {
   "cell_type": "markdown",
   "id": "44f3e395",
   "metadata": {},
   "source": [
    "- Perguntas Sobre o dataset videoGames:\n",
    "    -"
   ]
  }
 ],
 "metadata": {
  "kernelspec": {
   "display_name": "Python 3 (ipykernel)",
   "language": "python",
   "name": "python3"
  },
  "language_info": {
   "codemirror_mode": {
    "name": "ipython",
    "version": 3
   },
   "file_extension": ".py",
   "mimetype": "text/x-python",
   "name": "python",
   "nbconvert_exporter": "python",
   "pygments_lexer": "ipython3",
   "version": "3.10.5"
  }
 },
 "nbformat": 4,
 "nbformat_minor": 5
}
