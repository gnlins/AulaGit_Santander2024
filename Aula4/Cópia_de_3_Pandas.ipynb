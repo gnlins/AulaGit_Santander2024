{
  "nbformat": 4,
  "nbformat_minor": 0,
  "metadata": {
    "colab": {
      "private_outputs": true,
      "provenance": []
    },
    "kernelspec": {
      "name": "python3",
      "display_name": "Python 3"
    },
    "language_info": {
      "name": "python"
    }
  },
  "cells": [
    {
      "cell_type": "markdown",
      "source": [
        "# Pandas\n",
        "--------\n",
        "\n",
        "\n",
        "\n",
        "\n",
        "\n",
        "\n",
        "\n",
        "\n",
        "\n",
        "\n",
        "\n",
        "\n",
        "\n",
        "\n",
        "\n"
      ],
      "metadata": {
        "id": "QOi0tZXQ1NfX"
      }
    },
    {
      "cell_type": "markdown",
      "source": [
        "É muito comum trabalharmos com processamento de dados que se encontram no formato de tabelas (também chamados dados \"tabulares\", ou dados estruturados). Como exemplo, as ferramentas Microsoft Excel e Google Spreadsheets são muito utilizadas no dia a dia dos trabalhadores de muitas empresas. Assim, se quisermos fazer trabalhos básicos em dados tabulares de forma automatizada, com o Python, precisamos de uma biblioteca com funcionalidades parecidas com as ferramentas citadas.\n",
        "\n",
        "O **Pandas** (derivado de *panel data*) é uma biblioteca que implementa essas funcionalidades [\\[1\\]](#1). Criada por Wes McKinney em torno de 2009, e tendo virado uma biblioteca de código fonte aberto em torno de 2013, o pandas tem o objetivo de ser uma ferramenta em Python que ajude com análise de dados e estatística computacional. O pandas é muito versátil e simples de usar, facilitando muito o trabalho com dados estruturados.\n",
        "\n",
        "Para entender o funcionamento do `pandas`, é importante conhecer os objetos fundamentais da biblioteca: `Series` e `DataFrame`. Esses objetos representam listas de dados e tabelas, respectivamente. Ao se trabalhar com Pandas, dados tabulares são convertidos em `DataFrame`, em cima do qual fazemos a maior parte das operações do pandas.\n",
        "\n",
        "Além disso, é importante também ter conhecimentos básicos de NumPy, visto que ele é a biblioteca principal na qual o pandas se apoia. Assim, toda a estrutura do pandas tem forte dependência do NumPy."
      ],
      "metadata": {
        "id": "GzBTZxC-TrG0"
      }
    },
    {
      "cell_type": "markdown",
      "source": [
        "1. [Instalação](#1instalacao)\n",
        "2. [Introdução ao Pandas](#2introducao)\n",
        "    1. [Pandas Series](#21series)\n",
        "    2. [Pandas DataFrame](#22dataframe)\n",
        "3. [Tratamento e limpeza de dados](#3wrangling)\n",
        "4. [Exploração de Dados](#4exploratory)\n"
      ],
      "metadata": {
        "id": "QRdwgskITudK"
      }
    },
    {
      "cell_type": "markdown",
      "source": [
        "## 1. Instalação  <a name=\"1instalacao\"></a>\n",
        "\n"
      ],
      "metadata": {
        "id": "ttqY5-3HTnzT"
      }
    },
    {
      "cell_type": "markdown",
      "source": [
        "O pandas é uma biblioteca para linguagem Python, e para ser instalada nós procedemos da mesma forma que qualquer outra biblioteca. A forma mais fácil de instalar o Pandas, e a recomendada na documentação da biblioteca, é a partir da distribuição Anaconda.\n",
        "\n",
        "A distribuição Anaconda (https://www.anaconda.com/distribution/) vem com o Python e diversas bibliotecas científicas e para ciência de dados instaladas. Ele também vem com um gerenciador de pacotes chamado *conda*, que podemos usar para instalação do Pandas, caso seja desejado [\\[2\\]](#2).\n"
      ],
      "metadata": {
        "id": "UUaOvPrLU58H"
      }
    },
    {
      "cell_type": "code",
      "source": [
        "# $ conda install pandas"
      ],
      "metadata": {
        "id": "PLgUTFyMU9DV"
      },
      "execution_count": null,
      "outputs": []
    },
    {
      "cell_type": "markdown",
      "source": [
        "Também é possível baixar a partir do servidor da Python Software Foundation, conhecido como PyPI, através do gerenciador de pacotes `pip`."
      ],
      "metadata": {
        "id": "nCyulXUlU9d6"
      }
    },
    {
      "cell_type": "code",
      "source": [
        "# $ pip install pandas"
      ],
      "metadata": {
        "id": "HnnD0xnAVDTZ"
      },
      "execution_count": null,
      "outputs": []
    },
    {
      "cell_type": "markdown",
      "source": [
        "## 2. Introdução ao Pandas  <a name=\"2introducao\"></a>\n",
        "\n"
      ],
      "metadata": {
        "id": "8XOSK1SZTkRf"
      }
    },
    {
      "cell_type": "markdown",
      "source": [
        "Antes de mais nada, precisamos importar o Pandas para poder usá-lo. Nós fazemos isso da mesma forma que qualquer outra biblioteca Python. O único ponto importante de se lembrar é que o mais comum na comunidade de programação é que se use o alias `pd` para o pandas."
      ],
      "metadata": {
        "id": "kQCTY_IiY5vR"
      }
    },
    {
      "cell_type": "code",
      "execution_count": null,
      "metadata": {
        "id": "wuedUndYXl7n"
      },
      "outputs": [],
      "source": [
        "import pandas as pd"
      ]
    },
    {
      "cell_type": "markdown",
      "source": [
        "Normalmente, dados costumam vir na forma de tabelas. Nós chamamos dados com esse formato de **dados estruturados**. Isso significa que em geral, dados costumam estar na forma de uma série de linhas (ou uma série de colunas, o que é equivalente) com diversos valores e observações em cada parte da linha. A unidade básica que costumamos pensar é a de células da tabela. Uma célula é uma interseção entre uma dada linha e uma dada coluna da tabela.\n",
        "\n",
        "Por exemplo, na tabela abaixo, nós podemos dizer que na célula \\[2,1\\] nós temos o valor 1. No Python, a linha 2 é a terceira, contando de cima pra baixo, em e a coluna 1 é a segunda, contando da esquerda para a direita."
      ],
      "metadata": {
        "id": "E43_ZRqrY_R4"
      }
    },
    {
      "cell_type": "code",
      "source": [
        "[[1, 2, 3],\n",
        " [2, 2, 2],\n",
        " [0, 1, 0]]"
      ],
      "metadata": {
        "id": "1aXd1dHEZB6J"
      },
      "execution_count": null,
      "outputs": []
    },
    {
      "cell_type": "markdown",
      "source": [
        "Perceba que falar que a linha 2 é a \"terceira\" (devido ao Python começar a indexação do 0) é algo arbitrário. Se a gente quisesse dar nomes pras linhas, por exemplo, \"a\", \"b\" e \"c\", eu poderia dizer que a linha \"c\" é a terceira de cima pra baixo. Se os nomes das colunas então fossem \"A\", \"B\", \"C\", eu poderia reescrever a célula como sendo \\[\"c\",\"B\"\\].\n",
        "\n",
        "O que o Pandas faz é exatamente isso: Ele cria um array de numpy, porém com linhas (ou índices) com nomes específicos que podemos definir como queremos. As colunas funcionam de forma semelhante, nós podemos dar os nomes que quisermos a elas.\n",
        "\n",
        "Essa estrutura, com uma tabela, uma lista de índices (nomes das linhas) e uma lista de colunas (nomes das colunas), é o que chamamos de um `DataFrame` do Pandas."
      ],
      "metadata": {
        "id": "zA8DXbxwZFYt"
      }
    },
    {
      "cell_type": "code",
      "source": [
        "dados = [[1.69, 87.0],\n",
        "             [1.59, 56.5],\n",
        "             [1.69, 90.3],\n",
        "             [1.74, 78.6]]"
      ],
      "metadata": {
        "id": "B23xbiWoZHz-"
      },
      "execution_count": null,
      "outputs": []
    },
    {
      "cell_type": "code",
      "source": [
        "df = pd.DataFrame(dados, columns=['altura', 'peso'],\n",
        "                      index=['Fulano', 'Sicrana', 'Beltrana', 'João'])"
      ],
      "metadata": {
        "id": "cT3Jp8B8ZJ8J"
      },
      "execution_count": null,
      "outputs": []
    },
    {
      "cell_type": "code",
      "source": [
        "df"
      ],
      "metadata": {
        "id": "WtUM9qEoZMDI"
      },
      "execution_count": null,
      "outputs": []
    },
    {
      "cell_type": "markdown",
      "source": [
        "Uma observação: É comum não passarmos uma lista de índices. Nesses casos, o pandas usa um padrão que é usar índices numéricos em sequência (por exemplo, 0, 1, 2, ...)."
      ],
      "metadata": {
        "id": "mlwQdpnMZOGv"
      }
    },
    {
      "cell_type": "code",
      "source": [
        "dados = [['Fulano',   1.69, 87.0],\n",
        "             ['Sicrana',  1.59, 56.5],\n",
        "             ['Beltrana', 1.69, 90.3],\n",
        "             ['João',     1.74, 78.6]]\n"
      ],
      "metadata": {
        "id": "7PPzO-hgZSoi"
      },
      "execution_count": null,
      "outputs": []
    },
    {
      "cell_type": "code",
      "source": [
        "df = pd.DataFrame(dados, columns=['Nome', 'altura', 'peso'])"
      ],
      "metadata": {
        "id": "RymEsyeXZVOP"
      },
      "execution_count": null,
      "outputs": []
    },
    {
      "cell_type": "code",
      "source": [
        "df"
      ],
      "metadata": {
        "id": "odINsDMEZXGt"
      },
      "execution_count": null,
      "outputs": []
    },
    {
      "cell_type": "markdown",
      "source": [
        "É interessante ter em mente que o pandas tem uma inspiração fortíssima na linguagem de programação R, muito usada para estatística e análise de dados. Um dos objetos principais para análise de dados com R também é um `DataFrame`. Por isso, para quem tem conhecimentos prévios em R, é um pouco mais fácil de se acostumar com o pandas.\n",
        "\n",
        "Agora, se olharmos o tipo da nossa variável `df`, veremos que ele é um DataFame do pandas."
      ],
      "metadata": {
        "id": "gDTejwu_ZZc7"
      }
    },
    {
      "cell_type": "code",
      "source": [
        "print(type(df))"
      ],
      "metadata": {
        "id": "rlamnakPZbk_"
      },
      "execution_count": null,
      "outputs": []
    },
    {
      "cell_type": "markdown",
      "source": [
        "O outro objeto fundamental em pandas é o objeto `Series`, que nada mais é que uma lista (unidimensional) indexada. Assim como no dataframe, esse índice pode ser alterado para os nomes que quisermos. Por trás dos panos, uma variável `Series` armazena suas informações em um `ndarray`, do numpy (assim como o faz variáveis do tipo `DataFrame`)."
      ],
      "metadata": {
        "id": "AoLMcYbIZd31"
      }
    },
    {
      "cell_type": "code",
      "source": [
        "minha_lista = [87.0, 56.5, 90.3, 78.6]"
      ],
      "metadata": {
        "id": "eSSunc0xZfvt"
      },
      "execution_count": null,
      "outputs": []
    },
    {
      "cell_type": "code",
      "source": [
        "serie = pd.Series(minha_lista, index=['Fulano', 'Sicrana', 'Beltrana', 'João'])"
      ],
      "metadata": {
        "id": "VG2I7REyZht7"
      },
      "execution_count": null,
      "outputs": []
    },
    {
      "cell_type": "code",
      "source": [
        "serie"
      ],
      "metadata": {
        "id": "dWptQV1nZkw6"
      },
      "execution_count": null,
      "outputs": []
    },
    {
      "cell_type": "code",
      "source": [
        "serie = pd.Series(minha_lista)"
      ],
      "metadata": {
        "id": "c9oIzMOgZnxd"
      },
      "execution_count": null,
      "outputs": []
    },
    {
      "cell_type": "code",
      "source": [
        "serie"
      ],
      "metadata": {
        "id": "gv1MRyCeZpUm"
      },
      "execution_count": null,
      "outputs": []
    },
    {
      "cell_type": "markdown",
      "source": [
        "Ao trabalhar com o pandas, estamos sempre atuando com esses dois tipos de objeto (`DataFrame` e `Series`).\n",
        "\n",
        "Como exemplo, imagina que queiramos uma lista com os valores de uma dada coluna (ou de uma dada linha) do nosso dataframe. Nesse caso, podemos usar a sintaxe abaixo, e o objeto que iremos obter é do tipo `Series`."
      ],
      "metadata": {
        "id": "aUemRKMRZtx7"
      }
    },
    {
      "cell_type": "code",
      "source": [
        "serie = df['peso']"
      ],
      "metadata": {
        "id": "r20PfqToZr5X"
      },
      "execution_count": null,
      "outputs": []
    },
    {
      "cell_type": "code",
      "source": [
        "serie"
      ],
      "metadata": {
        "id": "gI6aGX0iZyAb"
      },
      "execution_count": null,
      "outputs": []
    },
    {
      "cell_type": "markdown",
      "source": [
        "Agora que vimos o que são os objetos fundamentais do pandas, vamos nos aprofundar um pouco mais em suas características."
      ],
      "metadata": {
        "id": "jN75GvOGZ0J4"
      }
    },
    {
      "cell_type": "markdown",
      "source": [
        "### 2.1. Pandas Series  <a name=\"21series\"></a>\n",
        "\n"
      ],
      "metadata": {
        "id": "2gUpRgPqTf34"
      }
    },
    {
      "cell_type": "markdown",
      "source": [
        "Como vimos, podemos criar um objeto `pd.Series` a partir de uma lista (ou de um array do numpy). Assim como com o NumPy, nós podemos controlar o tipo dos elementos da série."
      ],
      "metadata": {
        "id": "CGN6xXO8aDII"
      }
    },
    {
      "cell_type": "code",
      "source": [
        "import pandas as pd\n",
        "import numpy as np\n",
        "minha_lista = [10, 20, 30, 40]\n",
        "serie = pd.Series(minha_lista, index=['a', 'b', 'c', 'd'], dtype=np.float32)"
      ],
      "metadata": {
        "id": "vnV_Qvc9aHBv"
      },
      "execution_count": null,
      "outputs": []
    },
    {
      "cell_type": "code",
      "source": [
        "serie"
      ],
      "metadata": {
        "id": "O5R5H2S1aN15"
      },
      "execution_count": null,
      "outputs": []
    },
    {
      "cell_type": "markdown",
      "source": [
        "O nome de cada linha (o \"index\" da série) pode ser alterado após a criação da série. Basta atribuirmos um novo valor ao atributo `index`. O mesmo vale para o tipo dos elementos da série. Eles podem ser alterados após a criação da série, utilizando o método `astype`."
      ],
      "metadata": {
        "id": "lGGmll-WaFUo"
      }
    },
    {
      "cell_type": "code",
      "source": [
        "minha_lista = [10, 20, 30, 40]"
      ],
      "metadata": {
        "id": "yEljtwC4a-4e"
      },
      "execution_count": null,
      "outputs": []
    },
    {
      "cell_type": "code",
      "source": [
        "serie = pd.Series(minha_lista)"
      ],
      "metadata": {
        "id": "9JLjqAiGbAtN"
      },
      "execution_count": null,
      "outputs": []
    },
    {
      "cell_type": "code",
      "source": [
        "serie"
      ],
      "metadata": {
        "id": "xNaZoVFhbDDO"
      },
      "execution_count": null,
      "outputs": []
    },
    {
      "cell_type": "code",
      "source": [
        "serie.index = ['a', 'b', 'c', 'd']"
      ],
      "metadata": {
        "id": "AYHNN3BJbE_p"
      },
      "execution_count": null,
      "outputs": []
    },
    {
      "cell_type": "code",
      "source": [
        "serie.astype(np.float32)"
      ],
      "metadata": {
        "id": "-8BgdwTObHS1"
      },
      "execution_count": null,
      "outputs": []
    },
    {
      "cell_type": "markdown",
      "source": [
        "Vale notar, contudo, que a função `astype` retorna uma cópia da série. Ela não salva o resultado dentro da mesma variável que tínhamos. Isso significa que, se formos olhar a variável série novamente, após a última linha do código acima, veríamos que o `dtype` continua sendo `int64`.\n",
        "\n",
        "Uma última propriedade das séries do pandas que podemos controlar é o nome delas."
      ],
      "metadata": {
        "id": "e3qlKz6BbKwc"
      }
    },
    {
      "cell_type": "code",
      "source": [
        "minha_lista = [10, 20, 30, 40]"
      ],
      "metadata": {
        "id": "jh3ENJRmbKVm"
      },
      "execution_count": null,
      "outputs": []
    },
    {
      "cell_type": "code",
      "source": [
        "serie = pd.Series(minha_lista, index=['a', 'b', 'c', 'd'], name='Números')"
      ],
      "metadata": {
        "id": "9-0PTN8EbNbT"
      },
      "execution_count": null,
      "outputs": []
    },
    {
      "cell_type": "code",
      "source": [
        "serie"
      ],
      "metadata": {
        "id": "W5JWdBBjbQKe"
      },
      "execution_count": null,
      "outputs": []
    },
    {
      "cell_type": "markdown",
      "source": [
        "#### Manipulando séries Pandas"
      ],
      "metadata": {
        "id": "5sBKLpaDbff0"
      }
    },
    {
      "cell_type": "markdown",
      "source": [
        "Quando usamos listas básicas do Python, nós podemos querer usar um elemento numa posição específica. Para isso, usamos um índice ao lado da lista, como `lista_valores[3]`, que pega o elemento que se encontra na posição 3 (lembrando que o Python começa a contagem de índices da lista pelo 0).\n",
        "\n",
        "Com uma série do pandas, a ideia é a mesma. Seja para usar um elemento específico, ou para usar um intervalo de valores da série, a sintaxe do pandas é análoga."
      ],
      "metadata": {
        "id": "ctu7g0ohbsbK"
      }
    },
    {
      "cell_type": "code",
      "source": [
        "serie"
      ],
      "metadata": {
        "id": "mt1oM3u4boKz"
      },
      "execution_count": null,
      "outputs": []
    },
    {
      "cell_type": "code",
      "source": [
        "serie['c']"
      ],
      "metadata": {
        "id": "aEbol6DTbwLv"
      },
      "execution_count": null,
      "outputs": []
    },
    {
      "cell_type": "code",
      "source": [
        "serie[['c','a']]   # Se pegarmos vários índices, ele nos retorna uma Série Pandas"
      ],
      "metadata": {
        "id": "8t1DPNrGbyYm"
      },
      "execution_count": null,
      "outputs": []
    },
    {
      "cell_type": "code",
      "source": [
        "serie['a':'c']   # Podemos pegar um slicing pela ordem dos índices"
      ],
      "metadata": {
        "id": "ORKnF4Hib0Ci"
      },
      "execution_count": null,
      "outputs": []
    },
    {
      "cell_type": "markdown",
      "source": [
        "Um outro método para selecionar os elementos é usando as funções `iloc`, que seleciona pela posição do índice (começando do zero), e `loc`, que seleciona pelo índice nomeado."
      ],
      "metadata": {
        "id": "c4Lyr_DNb3GX"
      }
    },
    {
      "cell_type": "code",
      "source": [
        "serie.iloc[2]"
      ],
      "metadata": {
        "id": "rifSCwA-b5E7"
      },
      "execution_count": null,
      "outputs": []
    },
    {
      "cell_type": "code",
      "source": [
        "serie.iloc[1:3]"
      ],
      "metadata": {
        "id": "PJanQHsFb7fA"
      },
      "execution_count": null,
      "outputs": []
    },
    {
      "cell_type": "code",
      "source": [
        "serie.loc['c']"
      ],
      "metadata": {
        "id": "tcdQL__Wb9Dq"
      },
      "execution_count": null,
      "outputs": []
    },
    {
      "cell_type": "code",
      "source": [
        "serie.loc['a':'c']"
      ],
      "metadata": {
        "id": "RXj1Wgwob-ZF"
      },
      "execution_count": null,
      "outputs": []
    },
    {
      "cell_type": "code",
      "source": [
        "serie.loc['c':'a']"
      ],
      "metadata": {
        "id": "DNYHFeXwcALX"
      },
      "execution_count": null,
      "outputs": []
    },
    {
      "cell_type": "markdown",
      "source": [
        "Como não existe índice depois de \"c\" mas antes de \"a\", o resultado da última linha do bloco de código acima foi uma série vazia.\n",
        "\n",
        "Por fim, de forma análoga ao NumPy, nós podemos usar \"filtros lógicos\" (também chamados máscaras booleanas). Eles nada mais são que uma lista (ou `ndarray`, ou `Series`) de valores booleanos. Onde tivermos o valor `True` são as posições dos elementos que queremos utilizar.\n",
        "\n",
        "Podemos selecionar assim apenas os elementos que satisfaçam determinada condição."
      ],
      "metadata": {
        "id": "nQYDkXdicB6r"
      }
    },
    {
      "cell_type": "code",
      "source": [
        "serie"
      ],
      "metadata": {
        "id": "OimODsGGcKtS"
      },
      "execution_count": null,
      "outputs": []
    },
    {
      "cell_type": "code",
      "source": [
        "serie[[True, False, True, False]]"
      ],
      "metadata": {
        "id": "J6IyOpb_cMlT"
      },
      "execution_count": null,
      "outputs": []
    },
    {
      "cell_type": "code",
      "source": [
        "serie[serie > 15]"
      ],
      "metadata": {
        "id": "C2oz5r6DcPH1"
      },
      "execution_count": null,
      "outputs": []
    },
    {
      "cell_type": "markdown",
      "source": [
        "De forma semelhante, podemos passar essa máscara para o método `loc` e obter o mesmo comportamento."
      ],
      "metadata": {
        "id": "Pp_QiOyocQ8k"
      }
    },
    {
      "cell_type": "code",
      "source": [
        "mask = serie > 15"
      ],
      "metadata": {
        "id": "C4cs_uICcSls"
      },
      "execution_count": null,
      "outputs": []
    },
    {
      "cell_type": "code",
      "source": [
        "mask"
      ],
      "metadata": {
        "id": "VyigwWj0cUaK"
      },
      "execution_count": null,
      "outputs": []
    },
    {
      "cell_type": "code",
      "source": [
        "serie.loc[mask]"
      ],
      "metadata": {
        "id": "pXJcnk8TcV2L"
      },
      "execution_count": null,
      "outputs": []
    },
    {
      "cell_type": "markdown",
      "source": [
        "Note que a variável `mask` é uma série do Pandas, resultante da operação `> 15` elemento a elemento. Por trás dos panos, o mesmo estava acontecendo no exemplo anterior."
      ],
      "metadata": {
        "id": "EI5QVwFlcEaL"
      }
    },
    {
      "cell_type": "markdown",
      "source": [
        "#### Métodos e operações"
      ],
      "metadata": {
        "id": "B0BfGpO-TOcC"
      }
    },
    {
      "cell_type": "markdown",
      "source": [
        "Como já dito no texto, o pandas é construído em cima do NumPy. Os objetos fundamentais do pandas sempre tem um ndarray por trás. Por isso, muitas operações do pandas são análogas às do NumPy.\n",
        "\n",
        "As operações matemáticas (`+`, `-`, `*`, `/`, `**`), por exemplo, são realizadas elemento a elemento assim como no NumPy. Uma diferença crucial é que o Pandas faz isso formando pares de elementos com o mesmo índice. Vamos ver um exemplo."
      ],
      "metadata": {
        "id": "5lyBwVeIdUjm"
      }
    },
    {
      "cell_type": "code",
      "source": [
        "serie"
      ],
      "metadata": {
        "id": "t8bm7FCjcZgC"
      },
      "execution_count": null,
      "outputs": []
    },
    {
      "cell_type": "code",
      "source": [
        "values = pd.Series([0.5, 1.0, 1.5, 2.0], index=['b', 'd', 'a', 'c'], dtype=np.float32)"
      ],
      "metadata": {
        "id": "7MpoReKadYlp"
      },
      "execution_count": null,
      "outputs": []
    },
    {
      "cell_type": "code",
      "source": [
        "values"
      ],
      "metadata": {
        "id": "FJgSZgEddZ__"
      },
      "execution_count": null,
      "outputs": []
    },
    {
      "cell_type": "code",
      "source": [
        "serie * values"
      ],
      "metadata": {
        "id": "BbyljOaNdboC"
      },
      "execution_count": null,
      "outputs": []
    },
    {
      "cell_type": "markdown",
      "source": [
        "No exemplo acima, note que os elementos com índice \"a\" são o 10, na variável `serie`, e 1.5, na variável `values`. Logo, o resultado da multiplicação para o índice \"a\" é 15.\n",
        "\n",
        "Se as séries não tiverem o mesmo conjunto de valores nos índices, as operações darão valores absurdos (o pandas não irá levantar um erro ou uma exceção)."
      ],
      "metadata": {
        "id": "bgmhor5dddw7"
      }
    },
    {
      "cell_type": "code",
      "source": [
        "other_values = pd.Series([0.5, 1.0, 1.5, 2.0], dtype=np.float32)"
      ],
      "metadata": {
        "id": "0Rn5_rdudfYK"
      },
      "execution_count": null,
      "outputs": []
    },
    {
      "cell_type": "code",
      "source": [
        "other_values"
      ],
      "metadata": {
        "id": "UhkvwQkvdiAr"
      },
      "execution_count": null,
      "outputs": []
    },
    {
      "cell_type": "code",
      "source": [
        "serie * other_values"
      ],
      "metadata": {
        "id": "HvDnmvmKdjhe"
      },
      "execution_count": null,
      "outputs": []
    },
    {
      "cell_type": "markdown",
      "source": [
        "Todos os valores resultantes no exemplo acima são `NaN` (Not a Number - o que significa que não há resultado ou é inválido), e temos os índices de ambas as séries. Isso porque tentamos multiplicar cada elemento de cada série por um elemento vazio (afinal, o índice \"a\", por exemplo, não existe na série `other_values`, e logo seu valor é \"vazio\").\n",
        "\n",
        "Existem também alguns métodos para operar em cima da série de forma agregada. Eles podem retornar algum valor estatístico dos valores da série (como a média), podem só somar os valores, ou podem retornar um resumo dos dados.\n",
        "\n",
        "Abaixo estão alguns exemplos de métodos que as séries possuem para esse tipo de operação.\n",
        "\n",
        "|  Método          |Descrição                     |\n",
        "|:----------------:|:----------------------------:|\n",
        "|```sum```         |soma os valores               |\n",
        "|```mean```        |média dos valores             |\n",
        "|```std```         |desvio padrão dos valores     |\n",
        "|```mode```        |moda dos valores              |\n",
        "|```max```         |valor máximo na série         |\n",
        "|```min```         |valor mínimo na série         |\n",
        "|```value_counts```|conta repetições de cada valor|\n",
        "|```describe```    |resumo de estatísticas básicas|\n",
        "\n",
        "Veja alguns exemplos abaixo."
      ],
      "metadata": {
        "id": "5BEeJZl0dnhD"
      }
    },
    {
      "cell_type": "code",
      "source": [
        "valores = [1, 1, 2, 3, 5, 8, 13]"
      ],
      "metadata": {
        "id": "xK1bKTs-doQq"
      },
      "execution_count": null,
      "outputs": []
    },
    {
      "cell_type": "code",
      "source": [
        "fibonacci = pd.Series(valores)"
      ],
      "metadata": {
        "id": "o9WLnTuadrBI"
      },
      "execution_count": null,
      "outputs": []
    },
    {
      "cell_type": "code",
      "source": [
        "fibonacci.sum()"
      ],
      "metadata": {
        "id": "BvQ0iQ3PdsTh"
      },
      "execution_count": null,
      "outputs": []
    },
    {
      "cell_type": "code",
      "source": [
        "fibonacci[fibonacci > 4].sum()"
      ],
      "metadata": {
        "id": "erzs0cWrdtnS"
      },
      "execution_count": null,
      "outputs": []
    },
    {
      "cell_type": "code",
      "source": [
        "valores = [1, 1, 0, 0, 1, 0, 1, 1, 1]"
      ],
      "metadata": {
        "id": "ykibG4tZdvNH"
      },
      "execution_count": null,
      "outputs": []
    },
    {
      "cell_type": "code",
      "source": [
        "serie = pd.Series(valores)"
      ],
      "metadata": {
        "id": "0ff2Rb1qdwcd"
      },
      "execution_count": null,
      "outputs": []
    },
    {
      "cell_type": "code",
      "source": [
        "serie.value_counts()"
      ],
      "metadata": {
        "id": "tzl5RRqddxpO"
      },
      "execution_count": null,
      "outputs": []
    },
    {
      "cell_type": "code",
      "source": [
        "serie.describe()"
      ],
      "metadata": {
        "id": "0nFJwAgxdzPi"
      },
      "execution_count": null,
      "outputs": []
    },
    {
      "cell_type": "markdown",
      "source": [
        "Quando as séries são compostas por elementos do tipo \"string\" (`str`, no Python), o pandas entenderá seu `dtype` como sendo `object`.\n",
        "\n",
        "Nestes casos, a série tem um atributo `str`, que permite que façamos operações próprias de strings ao longo dos lementos da série."
      ],
      "metadata": {
        "id": "UZn58pk8d2iW"
      }
    },
    {
      "cell_type": "code",
      "source": [
        "pronomes = pd.Series(['eu', 'tu', 'ele/ela', 'nós', 'vós', 'eles/elas'])"
      ],
      "metadata": {
        "id": "Al_3L769d4at"
      },
      "execution_count": null,
      "outputs": []
    },
    {
      "cell_type": "code",
      "source": [
        "pronomes"
      ],
      "metadata": {
        "id": "dwnBCPXAd5og"
      },
      "execution_count": null,
      "outputs": []
    },
    {
      "cell_type": "code",
      "source": [
        "pronomes.str"
      ],
      "metadata": {
        "id": "8x2FUyGZd7Yd"
      },
      "execution_count": null,
      "outputs": []
    },
    {
      "cell_type": "code",
      "source": [
        "pronomes.str.upper()"
      ],
      "metadata": {
        "id": "wIOJ8gfRd9aJ"
      },
      "execution_count": null,
      "outputs": []
    },
    {
      "cell_type": "markdown",
      "source": [
        "Se tentássemos usar o método `upper` diretamente com a série, veríamos o erro abaixo."
      ],
      "metadata": {
        "id": "Cri7QVrmeAYH"
      }
    },
    {
      "cell_type": "code",
      "source": [
        "pronomes.upper()"
      ],
      "metadata": {
        "id": "C60FhNK3d_8k"
      },
      "execution_count": null,
      "outputs": []
    },
    {
      "cell_type": "markdown",
      "source": [
        "### 2.2. Pandas DataFrame  <a name=\"22dataframe\"></a>\n"
      ],
      "metadata": {
        "id": "lfT5Q8WaSuO9"
      }
    },
    {
      "cell_type": "markdown",
      "source": [
        "O `DataFrame` é uma representação de uma tabela. Ele possui dois eixos rotulados, que são as linhas (rotuladas pelo índice, ou `index`) e as colunas (rotuladas por um objeto índice para o nome das colunas).\n",
        "\n",
        "Existem diversas maneiras de se criar um dataframe, podendo ser a partir de listas, dicionários etc.  \n",
        "Um dos modos mais comuns é a criação a partir da leitura de um arquivo no formato `.csv`, como veremos a seguir para o caso do dataset `titanic`, muito conhecido por quem trabalha com ciência de dados. O dataset pode ser baixado [aqui](https://www.kaggle.com/competitions/titanic/data)."
      ],
      "metadata": {
        "id": "Y2OZdXgRenlj"
      }
    },
    {
      "cell_type": "code",
      "source": [
        "df_titanic = pd.read_csv('https://raw.githubusercontent.com/mwaskom/seaborn-data/master/titanic.csv')"
      ],
      "metadata": {
        "id": "awGbm6Yyef1w"
      },
      "execution_count": null,
      "outputs": []
    },
    {
      "cell_type": "code",
      "source": [
        "print(type(df_titanic))"
      ],
      "metadata": {
        "id": "LnvJylwSesO2"
      },
      "execution_count": null,
      "outputs": []
    },
    {
      "cell_type": "markdown",
      "source": [
        "Note que `df_titanic` é um `DataFrame` com os dados do arquivo `titanic.csv`. Com relação à pasta na qual o código foi executado, este arquivo está localizado em `../datasets/`.\n",
        "\n",
        "Vemos que o parâmetro do método `pd.read_csv` é o nome do arquivo que se deseja ler, com o caminho relativo até o arquivo.\n",
        "\n",
        "Existem diversos parâmetros relevantes. Todos podem ser encontrados na [documentação do Pandas](https://pandas.pydata.org/docs/reference/api/pandas.DataFrame.html).\n",
        "\n",
        "> **Observação:**  \n",
        "> Note que podemos também utilizar um arquivo do formato `.xlsx`, natural do excel.  \n",
        "> Para tanto, devemos utilizar o método `pd.read_excel`.\n",
        ">\n",
        "> É possível também milhares de outros formatos menos comuns, como `.data`, `.txt`, e outros.\n",
        "> O método mais geral para leitura destes formatos é `pd.read_table`.\n",
        "\n",
        "A segunda forma de construir um DataFrame é a partir de variáveis do Python. O primeiro exemplo que veremos é como construir um DataFrame a partir de um dicionário do Python.\n",
        "\n",
        "Este é um método muito útil, pois a estrutura de `dict`, nativa do Python, é bem semelhante à de um `DataFrame`.  \n",
        "\n",
        "Neste caso, cada chave do nosso dicionário se tornará uma **coluna** enquanto os valores (que podem ser elementos de listas, arrays, series...) serão os elementos do dataframe."
      ],
      "metadata": {
        "id": "pNnX_d8xeu8p"
      }
    },
    {
      "cell_type": "code",
      "source": [
        "dicionario = {\n",
        "                    'coluna_A': [1, 2, 3, 4, 5],\n",
        "                    'coluna_B': ['a', 'b', 'c', 'd', 'e'],\n",
        "                    'coluna_C': [0.5, 1.5, 4.5, 6.5, 8.5]\n",
        "                }"
      ],
      "metadata": {
        "id": "FZSP5eFmewDN"
      },
      "execution_count": null,
      "outputs": []
    },
    {
      "cell_type": "code",
      "source": [
        "df = pd.DataFrame(dicionario)"
      ],
      "metadata": {
        "id": "8D3OKvtsezJe"
      },
      "execution_count": null,
      "outputs": []
    },
    {
      "cell_type": "code",
      "source": [
        "df"
      ],
      "metadata": {
        "id": "MOiNKUyNe0gb"
      },
      "execution_count": null,
      "outputs": []
    },
    {
      "cell_type": "markdown",
      "source": [
        "Um outro método, que já vimos antes neste material, é passando uma lista de listas (ou um array bidimensional do NumPy)."
      ],
      "metadata": {
        "id": "b9W7gxuze2Iu"
      }
    },
    {
      "cell_type": "code",
      "source": [
        "dados = [[1.69, 87.0],\n",
        "             [1.59, 56.5],\n",
        "             [1.69, 90.3],\n",
        "             [1.74, 78.6]]"
      ],
      "metadata": {
        "id": "9We1Bvcce4xI"
      },
      "execution_count": null,
      "outputs": []
    },
    {
      "cell_type": "code",
      "source": [
        "df = pd.DataFrame(dados, columns=['altura', 'peso'])"
      ],
      "metadata": {
        "id": "TD3thsUHe6-k"
      },
      "execution_count": null,
      "outputs": []
    },
    {
      "cell_type": "code",
      "source": [
        "df"
      ],
      "metadata": {
        "id": "t0TO1Zble7j1"
      },
      "execution_count": null,
      "outputs": []
    },
    {
      "cell_type": "markdown",
      "source": [
        "Muitas das propriedades das séries Pandas se mantêm para DataFrames. A diferença é que agora, além de um atributo `index` com os nomes das linhas, teremos um segundo atributo `columns` com os nomes das colunas."
      ],
      "metadata": {
        "id": "hxf08nYte-jN"
      }
    },
    {
      "cell_type": "code",
      "source": [
        "df"
      ],
      "metadata": {
        "id": "wrRGG8tsfBhY"
      },
      "execution_count": null,
      "outputs": []
    },
    {
      "cell_type": "code",
      "source": [
        "df.index      # O índice padrão é uma lista de números igualmente espaçados de 0 até o tamanho"
      ],
      "metadata": {
        "id": "_9icUj10fCZo"
      },
      "execution_count": null,
      "outputs": []
    },
    {
      "cell_type": "code",
      "source": [
        "df.columns"
      ],
      "metadata": {
        "id": "_Fz0N-U-fFHM"
      },
      "execution_count": null,
      "outputs": []
    },
    {
      "cell_type": "markdown",
      "source": [
        "#### Manipulando dataframes Pandas"
      ],
      "metadata": {
        "id": "mhFcfKI_SuDW"
      }
    },
    {
      "cell_type": "markdown",
      "source": [
        "As formas de se acessar os valores de um `DataFrame` são análogas ao que vimos antes com séries do pandas. A única diferença é que agora teremos de usar dois índices, a linha e a coluna."
      ],
      "metadata": {
        "id": "o3S5C6IhfvWJ"
      }
    },
    {
      "cell_type": "code",
      "source": [
        "df"
      ],
      "metadata": {
        "id": "V7EtVTxcfYDO"
      },
      "execution_count": null,
      "outputs": []
    },
    {
      "cell_type": "code",
      "source": [
        "df['altura'][1]        # se tentarmos fazer como Python, fazemos [coluna][linha], usando os rótulos"
      ],
      "metadata": {
        "id": "5mInzhoufyaz"
      },
      "execution_count": null,
      "outputs": []
    },
    {
      "cell_type": "code",
      "source": [
        "df.iloc[1, 0]          # No caso do iloc, fazemos [linha, coluna], usando a posição"
      ],
      "metadata": {
        "id": "o_rFiY7Sfz6K"
      },
      "execution_count": null,
      "outputs": []
    },
    {
      "cell_type": "code",
      "source": [
        "df.loc[1, 'altura']    # No caso do loc, fazemos [linha, coluna], usando os rótulos"
      ],
      "metadata": {
        "id": "I3sCWrptf1Oi"
      },
      "execution_count": null,
      "outputs": []
    },
    {
      "cell_type": "markdown",
      "source": [
        "No caso que fizemos `df['altura'][1]`, no fundo estamos primeiro acessando uma série do pandas, `df['altura']`, e depois usando o que vimos na sessão anterior.\n",
        "\n",
        "Se nosso objetivo for selecionar um único elemento, também podemos usar os métodos `iat` e `at`. O método `iat` recebe como argumento a posição do elemento desejado (posição numérica, independente dos nomes das linhas e das colunas). Já o método `at` recebe os rótulos originais das linhas (índices) e das colunas."
      ],
      "metadata": {
        "id": "hioPb2kzf3KD"
      }
    },
    {
      "cell_type": "code",
      "source": [
        "df"
      ],
      "metadata": {
        "id": "-20UfAAGf5rT"
      },
      "execution_count": null,
      "outputs": []
    },
    {
      "cell_type": "code",
      "source": [
        "df.iat[1, 0]        # No caso do iat, acessamos [linha, coluna], usando a posição"
      ],
      "metadata": {
        "id": "fyFcEVmFf7tB"
      },
      "execution_count": null,
      "outputs": []
    },
    {
      "cell_type": "code",
      "source": [
        "df.at[1, 'altura']    # No caso do at, acessamos [linha, coluna], usando os rótulos"
      ],
      "metadata": {
        "id": "Qnj6K9Fvf9ge"
      },
      "execution_count": null,
      "outputs": []
    },
    {
      "cell_type": "markdown",
      "source": [
        "Podemos também selecionar diferentes subconjuntos do DataFrame."
      ],
      "metadata": {
        "id": "xcj8_e-lf_40"
      }
    },
    {
      "cell_type": "code",
      "source": [
        "df"
      ],
      "metadata": {
        "id": "pLbtzpTOgB25"
      },
      "execution_count": null,
      "outputs": []
    },
    {
      "cell_type": "code",
      "source": [
        "dados = [['Fulano',   1.69, 87.0],\n",
        "             ['Sicrana',  1.59, 56.5],\n",
        "             ['Beltrana', 1.69, 90.3],\n",
        "             ['João',     1.74, 78.6]]\n",
        "\n",
        "df = pd.DataFrame(dados, columns=['nomes', 'altura', 'peso'])"
      ],
      "metadata": {
        "id": "LwyvE1UkwSGb"
      },
      "execution_count": null,
      "outputs": []
    },
    {
      "cell_type": "code",
      "source": [
        "df.loc[1:3, ['peso', 'nomes']]"
      ],
      "metadata": {
        "id": "ugAfCaVkgEF3"
      },
      "execution_count": null,
      "outputs": []
    },
    {
      "cell_type": "code",
      "source": [
        "df[['nomes', 'altura']]"
      ],
      "metadata": {
        "id": "Yrtbb5HCgFdS"
      },
      "execution_count": null,
      "outputs": []
    },
    {
      "cell_type": "markdown",
      "source": [
        "Podemos usar máscaras booleanas da mesma forma que fizemos com `Series` no pandas e `ndarray` no NumPy."
      ],
      "metadata": {
        "id": "s8OtwbZFgG_C"
      }
    },
    {
      "cell_type": "code",
      "source": [
        "df"
      ],
      "metadata": {
        "id": "UUwSQp_TgJDk"
      },
      "execution_count": null,
      "outputs": []
    },
    {
      "cell_type": "code",
      "source": [
        "df[df['peso'] > 78.0]"
      ],
      "metadata": {
        "id": "lvA3LDk_gLEE"
      },
      "execution_count": null,
      "outputs": []
    },
    {
      "cell_type": "markdown",
      "source": [
        "Porém, objetos do tipo `DataFrame` possuem também outro método para fazer esse tipo de filtro. Esse é o método `query`, que recebe uma string representando o filtro que queremos."
      ],
      "metadata": {
        "id": "sjsA9JnGgNPz"
      }
    },
    {
      "cell_type": "code",
      "source": [
        "df.query('peso > 78.0')"
      ],
      "metadata": {
        "id": "qXVmXZp1gPPx"
      },
      "execution_count": null,
      "outputs": []
    },
    {
      "cell_type": "markdown",
      "source": [
        "Sempre que nós buscarmos alterar elementos de um `DataFrame`, devemos acessar os elementos a serem alterados através de um método dentre `at`, `iat`, `loc` e `iloc`."
      ],
      "metadata": {
        "id": "vOG8b1odgRZ7"
      }
    },
    {
      "cell_type": "code",
      "source": [
        "df"
      ],
      "metadata": {
        "id": "rIk_Ne9cgRDb"
      },
      "execution_count": null,
      "outputs": []
    },
    {
      "cell_type": "code",
      "source": [
        "df.at[1, 'altura'] = 1.50"
      ],
      "metadata": {
        "id": "D2FP0tCmgWDl"
      },
      "execution_count": null,
      "outputs": []
    },
    {
      "cell_type": "code",
      "source": [
        "df"
      ],
      "metadata": {
        "id": "l1vshRGegXbi"
      },
      "execution_count": null,
      "outputs": []
    },
    {
      "cell_type": "code",
      "source": [
        "df.loc[:2, 'peso'] = [77.2, 64.2, 85.0]"
      ],
      "metadata": {
        "id": "HhVoTAaYgaYY"
      },
      "execution_count": null,
      "outputs": []
    },
    {
      "cell_type": "code",
      "source": [
        "df"
      ],
      "metadata": {
        "id": "md8Jx7IJgb0l"
      },
      "execution_count": null,
      "outputs": []
    },
    {
      "cell_type": "markdown",
      "source": [
        "Uma última manipulação que fazemos com frequência é a criação de colunas novas. A sintaxe relevante se encontra abaixo."
      ],
      "metadata": {
        "id": "Lmg5z2t2gdo-"
      }
    },
    {
      "cell_type": "code",
      "source": [
        "df"
      ],
      "metadata": {
        "id": "aaY2a4DCgfQl"
      },
      "execution_count": null,
      "outputs": []
    },
    {
      "cell_type": "code",
      "source": [
        "df['nomes'] = ['Fulano', 'Sicrana', 'Beltrana', 'João']"
      ],
      "metadata": {
        "id": "klIrOgTngg0D"
      },
      "execution_count": null,
      "outputs": []
    },
    {
      "cell_type": "code",
      "source": [
        "df"
      ],
      "metadata": {
        "id": "84YfFZ1jgh6p"
      },
      "execution_count": null,
      "outputs": []
    },
    {
      "cell_type": "code",
      "source": [
        "df.to_csv('alturas_e_pesos.csv')"
      ],
      "metadata": {
        "id": "EdI2S_vugmM7"
      },
      "execution_count": null,
      "outputs": []
    },
    {
      "cell_type": "markdown",
      "source": [
        "#### Outras transformações e métodos"
      ],
      "metadata": {
        "id": "anegRXV_St09"
      }
    },
    {
      "cell_type": "markdown",
      "source": [
        "Existem diversas outras transformações e métodos que podemos usar com nosso DataFrame. Como exemplo, nós podemos usar os dados contidos em um dataframe como um array do NumPy."
      ],
      "metadata": {
        "id": "nFvdXX0chCpy"
      }
    },
    {
      "cell_type": "code",
      "source": [
        "df"
      ],
      "metadata": {
        "id": "nd_UKKwXg_kK"
      },
      "execution_count": null,
      "outputs": []
    },
    {
      "cell_type": "code",
      "source": [
        "df.drop(columns='nomes').to_numpy() # A função \"drop\" remove as colunas especificadas"
      ],
      "metadata": {
        "id": "7VkypAzFh7hV"
      },
      "execution_count": null,
      "outputs": []
    },
    {
      "cell_type": "code",
      "source": [
        "df.to_numpy()"
      ],
      "metadata": {
        "id": "8XcRNQmXh9Zc"
      },
      "execution_count": null,
      "outputs": []
    },
    {
      "cell_type": "code",
      "source": [
        "df.values  # O atributo \"values\" funciona igual a função to_numpy()."
      ],
      "metadata": {
        "id": "rzcSwdWFh_IS"
      },
      "execution_count": null,
      "outputs": []
    },
    {
      "cell_type": "markdown",
      "source": [
        "É possível também fazer operações matemáticas entre dataframes. No caso, o Pandas sempre vai operar entre células de mesmo índice e mesma coluna."
      ],
      "metadata": {
        "id": "npUtaPqUiA0d"
      }
    },
    {
      "cell_type": "code",
      "source": [
        "dados1 = [[1, 2],\n",
        "          [2, 4],\n",
        "          [3, 6],\n",
        "          [4, 8]]\n",
        "\n",
        "df1 = pd.DataFrame(dados1, columns=['x', 'y'])"
      ],
      "metadata": {
        "id": "JK2sy5W3158g"
      },
      "execution_count": null,
      "outputs": []
    },
    {
      "cell_type": "code",
      "source": [
        "df1"
      ],
      "metadata": {
        "id": "x0CrWuM5iCdH"
      },
      "execution_count": null,
      "outputs": []
    },
    {
      "cell_type": "code",
      "source": [
        "dados2 = [[1, 3],\n",
        "          [2, 6],\n",
        "          [3, 9],\n",
        "          [4, 12]]\n",
        "\n",
        "df2 = pd.DataFrame(dados1, columns=['x', 'y'])"
      ],
      "metadata": {
        "id": "pQ1N5q6t2gI7"
      },
      "execution_count": null,
      "outputs": []
    },
    {
      "cell_type": "code",
      "source": [
        "df2"
      ],
      "metadata": {
        "id": "sOz7xRyWiDtf"
      },
      "execution_count": null,
      "outputs": []
    },
    {
      "cell_type": "code",
      "source": [
        "dados3 = [[1, 3],\n",
        "          [2, 6],\n",
        "          [3, 9],\n",
        "          [4, 12]]\n",
        "\n",
        "df3 = pd.DataFrame(dados1, columns=['a', 'y'])"
      ],
      "metadata": {
        "id": "DtZ-XljMiE-p"
      },
      "execution_count": null,
      "outputs": []
    },
    {
      "cell_type": "code",
      "source": [
        "df1 + df2"
      ],
      "metadata": {
        "id": "zrRpZljBiLTl"
      },
      "execution_count": null,
      "outputs": []
    },
    {
      "cell_type": "code",
      "source": [
        "df1 + df3"
      ],
      "metadata": {
        "id": "bqhu9UE3iMcu"
      },
      "execution_count": null,
      "outputs": []
    },
    {
      "cell_type": "markdown",
      "source": [
        "Além das operações matemáticas, podemos também rearrumar a ordem das linhas da tabela. O método `sort_index` organiza a tabela pelo índice, indo do menor valor para o maior valor, de forma ascendente. Para ordenar de forma descendente, basta colocar `sort_index(ascending=False)`."
      ],
      "metadata": {
        "id": "R7EtDQWWiOIa"
      }
    },
    {
      "cell_type": "code",
      "source": [
        "df"
      ],
      "metadata": {
        "id": "XR6DkBnEiPw3"
      },
      "execution_count": null,
      "outputs": []
    },
    {
      "cell_type": "code",
      "source": [
        "df.sort_index()"
      ],
      "metadata": {
        "id": "1QF7CVu4iRJx"
      },
      "execution_count": null,
      "outputs": []
    },
    {
      "cell_type": "markdown",
      "source": [
        "De forma semelhante, podemos ordenar as linhas através dos valores de uma dada coluna, usando o método `sort_values`. É possível organizar indo do menor para o maior, ou o contrário, usando o parâmetro `ascending`."
      ],
      "metadata": {
        "id": "vA2SL6NqiToT"
      }
    },
    {
      "cell_type": "code",
      "source": [
        "df"
      ],
      "metadata": {
        "id": "M0T4qbC5iVO-"
      },
      "execution_count": null,
      "outputs": []
    },
    {
      "cell_type": "code",
      "source": [
        "df.sort_values('peso')"
      ],
      "metadata": {
        "id": "Dycy8JFdiWwT"
      },
      "execution_count": null,
      "outputs": []
    },
    {
      "cell_type": "code",
      "source": [
        "df.sort_values('peso', ascending=False)"
      ],
      "metadata": {
        "id": "jt4Z1C8WiYJi"
      },
      "execution_count": null,
      "outputs": []
    },
    {
      "cell_type": "markdown",
      "source": [
        "Podemos também reorganizar as colunas. Para isso, a sintaxe mais comum é dada abaixo."
      ],
      "metadata": {
        "id": "DuViKVFaiZg3"
      }
    },
    {
      "cell_type": "code",
      "source": [
        "df"
      ],
      "metadata": {
        "id": "fBIXfw1via1G"
      },
      "execution_count": null,
      "outputs": []
    },
    {
      "cell_type": "code",
      "source": [
        "df[['nomes', 'peso', 'altura']]"
      ],
      "metadata": {
        "id": "vhEld5JAicFF"
      },
      "execution_count": null,
      "outputs": []
    },
    {
      "cell_type": "markdown",
      "source": [
        "## 3. Tratamento e limpeza de dados  <a name=\"3wrangling\"></a>"
      ],
      "metadata": {
        "id": "4Yy2pMTiSn6z"
      }
    },
    {
      "cell_type": "markdown",
      "source": [
        "É muito comum em um conjunto de dados, seja ele proveniente de um banco dados ou de um arquivo `csv`, existirem valores nulos (ou seja, valores inválidos ou vazios).\n",
        "\n",
        "Para fins de análises/modelos é muito importante identificar a incidência desses valores e tomar uma decisão, seja a de remover os valores nulos, ou a de substituí-los. Veremos abaixo como fazer ambos.\n",
        "\n",
        "Identificando Elementos Nulos por Coluna: Identificar a quantidade de valores nulos por coluna é muito importante, pois assim podemos identificar qual ação é mais adequada."
      ],
      "metadata": {
        "id": "OZQCYoBHivQc"
      }
    },
    {
      "cell_type": "code",
      "source": [
        "df"
      ],
      "metadata": {
        "id": "4MHUB558iw2M"
      },
      "execution_count": null,
      "outputs": []
    },
    {
      "cell_type": "code",
      "source": [
        "df.isnull().sum()"
      ],
      "metadata": {
        "id": "ravf6hVqis8I"
      },
      "execution_count": null,
      "outputs": []
    },
    {
      "cell_type": "markdown",
      "source": [
        "Removendo os valores nulos: Para remover os nulos, iremos utilizar o comando `dropna`, como segue:"
      ],
      "metadata": {
        "id": "RzoXB4H6i05Y"
      }
    },
    {
      "cell_type": "code",
      "source": [
        "df"
      ],
      "metadata": {
        "id": "EmLQFI0Oi2Hm"
      },
      "execution_count": null,
      "outputs": []
    },
    {
      "cell_type": "code",
      "source": [
        "df.dropna()"
      ],
      "metadata": {
        "id": "VJ5KjzEBi38S"
      },
      "execution_count": null,
      "outputs": []
    },
    {
      "cell_type": "markdown",
      "source": [
        "Ou seja, ele removeu todas as linhas que contém algum valor nulo.\n",
        "\n",
        "Substituindo valores nulos: Como muitas vezes não queremos diminuir o tamanho do nosso conjunto de dados, então uma abordagem é substituir esses valores (seja pela média dos valores, pela moda etc.).\n",
        "\n",
        "Para fazer isso, podemos utilizar o método `fillna`, em que o parâmetro passado será o valor de substituição. Neste exemplo iremos substituir os valores por `-1`, mas poderia ser qualquer outro valor."
      ],
      "metadata": {
        "id": "76F_ELUei8dJ"
      }
    },
    {
      "cell_type": "code",
      "source": [
        "df"
      ],
      "metadata": {
        "id": "cGB27uUdi5nm"
      },
      "execution_count": null,
      "outputs": []
    },
    {
      "cell_type": "code",
      "source": [
        "df.fillna(-1)"
      ],
      "metadata": {
        "id": "dl1F8zkmi_tQ"
      },
      "execution_count": null,
      "outputs": []
    },
    {
      "cell_type": "markdown",
      "source": [
        "Se quisermos alterar um valor específico na nossa tabela (não apenas o NaN), podemos usar o método `replace`."
      ],
      "metadata": {
        "id": "iLiJT3xojBd3"
      }
    },
    {
      "cell_type": "code",
      "source": [
        "df"
      ],
      "metadata": {
        "id": "NtPjEM-EjC54"
      },
      "execution_count": null,
      "outputs": []
    },
    {
      "cell_type": "code",
      "source": [
        "df.replace(-1, 60)"
      ],
      "metadata": {
        "id": "dLw1ITDPjEQp"
      },
      "execution_count": null,
      "outputs": []
    },
    {
      "cell_type": "markdown",
      "source": [
        "Veja que alteramos os valores de todo o dataframe e não só de uma coluna.\n",
        "\n",
        "Outro tratamento importante é remover duplicatas da nossa tabela."
      ],
      "metadata": {
        "id": "woQSq3f3jGQ5"
      }
    },
    {
      "cell_type": "code",
      "source": [
        "dados_dup = [[1, 0],\n",
        "          [1, 0],\n",
        "          [2, 1],\n",
        "          [2, 2]]\n",
        "\n",
        "df_dup = pd.DataFrame(dados1, columns=['a', 'b'])"
      ],
      "metadata": {
        "id": "5zO7gsCF5NvB"
      },
      "execution_count": null,
      "outputs": []
    },
    {
      "cell_type": "code",
      "source": [
        "df_dup"
      ],
      "metadata": {
        "id": "b4OFmODJjIKp"
      },
      "execution_count": null,
      "outputs": []
    },
    {
      "cell_type": "code",
      "source": [
        "df_dup.drop_duplicates()"
      ],
      "metadata": {
        "id": "_hXfmbGyjJnD"
      },
      "execution_count": null,
      "outputs": []
    },
    {
      "cell_type": "markdown",
      "source": [
        "## 4. Exploração de Dados  <a name=\"4exploratory\"></a>\n",
        "\n",
        "\n",
        "\n"
      ],
      "metadata": {
        "id": "41lSKc2ISK0E"
      }
    },
    {
      "cell_type": "markdown",
      "source": [
        "Podemos aproveitar o Pandas para ajudar na exploração dos dados. Existem diversos métodos para nos ajudar a sumarizar dados e calcular algumas estatísticas descritivas.\n",
        "\n",
        "Como um exemplo, podemos ver a média de cada coluna de um dataframe.\n"
      ],
      "metadata": {
        "id": "mTS-2sKWSS31"
      }
    },
    {
      "cell_type": "markdown",
      "source": [],
      "metadata": {
        "id": "vVr72iKgtavF"
      }
    },
    {
      "cell_type": "code",
      "source": [
        "df"
      ],
      "metadata": {
        "id": "-E_6Zqocja1G"
      },
      "execution_count": null,
      "outputs": []
    },
    {
      "cell_type": "code",
      "source": [
        "df.mean()"
      ],
      "metadata": {
        "id": "V9gp0QXusiYB"
      },
      "execution_count": null,
      "outputs": []
    },
    {
      "cell_type": "markdown",
      "source": [
        "Também podemos achar outras informações, como o maior e o menor valor das colunas."
      ],
      "metadata": {
        "id": "8lhDAZoysj0X"
      }
    },
    {
      "cell_type": "code",
      "source": [
        "df"
      ],
      "metadata": {
        "id": "iYK7hI9GslS5"
      },
      "execution_count": null,
      "outputs": []
    },
    {
      "cell_type": "code",
      "source": [
        "df.min()"
      ],
      "metadata": {
        "id": "2J4BOT16smoC"
      },
      "execution_count": null,
      "outputs": []
    },
    {
      "cell_type": "code",
      "source": [
        "df.max()"
      ],
      "metadata": {
        "id": "D7-J0csbsn__"
      },
      "execution_count": null,
      "outputs": []
    },
    {
      "cell_type": "markdown",
      "source": [
        "Um método muito útil, que reúne várias descrições ao mesmo tempo é o `describe`."
      ],
      "metadata": {
        "id": "7t_5nanHspeb"
      }
    },
    {
      "cell_type": "code",
      "source": [
        "df"
      ],
      "metadata": {
        "id": "R9xUcmOUsqvF"
      },
      "execution_count": null,
      "outputs": []
    },
    {
      "cell_type": "code",
      "source": [
        "df.describe()"
      ],
      "metadata": {
        "id": "pTXQmpajssKW"
      },
      "execution_count": null,
      "outputs": []
    },
    {
      "cell_type": "markdown",
      "source": [
        "Quando estamos fazendo análises em um conjunto de dados, é muito útil saber alguns comportamentos separados por grupos. Para tanto, vamos utilizar o método `groupby` do Pandas.\n",
        "\n",
        "Neste exemplo, iremos analisar as médias de altura e peso por gênero."
      ],
      "metadata": {
        "id": "_kPBNT10stdz"
      }
    },
    {
      "cell_type": "code",
      "source": [
        "dados_5 = [[1.69, 87.0, 0.0, 1],\n",
        "           [1.59, 56.5, 0.0, 0],\n",
        "           [1.69, 90.3, 1.0, 1],\n",
        "           [1.74, 78.6, 1.0, 0]]\n",
        "\n",
        "df = pd.DataFrame(dados_5, columns=['altura', 'peso', 'genero','carioca'])"
      ],
      "metadata": {
        "id": "ZFg5LrSr5lna"
      },
      "execution_count": null,
      "outputs": []
    },
    {
      "cell_type": "code",
      "source": [
        "df"
      ],
      "metadata": {
        "id": "IezTHdW1svBj"
      },
      "execution_count": null,
      "outputs": []
    },
    {
      "cell_type": "code",
      "source": [
        "df.groupby('genero').mean()"
      ],
      "metadata": {
        "id": "YGrc5lWGs8eN"
      },
      "execution_count": null,
      "outputs": []
    },
    {
      "cell_type": "markdown",
      "source": [
        "Também podemos cruzar informações de diferentes tipos de agrupamentos, para avaliar os dados. Para tanto, utilizamos o método `pivot_table`. É possível calcular uma função de agregação para os valores que aparecem no cruzamento também, como média, soma ou máximo."
      ],
      "metadata": {
        "id": "QdqqE_Fjs9w7"
      }
    },
    {
      "cell_type": "code",
      "source": [
        "df"
      ],
      "metadata": {
        "id": "XK2Jkpl_s_na"
      },
      "execution_count": null,
      "outputs": []
    },
    {
      "cell_type": "code",
      "source": [
        "df.pivot_table(index='genero', columns='carioca', values='peso', aggfunc=np.max)"
      ],
      "metadata": {
        "id": "c2LWKMFDtBDZ"
      },
      "execution_count": null,
      "outputs": []
    },
    {
      "cell_type": "code",
      "source": [
        "df.pivot_table(index='genero', columns='carioca', values='peso', aggfunc=np.sum)"
      ],
      "metadata": {
        "id": "Qg5JCbGstPA1"
      },
      "execution_count": null,
      "outputs": []
    },
    {
      "cell_type": "markdown",
      "source": [
        "**Referências:**\n",
        "--------------\n",
        "\n"
      ],
      "metadata": {
        "id": "mtV8M_IvSDiY"
      }
    },
    {
      "cell_type": "markdown",
      "source": [
        "1. <a name=\"1\"></a> pandas: a Foundational Python Library for Data Analysis and Statistics; McKinney, W.; Workshop Python for High Performance and Scientific Computing - PyHPC 2011. Disponível em https://www.dlr.de/sc/Portaldata/15/Resources/dokumente/pyhpc2011/submissions/pyhpc2011_submission_9.pdf.\n",
        "2. <a name=\"2\"></a> Tutorial de instalação do Pandas, disponível em https://pandas.pydata.org/docs/getting_started/install.html.\n",
        "3. <a name=\"3\"></a> Python for Data Analysis: Data Wrangling with pandas, Numpy & Jupyter; McKinney W.; 3 ed., O'Reilly. Disponível em https://wesmckinney.com/book/."
      ],
      "metadata": {
        "id": "14gfkjuPSGNd"
      }
    },
    {
      "cell_type": "code",
      "execution_count": null,
      "metadata": {
        "id": "iiNsUQ-Z5d74"
      },
      "outputs": [],
      "source": []
    }
  ]
}