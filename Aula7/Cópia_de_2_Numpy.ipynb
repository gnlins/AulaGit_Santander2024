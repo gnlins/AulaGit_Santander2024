{
  "cells": [
    {
      "cell_type": "markdown",
      "metadata": {
        "id": "b_QK9FEg1Hq9"
      },
      "source": [
        "# NumPy\n",
        "-------\n",
        "\n",
        "\n",
        "\n",
        "\n",
        "\n",
        "\n"
      ]
    },
    {
      "cell_type": "markdown",
      "metadata": {
        "id": "D_3N5EzcCPZ5"
      },
      "source": [
        "Muitos trabalhos aplicados em empresa envolvem cálculos matemáticos avançados, e por isso precisam se apoiar em alguma biblioteca. Quer trabalhemos com estatística, aprendizado de máquina, processamento de imagem, de texto, de áudio, com otimização, ou até simulação de sistemas reais, uma boa biblioteca matemática é fundamental.\n",
        "\n",
        "No Python, a biblioteca [**NumPy**][NumPy_docs] (abreviação para *Numerical Python* [\\[2\\]](#2)) faz esse papel. Ela é uma poderosíssima biblioteca matemática, e é um dos cernes da computação científica e ciência de dados em Python.\n",
        "\n",
        "Os cálculos realizados pelo NumPy são baseados em operações com os chamados Arrays Multidimensionais (em matemática, chamamos de vetores, matrizes ou tensores). Esses objetos fundamentais da biblioteca são basicamente \"listas de listas de listas de ...\". O NumPy implementa operações nesses objetos de forma eficiente, em uma linguagem de mais baixo nível (linguagem C), o que confere a eles enorme velocidade e eficiência. Nós aproveitamos essa eficiência através da interface amigável que a biblioteca possui em Python.\n",
        "\n",
        "Quando organizamos nosso código para aproveitar as operações do NumPy, é comum dizermos que nós \"vetorizamos\" o nosso código. Isso significa que evitamos loops explícitos no código Python, e reescrevemos tudo usando os arrays do NumPy. Assim, conseguimos aproveitar toda a velocidade das operações \"vetorizadas\", acelerando muito o nossos código.\n",
        "\n",
        "A esmagadora maioria das bibliotecas de Python para computação científica, processamento de dados e ciência de dados (como por exemplo, SciPy, pandas, scikit-learn e statsmodels) se apoiam nas funcionalidades do NumPy [\\[2\\]](#2).\n",
        "\n",
        "\n",
        "    "
      ]
    },
    {
      "cell_type": "markdown",
      "metadata": {
        "id": "7xGwjhkFCRMJ"
      },
      "source": [
        "1. [Instalação](#1instalacao)\n",
        "2. [Introdução ao NumPy](#2introducao)\n",
        "    1. [Cuidados iniciais: Como copiar arrays](#21copiar)\n",
        "    2. [Propriedades de ndarrays](#22propriedades)\n",
        "    3. [Acessando e modificando elementos (Indexing & Slicing)](#23indexing)\n",
        "    4. [Máscara Booleana e Seleção Avançada](#24boolmask)\n",
        "    5. [Métodos built-in de criação de arrays](#25arraycreate)\n",
        "O argumento é o formato do ndarray resultante. [](#)\n",
        "O argumento é o formato do array resultante. [](#)\n",
        "3. [Matemática com NumPy](#3matematica)\n",
        "    1. [Broadcasting](#31broadcasting)\n",
        "    2. [Funções matemáticas](#32funcoesmath)\n",
        "4. [Álgebra Linear e Estatística básica](#4algelinestat)\n",
        "    1. [Álgebra Linear](#41algelin)\n",
        "    2. [Estatística](#42estat)"
      ]
    },
    {
      "cell_type": "markdown",
      "metadata": {
        "id": "2J4kbeX3CMIt"
      },
      "source": [
        "## 1. Instalação  <a name=\"1instalacao\"></a>"
      ]
    },
    {
      "cell_type": "markdown",
      "metadata": {
        "id": "yaYENaG-H9yg"
      },
      "source": [
        "Como falamos antes, o NumPy nada mais é que uma biblioteca do Python. Dito isso, para instalarmos ele, fazemos de forma semelhante a qualquer outra biblioteca Python.\n",
        "\n",
        "Entre as diversas formas de fazer isso, a mais simples é instalar o pacote Anaconda (https://www.anaconda.com/distribution/). Ele já vem com o Python e diversas bibliotecas científicas e de ciência de dados instaladas. Se preferir reinstalar depois, o Anaconda provê também o gerenciador de pacotes Conda, e assim é possível intalar o NumPy através do terminal.\n"
      ]
    },
    {
      "cell_type": "code",
      "execution_count": null,
      "metadata": {
        "id": "dz-rAr7AICPi"
      },
      "outputs": [],
      "source": [
        "#$ conda install numpy"
      ]
    },
    {
      "cell_type": "markdown",
      "metadata": {
        "id": "xn0do273IA7d"
      },
      "source": [
        "Caso prefira, você também pode instalar via o gerenciador de pacotes nativo do Python, o `pip`.  Para isso, utilizamos o comando abaixo via terminal."
      ]
    },
    {
      "cell_type": "code",
      "execution_count": null,
      "metadata": {
        "id": "6Eu6hIvmIGr3"
      },
      "outputs": [],
      "source": [
        "#$ pip install numpy"
      ]
    },
    {
      "cell_type": "markdown",
      "metadata": {
        "id": "nbaWSmROIOWD"
      },
      "source": [
        "Para quem for usuário com maior conhecimento de programação e computação científica, recomenda-se uma lida nas [instruções de instalação mais detalhadas do NumPy][NumPy_install].\n",
        "\n",
        "O maior motivo para isso é o fato de que, por trás dos panos, o NumPy utiliza as chamadas \"bibliotecas de álgebra linear acelerada\", que pode ser tanto a biblioteca Intel MKL quanto a biblioteca OpenBLAS. Em algumas situações, é importante escolher qual das duas será usada pela sua instalação do NumPy.\n",
        "\n",
        "Embora existam questões de performance computacionais para essa escolha, existem também motivos de negócio. A biblioteca Intel MKL não é de código fonte aberto, e sua licença pode não permitir alguns tipos de distribuição do código que você esteja desenvolvendo com o NumPy."
      ]
    },
    {
      "cell_type": "markdown",
      "metadata": {
        "id": "Veo6jPeLCIjf"
      },
      "source": [
        "## 2. Introdução ao NumPy  <a name=\"2introducao\"></a>\n",
        "\n"
      ]
    },
    {
      "cell_type": "markdown",
      "metadata": {
        "id": "DcKEbcDPO_MS"
      },
      "source": [
        "A primeira coisa que precisamos fazer para usar o NumPy em um código, é importar a biblioteca. A importação funciona como qualquer outra biblioteca Python, porém o alias `np` para a biblioteca é amplamente utilizado pela comunidade de usuários do Python. A importação então é sempre feita da forma abaixo."
      ]
    },
    {
      "cell_type": "code",
      "execution_count": null,
      "metadata": {
        "id": "-C3PZtsxO9hU"
      },
      "outputs": [],
      "source": [
        "import numpy as np"
      ]
    },
    {
      "cell_type": "markdown",
      "metadata": {
        "id": "PMZyb3W3PC4x"
      },
      "source": [
        "Com esse alias, o nosso código fica bem menor, facilitando para outras pessoas entenderem ele depois. Como o alias é comum na comunidade, ele também não gera confusões, e permite sabermos sempre quando alguma operação feita é nativa do NumPy.\n",
        "\n",
        "Na introdução, comentamos que a estrutura de dados básica do NumPy é um \"array multidimensional\". Esse objeto do NumPy se chama **ndarray**. Um mnemônico para ajudar a lembrar é lembrar pensar em \"N Dimensões ARRAY\", ou \"NDARRAY\". Basta lembrar que o \"nd\" significa \"n-dimensional\", pois também podemos ter tabelas multidimensionais.\n",
        "\n",
        "Essa estrutura é semelhante aos arrays de outras linguagens de programação. Pode ser uma lista de valores, uma tabela, ou uma tabela de tabelas. O importante é que todos os valores são do mesmo \"tipo\". Se um deles é um número inteiro, todos serão. Se um deles for um float, todos serão. Esse tipo é chamado de **dtype**, e é, inclusive, um atributo de objetos arrays do NumPy.\n",
        "\n",
        "O mais comum é usarmos ndarrays como listas ou tabelas de valores.\n",
        "\n",
        "No caso de uma lista, nós temos um ndarray de uma dimensão. Matematicamente, esse objeto é equivalente a um vetor.\n",
        "\n",
        "O método mais comum de criar um ndarray é usando a função `np.array`. Assim, para criar nosso \"vetor\", usamos o comando abaixo."
      ]
    },
    {
      "cell_type": "code",
      "execution_count": 2,
      "metadata": {
        "id": "0afPoZrZPEuE"
      },
      "outputs": [
        {
          "name": "stdout",
          "output_type": "stream",
          "text": [
            "[1 2 3]\n"
          ]
        }
      ],
      "source": [
        "vetor = np.array([1, 2, 3])\n",
        "print(vetor)"
      ]
    },
    {
      "cell_type": "code",
      "execution_count": 5,
      "metadata": {},
      "outputs": [
        {
          "data": {
            "text/plain": [
              "3"
            ]
          },
          "execution_count": 5,
          "metadata": {},
          "output_type": "execute_result"
        }
      ],
      "source": [
        "vetor[2]"
      ]
    },
    {
      "cell_type": "markdown",
      "metadata": {
        "id": "0jz9SKuePGFU"
      },
      "source": [
        "Se olharmos o tipo da variável `vetor`, veremos que ela é do tipo `NumPy.ndarray`."
      ]
    },
    {
      "cell_type": "code",
      "execution_count": 3,
      "metadata": {
        "id": "3Y6GIMgaPII6"
      },
      "outputs": [
        {
          "name": "stdout",
          "output_type": "stream",
          "text": [
            "<class 'numpy.ndarray'>\n"
          ]
        }
      ],
      "source": [
        "print(type(vetor))"
      ]
    },
    {
      "cell_type": "markdown",
      "metadata": {
        "id": "n2ckjfVTPJz0"
      },
      "source": [
        "Podemos criar também uma tabela com duas dimensões. Nesse caso, temos uma matriz."
      ]
    },
    {
      "cell_type": "code",
      "execution_count": 6,
      "metadata": {
        "id": "5nLBvhURPMFU"
      },
      "outputs": [
        {
          "name": "stdout",
          "output_type": "stream",
          "text": [
            "[[1 2]\n",
            " [3 4]]\n"
          ]
        }
      ],
      "source": [
        "matriz = np.array([[1, 2], [3, 4]])\n",
        "print(matriz)"
      ]
    },
    {
      "cell_type": "markdown",
      "metadata": {
        "id": "2p3nJuJqPNzI"
      },
      "source": [
        "É possível, também, aumentar o número de dimensões. Nesse caso, se tivermos 3 dimensões, por exemplo, teríamos uma lista de tabelas. Se forem 4 dimensões, então temos uma tabela cujos elementos são tabelas. Assim, quanto mais dimensões, nós vamos empilhando em uma lista objetos com menos dimensões. Se forem 5 dimensões, temos uma lista de ndarrays de 4 dimensões (ou uma lista de tabelas de tabelas).\n",
        "\n",
        "Matematicamente, quando temos 3 dimensões ou mais, é comum nos referirmos a esse objeto como um *tensor*."
      ]
    },
    {
      "cell_type": "code",
      "execution_count": 7,
      "metadata": {
        "id": "vrER5aqHPRKN"
      },
      "outputs": [
        {
          "name": "stdout",
          "output_type": "stream",
          "text": [
            "[[[1 2]\n",
            "  [3 4]]\n",
            "\n",
            " [[1 0]\n",
            "  [0 1]]]\n"
          ]
        }
      ],
      "source": [
        "tensor = np.array([[[1, 2], [3, 4]], [[1, 0],[0, 1]]])\n",
        "print(tensor)"
      ]
    },
    {
      "cell_type": "markdown",
      "metadata": {
        "id": "tYjjRfMKPUPY"
      },
      "source": [
        "Note que a variável `tensor` nada mais é que duas tabelas.\n",
        "\n",
        "Uma representação visual de ndarrays podem ajudar a entender melhor o que está acontecendo.\n",
        "\n",
        "![NumPy_ndarray](https://s3-sa-east-1.amazonaws.com/lcpi/b50bd331-732b-48a4-9d46-01f20c15ab29.png \"ndarrays\"){width=\"400\" height=\"450\"}\n",
        "\n",
        "(**Fonte:** Imagem adaptada da original, disponível pela ABRACD [\\[5\\]](#5))\n",
        "\n",
        "O *ndarray* é a estrutura de dados básica do NumPy, e a que usaremos sempre. A partir dela que toda a \"matemágica\" acontece. Todo o poder do NumPy vem da implementação desse tipo de array e as operações relacionadas, que são mais eficientes que usar variáveis do tipo `list` em Python (embora ndarrays sejam menos flexíveis).\n",
        "\n",
        "Esses objetos também são muito comuns em matemática, pois representam basicamente vetores e matrizes. Assim, é bem direto \"vetorizar\" nosso código escrevendo-o de forma bem parecida com como faríamos em notação matemática.\n",
        "\n",
        "Obs: Falamos antes também de tensores. Não é importante entender o que eles são para poder usar o NumPy. Apenas cálculos muito específicos se utilizam da matemática de tensores. Para a maioria dos casos, basta ter a visão que demos acima, sobre como eles são basicamente \"matrizes com 3 ou mais dimensões\", que pode ser facilmente entendido como “mais ou 3 índices”. Isso é, sempre que tivermos algum objeto com 3 índices, sabemos que é um 3-tensor. Isso significa que eles podem ser uma lista de tabelas, uma tabela de tabelas, uma lista de tabelas de tabelas, uma tabela de tabelas de tabelas, e por aí vai..."
      ]
    },
    {
      "cell_type": "markdown",
      "metadata": {
        "id": "ZQC2iapJCD2H"
      },
      "source": [
        "### 2.1. Cuidados iniciais: Como copiar arrays  <a name=\"21copiar\"></a>"
      ]
    },
    {
      "cell_type": "markdown",
      "metadata": {
        "id": "EMCjWPJ4Omad"
      },
      "source": [
        "Antes de começar a ver as propriedades básicas de um ndarray, é importante ter uma questão muito importante em mente. Assim como os arrays nativos do Python, devido à forma como o NumPy trabalha com ndarrays na memória do computador, eles se comportam da forma mostrada abaixo."
      ]
    },
    {
      "cell_type": "code",
      "execution_count": 8,
      "metadata": {
        "id": "jt_lUnGQOZkc"
      },
      "outputs": [
        {
          "data": {
            "text/plain": [
              "array([1, 2, 3])"
            ]
          },
          "execution_count": 8,
          "metadata": {},
          "output_type": "execute_result"
        }
      ],
      "source": [
        "a = np.array([1, 2, 3])\n",
        "b = a\n",
        "b"
      ]
    },
    {
      "cell_type": "code",
      "execution_count": 9,
      "metadata": {},
      "outputs": [
        {
          "data": {
            "text/plain": [
              "array([1, 2, 3])"
            ]
          },
          "execution_count": 9,
          "metadata": {},
          "output_type": "execute_result"
        }
      ],
      "source": [
        "a"
      ]
    },
    {
      "cell_type": "code",
      "execution_count": 10,
      "metadata": {
        "id": "hMEmMD5qOrwj"
      },
      "outputs": [
        {
          "data": {
            "text/plain": [
              "array([100,   2,   3])"
            ]
          },
          "execution_count": 10,
          "metadata": {},
          "output_type": "execute_result"
        }
      ],
      "source": [
        "b[0] = 100\n",
        "b"
      ]
    },
    {
      "cell_type": "code",
      "execution_count": 11,
      "metadata": {
        "id": "j_ecRlI1OtOx"
      },
      "outputs": [
        {
          "data": {
            "text/plain": [
              "array([100,   2,   3])"
            ]
          },
          "execution_count": 11,
          "metadata": {},
          "output_type": "execute_result"
        }
      ],
      "source": [
        "a"
      ]
    },
    {
      "cell_type": "markdown",
      "metadata": {
        "id": "i1DGyHxuOvND"
      },
      "source": [
        "Note que no bloco de código, a variável `a` foi modificada depois que alteramos a variável `b`! Isso acontece porque ambas as variáveis apontam para o mesmo endereço de memória do computador. Quando fazemos `b[0] = 100`, estamos alterando o valor do primeiro elemento de `b` na memória. Como `a[0]` aponta para o mesmo lugar na memória, ele vai passar a ver o valor novo. Logo, teremos que seu valor será `100`.\n",
        "\n",
        "Por este motivo, sempre que queremos copiar um array de uma variável para outra, usamos o método `copy()`."
      ]
    },
    {
      "cell_type": "code",
      "execution_count": 12,
      "metadata": {
        "id": "hIeKwc8lOxd9"
      },
      "outputs": [
        {
          "data": {
            "text/plain": [
              "array([1, 2, 3])"
            ]
          },
          "execution_count": 12,
          "metadata": {},
          "output_type": "execute_result"
        }
      ],
      "source": [
        "a = np.array([1, 2, 3])\n",
        "b = a.copy()\n",
        "b"
      ]
    },
    {
      "cell_type": "code",
      "execution_count": 13,
      "metadata": {
        "id": "b3pIaXqlOzHa"
      },
      "outputs": [
        {
          "data": {
            "text/plain": [
              "array([100,   2,   3])"
            ]
          },
          "execution_count": 13,
          "metadata": {},
          "output_type": "execute_result"
        }
      ],
      "source": [
        "b[0] = 100\n",
        "b"
      ]
    },
    {
      "cell_type": "code",
      "execution_count": 14,
      "metadata": {
        "id": "BNHBgcV3O0Uc"
      },
      "outputs": [
        {
          "data": {
            "text/plain": [
              "array([1, 2, 3])"
            ]
          },
          "execution_count": 14,
          "metadata": {},
          "output_type": "execute_result"
        }
      ],
      "source": [
        "a"
      ]
    },
    {
      "cell_type": "markdown",
      "metadata": {
        "id": "q8UYSWERO1xt"
      },
      "source": [
        "O método `copy()` copia todos os valores do array para um novo endereço de memória. Assim, a variável `b` passa a apontar para esse novo endereço, e evitamos o problema anterior."
      ]
    },
    {
      "cell_type": "markdown",
      "metadata": {
        "id": "jzj2b2rLB_ln"
      },
      "source": [
        "### 2.2. Propriedades de ndarrays  <a name=\"22propriedades\"></a>\n"
      ]
    },
    {
      "cell_type": "markdown",
      "metadata": {
        "id": "pC4laugFNUPy"
      },
      "source": [
        "#### Dimensão e formato"
      ]
    },
    {
      "cell_type": "markdown",
      "metadata": {
        "id": "W9RiEW31NXKg"
      },
      "source": [
        "Como vimos antes, é possível criar um ndarray com diferentes dimensões e formatos. Cada ndarray tem os atributos `ndim` e `shape` que guardam estas informações. Logo, para sabermos como é o nosso array, basta acessar esses atributos."
      ]
    },
    {
      "cell_type": "code",
      "execution_count": 15,
      "metadata": {},
      "outputs": [
        {
          "data": {
            "text/plain": [
              "array([1, 2, 3])"
            ]
          },
          "execution_count": 15,
          "metadata": {},
          "output_type": "execute_result"
        }
      ],
      "source": [
        "vetor"
      ]
    },
    {
      "cell_type": "code",
      "execution_count": 16,
      "metadata": {
        "id": "3wSTLpV4NPTx"
      },
      "outputs": [
        {
          "name": "stdout",
          "output_type": "stream",
          "text": [
            "1\n",
            "(3,)\n"
          ]
        }
      ],
      "source": [
        "print(vetor.ndim)\n",
        "\n",
        "print(vetor.shape)"
      ]
    },
    {
      "cell_type": "code",
      "execution_count": 17,
      "metadata": {},
      "outputs": [
        {
          "data": {
            "text/plain": [
              "array([[1, 2],\n",
              "       [3, 4]])"
            ]
          },
          "execution_count": 17,
          "metadata": {},
          "output_type": "execute_result"
        }
      ],
      "source": [
        "matriz"
      ]
    },
    {
      "cell_type": "code",
      "execution_count": 19,
      "metadata": {},
      "outputs": [],
      "source": [
        "matriz_2 = np.array([[1,2,3],[4,5,6]])"
      ]
    },
    {
      "cell_type": "code",
      "execution_count": 20,
      "metadata": {},
      "outputs": [
        {
          "name": "stdout",
          "output_type": "stream",
          "text": [
            "2\n",
            "(2, 3)\n"
          ]
        }
      ],
      "source": [
        "print(matriz_2.ndim)\n",
        "print(matriz_2.shape)"
      ]
    },
    {
      "cell_type": "code",
      "execution_count": 21,
      "metadata": {
        "id": "Nx-nMo_KNa37"
      },
      "outputs": [
        {
          "name": "stdout",
          "output_type": "stream",
          "text": [
            "2\n",
            "(2, 2)\n"
          ]
        }
      ],
      "source": [
        "print(matriz.ndim)\n",
        "print(matriz.shape)"
      ]
    },
    {
      "cell_type": "code",
      "execution_count": 23,
      "metadata": {},
      "outputs": [
        {
          "data": {
            "text/plain": [
              "array([[[1, 2],\n",
              "        [3, 4]],\n",
              "\n",
              "       [[1, 0],\n",
              "        [0, 1]]])"
            ]
          },
          "execution_count": 23,
          "metadata": {},
          "output_type": "execute_result"
        }
      ],
      "source": [
        "tensor"
      ]
    },
    {
      "cell_type": "code",
      "execution_count": 24,
      "metadata": {},
      "outputs": [],
      "source": [
        "tensor_2 = np.array([[[1,2,3],[4,5,6]],[[1,2,3],[4,5,6]]])"
      ]
    },
    {
      "cell_type": "code",
      "execution_count": 26,
      "metadata": {},
      "outputs": [
        {
          "data": {
            "text/plain": [
              "array([[[1, 2, 3],\n",
              "        [4, 5, 6]],\n",
              "\n",
              "       [[1, 2, 3],\n",
              "        [4, 5, 6]]])"
            ]
          },
          "execution_count": 26,
          "metadata": {},
          "output_type": "execute_result"
        }
      ],
      "source": [
        "tensor_2"
      ]
    },
    {
      "cell_type": "code",
      "execution_count": 25,
      "metadata": {},
      "outputs": [
        {
          "name": "stdout",
          "output_type": "stream",
          "text": [
            "3\n",
            "(2, 2, 3)\n"
          ]
        }
      ],
      "source": [
        "print(tensor_2.ndim)\n",
        "print(tensor_2.shape)"
      ]
    },
    {
      "cell_type": "code",
      "execution_count": 30,
      "metadata": {},
      "outputs": [
        {
          "data": {
            "text/plain": [
              "array([[[1, 2, 3],\n",
              "        [4, 5, 6]],\n",
              "\n",
              "       [[1, 2, 3],\n",
              "        [4, 5, 6]]])"
            ]
          },
          "execution_count": 30,
          "metadata": {},
          "output_type": "execute_result"
        }
      ],
      "source": [
        "tensor_2"
      ]
    },
    {
      "cell_type": "code",
      "execution_count": 31,
      "metadata": {},
      "outputs": [
        {
          "data": {
            "text/plain": [
              "6"
            ]
          },
          "execution_count": 31,
          "metadata": {},
          "output_type": "execute_result"
        }
      ],
      "source": [
        "tensor_2[0,1,2]"
      ]
    },
    {
      "cell_type": "code",
      "execution_count": 22,
      "metadata": {
        "id": "zNMQni5HNcMN"
      },
      "outputs": [
        {
          "name": "stdout",
          "output_type": "stream",
          "text": [
            "3\n",
            "(2, 2, 2)\n"
          ]
        }
      ],
      "source": [
        "print(tensor.ndim)\n",
        "print(tensor.shape)"
      ]
    },
    {
      "cell_type": "markdown",
      "metadata": {
        "id": "WlukcghTNd35"
      },
      "source": [
        "Isso é extremamente importante para nos ajudar quando temos um ndarray muito grande, e precisamos relembrar o quão grande. Além disso, esses atributos também nos ajudam quando queremos criar funções genéricas que atuem em ndarrays.\n",
        "\n",
        "A partir do formato do array, podemos obter também o número de elementos. Porém, objetos ndarray já têm o atributo `size` para facilitar."
      ]
    },
    {
      "cell_type": "code",
      "execution_count": 32,
      "metadata": {
        "id": "CFrx0MRFNgE6"
      },
      "outputs": [
        {
          "name": "stdout",
          "output_type": "stream",
          "text": [
            "3\n",
            "4\n",
            "8\n"
          ]
        }
      ],
      "source": [
        "print(vetor.size)\n",
        "print(matriz.size)\n",
        "print(tensor.size)"
      ]
    },
    {
      "cell_type": "markdown",
      "metadata": {
        "id": "yZaqgsI0NhoV"
      },
      "source": [
        "Muitas vezes queremos mudar o formato de um array. Por exemplo, podemos querer transformar um vetor de 4 elementos em uma matriz 2x2. Para isso, utilizamos a função `reshape`."
      ]
    },
    {
      "cell_type": "code",
      "execution_count": 35,
      "metadata": {},
      "outputs": [],
      "source": [
        "before_vector = np.array([1,2,3,4])"
      ]
    },
    {
      "cell_type": "code",
      "execution_count": 38,
      "metadata": {},
      "outputs": [
        {
          "name": "stdout",
          "output_type": "stream",
          "text": [
            "[1 2 3 4]\n",
            "(4,)\n",
            "1\n"
          ]
        }
      ],
      "source": [
        "print(before_vector)\n",
        "print(before_vector.shape)\n",
        "print(before_vector.ndim)"
      ]
    },
    {
      "cell_type": "code",
      "execution_count": 47,
      "metadata": {},
      "outputs": [],
      "source": [
        "before_vector_2 = np.array([1,2,3,4,5,6])"
      ]
    },
    {
      "cell_type": "code",
      "execution_count": 48,
      "metadata": {},
      "outputs": [
        {
          "data": {
            "text/plain": [
              "array([[1, 2, 3],\n",
              "       [4, 5, 6]])"
            ]
          },
          "execution_count": 48,
          "metadata": {},
          "output_type": "execute_result"
        }
      ],
      "source": [
        "before_vector_2.reshape(2,3)"
      ]
    },
    {
      "cell_type": "code",
      "execution_count": 39,
      "metadata": {},
      "outputs": [],
      "source": [
        "after_vector = before_vector.reshape(2,2)"
      ]
    },
    {
      "cell_type": "code",
      "execution_count": 43,
      "metadata": {},
      "outputs": [
        {
          "data": {
            "text/plain": [
              "array([[1, 2],\n",
              "       [3, 4]])"
            ]
          },
          "execution_count": 43,
          "metadata": {},
          "output_type": "execute_result"
        }
      ],
      "source": [
        "after_vector"
      ]
    },
    {
      "cell_type": "code",
      "execution_count": 42,
      "metadata": {},
      "outputs": [
        {
          "data": {
            "text/plain": [
              "(2, 2)"
            ]
          },
          "execution_count": 42,
          "metadata": {},
          "output_type": "execute_result"
        }
      ],
      "source": [
        "after_vector.shape"
      ]
    },
    {
      "cell_type": "code",
      "execution_count": 49,
      "metadata": {
        "id": "TlK6K_MoNj42"
      },
      "outputs": [
        {
          "name": "stdout",
          "output_type": "stream",
          "text": [
            "(2, 4)\n"
          ]
        }
      ],
      "source": [
        "before = np.array([[1,2,3,4],[5,6,7,8]])\n",
        "print(before.shape)"
      ]
    },
    {
      "cell_type": "code",
      "execution_count": 53,
      "metadata": {
        "id": "mvZej-rONliX"
      },
      "outputs": [
        {
          "data": {
            "text/plain": [
              "array([1, 2, 3, 4, 5, 6, 7, 8])"
            ]
          },
          "execution_count": 53,
          "metadata": {},
          "output_type": "execute_result"
        }
      ],
      "source": [
        "after = before.reshape((8)) # o novo array deve ter a mesma quantidade de elementos\n",
        "after"
      ]
    },
    {
      "cell_type": "code",
      "execution_count": 54,
      "metadata": {
        "id": "ijxGwccVNrRa"
      },
      "outputs": [
        {
          "data": {
            "text/plain": [
              "array([[1],\n",
              "       [2],\n",
              "       [3],\n",
              "       [4],\n",
              "       [5],\n",
              "       [6],\n",
              "       [7],\n",
              "       [8]])"
            ]
          },
          "execution_count": 54,
          "metadata": {},
          "output_type": "execute_result"
        }
      ],
      "source": [
        "after = before.reshape((8, 1))\n",
        "after"
      ]
    },
    {
      "cell_type": "code",
      "execution_count": 55,
      "metadata": {
        "id": "xEG9cGKbNtPR"
      },
      "outputs": [
        {
          "data": {
            "text/plain": [
              "array([[[1, 2],\n",
              "        [3, 4]],\n",
              "\n",
              "       [[5, 6],\n",
              "        [7, 8]]])"
            ]
          },
          "execution_count": 55,
          "metadata": {},
          "output_type": "execute_result"
        }
      ],
      "source": [
        "after = before.reshape(2, 2, 2)\n",
        "after"
      ]
    },
    {
      "cell_type": "markdown",
      "metadata": {
        "id": "GZ1zHtpbNwnq"
      },
      "source": [
        "Outra forma de obter arrays com dimensões ou formatos diferentes é juntar e empilhar arrays. Podemos tanto empilhar um array em cima do outro (um \"empilhamento vertical\") usando a função `np.vstack`, quanto tentar colocar um ao lado do outro (um \"empilhamento horizontal\") usando a função `np.hstack`."
      ]
    },
    {
      "cell_type": "code",
      "execution_count": 56,
      "metadata": {
        "id": "mpuGYOVfNzHK"
      },
      "outputs": [
        {
          "data": {
            "text/plain": [
              "array([[1, 2, 3, 4],\n",
              "       [5, 6, 7, 8]])"
            ]
          },
          "execution_count": 56,
          "metadata": {},
          "output_type": "execute_result"
        }
      ],
      "source": [
        "v1 = np.array([1,2,3,4])\n",
        "v2 = np.array([5,6,7,8])\n",
        "np.vstack([v1, v2])"
      ]
    },
    {
      "cell_type": "code",
      "execution_count": 58,
      "metadata": {},
      "outputs": [
        {
          "data": {
            "text/plain": [
              "array([1, 2, 3, 4, 5, 6, 7, 8])"
            ]
          },
          "execution_count": 58,
          "metadata": {},
          "output_type": "execute_result"
        }
      ],
      "source": [
        "np.hstack((v1, v2))"
      ]
    },
    {
      "cell_type": "code",
      "execution_count": 59,
      "metadata": {},
      "outputs": [
        {
          "data": {
            "text/plain": [
              "array([ 6,  8, 10, 12])"
            ]
          },
          "execution_count": 59,
          "metadata": {},
          "output_type": "execute_result"
        }
      ],
      "source": [
        "v1 + v2"
      ]
    },
    {
      "cell_type": "code",
      "execution_count": 57,
      "metadata": {
        "id": "2ydTxzzYN09V"
      },
      "outputs": [
        {
          "data": {
            "text/plain": [
              "array([[1, 2, 3, 4],\n",
              "       [5, 6, 7, 8],\n",
              "       [5, 6, 7, 8],\n",
              "       [5, 6, 7, 8]])"
            ]
          },
          "execution_count": 57,
          "metadata": {},
          "output_type": "execute_result"
        }
      ],
      "source": [
        "np.vstack([v1, v2, v2, v2])"
      ]
    },
    {
      "cell_type": "code",
      "execution_count": 60,
      "metadata": {
        "id": "aU-C0kFAN3Fa"
      },
      "outputs": [],
      "source": [
        "h1 = np.array([[1, 1, 1, 1],\n",
        "                   [1, 1, 1, 1]])"
      ]
    },
    {
      "cell_type": "code",
      "execution_count": 63,
      "metadata": {},
      "outputs": [
        {
          "data": {
            "text/plain": [
              "array([[1, 1, 1, 1],\n",
              "       [1, 1, 1, 1]])"
            ]
          },
          "execution_count": 63,
          "metadata": {},
          "output_type": "execute_result"
        }
      ],
      "source": [
        "h1"
      ]
    },
    {
      "cell_type": "code",
      "execution_count": 61,
      "metadata": {
        "id": "uDmYY2LcN4dV"
      },
      "outputs": [],
      "source": [
        "h2 = np.zeros((2,2))"
      ]
    },
    {
      "cell_type": "code",
      "execution_count": 64,
      "metadata": {},
      "outputs": [
        {
          "data": {
            "text/plain": [
              "array([[0., 0.],\n",
              "       [0., 0.]])"
            ]
          },
          "execution_count": 64,
          "metadata": {},
          "output_type": "execute_result"
        }
      ],
      "source": [
        "h2"
      ]
    },
    {
      "cell_type": "code",
      "execution_count": 65,
      "metadata": {
        "id": "hgBS8gwdN56q"
      },
      "outputs": [
        {
          "data": {
            "text/plain": [
              "array([[0., 0., 1., 1., 1., 1.],\n",
              "       [0., 0., 1., 1., 1., 1.]])"
            ]
          },
          "execution_count": 65,
          "metadata": {},
          "output_type": "execute_result"
        }
      ],
      "source": [
        "np.hstack((h2,h1))"
      ]
    },
    {
      "cell_type": "markdown",
      "metadata": {
        "id": "6YuPv8rLN8qx"
      },
      "source": [
        "É comum falarmos de cada dimensão de um ndarray como um \"eixo\". Assim, se um ndarray tem 3 dimensões, nós podemos falar da \"1ª dimensão do array\" (o eixo 0 do array), da \"2ª dimensão do array\" (o eixo 1 do array) e da \"3ª dimensão do array\" (eixo 2 do array). Assim, um ndarray com formato `(3, 3, 2)` seria uma lista ao longo do seu primeiro eixo (eixo 0). Essa lista seria composta por 3 matrizes de tamanho 3 x 2. De forma totalmente equivalente, a gente poderia pensar que ele é uma lista com 2 matrizes 3 x 3 ao longo do seu terceiro eixo (eixo 2)."
      ]
    },
    {
      "cell_type": "code",
      "execution_count": 66,
      "metadata": {
        "id": "PdMMPs6SN_B2"
      },
      "outputs": [
        {
          "data": {
            "text/plain": [
              "array([[[ 0,  1],\n",
              "        [ 2,  3],\n",
              "        [ 4,  5]],\n",
              "\n",
              "       [[ 6,  7],\n",
              "        [ 8,  9],\n",
              "        [10, 11]],\n",
              "\n",
              "       [[12, 13],\n",
              "        [14, 15],\n",
              "        [16, 17]]])"
            ]
          },
          "execution_count": 66,
          "metadata": {},
          "output_type": "execute_result"
        }
      ],
      "source": [
        "a = np.array(range(18))\n",
        "b = a.reshape((3, 3, 2)).copy()\n",
        "b"
      ]
    },
    {
      "cell_type": "markdown",
      "metadata": {
        "id": "ynT-CJntOBN3"
      },
      "source": [
        "A variável `b` vai ser um \"cubo\" de valores, invés de uma tabela. Assim, o que muda é só qual eixo a gente está olhando.\n",
        "\n",
        "![NumPy_ndarray](https://s3-sa-east-1.amazonaws.com/lcpi/1e527c6a-ea64-46e3-bd31-ffba06749000.png \"ndarrays\"){width=\"600\" height=\"450\"}\n",
        "\n",
        "(**Fonte:** Imagem original Ada)"
      ]
    },
    {
      "cell_type": "markdown",
      "metadata": {
        "id": "sCILKHUbB6iB"
      },
      "source": [
        "#### Tipos de dados e tamanho em memória\n",
        "\n"
      ]
    },
    {
      "cell_type": "markdown",
      "metadata": {
        "id": "OU_Bu-wvII8H"
      },
      "source": [
        "Um array do NumPy tem a propriedade `dtype`, que nos dá o tipo dos seus elementos mais básicos."
      ]
    },
    {
      "cell_type": "code",
      "execution_count": 67,
      "metadata": {
        "id": "I8R0fvS2IFKU"
      },
      "outputs": [
        {
          "data": {
            "text/plain": [
              "dtype('int32')"
            ]
          },
          "execution_count": 67,
          "metadata": {},
          "output_type": "execute_result"
        }
      ],
      "source": [
        "vetor = np.array([1, 2, 3, 4, 5, 6, 7])\n",
        "vetor.dtype"
      ]
    },
    {
      "cell_type": "markdown",
      "metadata": {
        "id": "DS7GHDVsIQ4B"
      },
      "source": [
        "Quando nós construímos o ndarray, se não passarmos explicitamente qual é o `dtype`, ele infere a partir dos valores que passamos."
      ]
    },
    {
      "cell_type": "code",
      "execution_count": 68,
      "metadata": {
        "id": "OTVTYiCCIQPH"
      },
      "outputs": [
        {
          "data": {
            "text/plain": [
              "dtype('float64')"
            ]
          },
          "execution_count": 68,
          "metadata": {},
          "output_type": "execute_result"
        }
      ],
      "source": [
        "vetor = np.array([1.0, 2.0, 3.0, 4.0, 5.0, 6.0, 7.0])\n",
        "vetor.dtype"
      ]
    },
    {
      "cell_type": "markdown",
      "metadata": {
        "id": "0H6j4-J7IVhb"
      },
      "source": [
        "Para passar esse parâmetro explicitamente, basta utilizar um segundo argumento na função `np.array`."
      ]
    },
    {
      "cell_type": "code",
      "execution_count": 69,
      "metadata": {
        "id": "RZRtnNCOIWWH"
      },
      "outputs": [
        {
          "data": {
            "text/plain": [
              "dtype('int32')"
            ]
          },
          "execution_count": 69,
          "metadata": {},
          "output_type": "execute_result"
        }
      ],
      "source": [
        "vetor = np.array([1.0, 2.0, 3.0, 4.0, 5.0, 6.0, 7.0], dtype=np.int32)\n",
        "vetor.dtype"
      ]
    },
    {
      "cell_type": "code",
      "execution_count": 70,
      "metadata": {},
      "outputs": [
        {
          "data": {
            "text/plain": [
              "array([1, 2, 3, 4, 5, 6, 7])"
            ]
          },
          "execution_count": 70,
          "metadata": {},
          "output_type": "execute_result"
        }
      ],
      "source": [
        "vetor"
      ]
    },
    {
      "cell_type": "markdown",
      "metadata": {
        "id": "i7lS0drUIasN"
      },
      "source": [
        "Para esses arrays, nós dizemos que a consistência dos dados é **forte**. Isso significa que, se criarmos um vetor de números inteiros, por exemplo, então todos os elementos que colocarmos no nosso vetor **vai ser inteiro**.\n",
        "\n",
        "Se tentarmos colocar um valor numérico de ponto flutuante, o NumPy vai automaticamente converter para um valor inteiro."
      ]
    },
    {
      "cell_type": "code",
      "execution_count": 71,
      "metadata": {
        "id": "ToKj2pFoMWb7"
      },
      "outputs": [
        {
          "data": {
            "text/plain": [
              "array([10,  2,  3])"
            ]
          },
          "execution_count": 71,
          "metadata": {},
          "output_type": "execute_result"
        }
      ],
      "source": [
        "a = np.array([1, 2, 3])\n",
        "a[0] = 10\n",
        "a"
      ]
    },
    {
      "cell_type": "code",
      "execution_count": 72,
      "metadata": {
        "id": "RGC-SlB8Ma5B"
      },
      "outputs": [
        {
          "data": {
            "text/plain": [
              "array([1, 2, 3])"
            ]
          },
          "execution_count": 72,
          "metadata": {},
          "output_type": "execute_result"
        }
      ],
      "source": [
        "a[0] = 1.23\n",
        "a"
      ]
    },
    {
      "cell_type": "markdown",
      "metadata": {
        "id": "zfd1ZoVBMd52"
      },
      "source": [
        "O valor padrão de *dtype* depende do Python instalado. Se o Python instalado for de 64 bits, o padrão será tipos `int` ou `float` de 64 bits de memória (`int64` ou `float64`). Caso seu Python seja 32 bits, o padrão será `int32` e `float32`.\n",
        "\n",
        "Essa diferença afeta a precisão dos cálculos. Quanto mais espaço em memória utilizado (maior o número de bits), maior a precisão.\n",
        "\n",
        "Como o NumPy é feito para cálculos numéricos, ele precisa de grande controle sobre essa precisão. De fato, ele precisa de mais controle sobre isso do que o Python básico.\n",
        "\n",
        "Devido a isso, os tipos de dados numéricos básicos do NumPy parecem com os do Python, mas em geral têm um número à direita. Esse número representa o seu nível de precisão computacional.\n",
        "\n",
        "Alguns exemplos de tipos de dados do NumPy (e provavelmente os mais comuns) são:\n",
        "\n",
        "* `np.int32`\n",
        "* `np.int64`\n",
        "* `np.float32`\n",
        "* `np.float64`\n",
        "\n",
        "Como exemplo, podemos criar uma outra array, `a16`, com o tipo inteiro de 16 bits."
      ]
    },
    {
      "cell_type": "code",
      "execution_count": 73,
      "metadata": {
        "id": "MZg3mwNnMf8d"
      },
      "outputs": [
        {
          "data": {
            "text/plain": [
              "array([1, 2, 3], dtype=int16)"
            ]
          },
          "execution_count": 73,
          "metadata": {},
          "output_type": "execute_result"
        }
      ],
      "source": [
        "a16 = np.array([1, 2, 3], dtype=np.int16)\n",
        "a16"
      ]
    },
    {
      "cell_type": "markdown",
      "metadata": {
        "id": "pVi3LYHKMiJe"
      },
      "source": [
        "Note que por ser um tipo diferente do padrão, ele ressalta ao mostrar o array na tela.\n",
        "\n",
        "Para descobrir o espaço que cada elemento ocupa na memória, individualmente, podemos acessar o atributo `itemsize`."
      ]
    },
    {
      "cell_type": "code",
      "execution_count": 74,
      "metadata": {
        "id": "GGnivZpvMh55"
      },
      "outputs": [
        {
          "data": {
            "text/plain": [
              "2"
            ]
          },
          "execution_count": 74,
          "metadata": {},
          "output_type": "execute_result"
        }
      ],
      "source": [
        "a16.itemsize"
      ]
    },
    {
      "cell_type": "code",
      "execution_count": 79,
      "metadata": {},
      "outputs": [
        {
          "name": "stdout",
          "output_type": "stream",
          "text": [
            "\u001b[1;31mType:\u001b[0m        int\n",
            "\u001b[1;31mString form:\u001b[0m 2\n",
            "\u001b[1;31mDocstring:\u001b[0m  \n",
            "int([x]) -> integer\n",
            "int(x, base=10) -> integer\n",
            "\n",
            "Convert a number or string to an integer, or return 0 if no arguments\n",
            "are given.  If x is a number, return x.__int__().  For floating point\n",
            "numbers, this truncates towards zero.\n",
            "\n",
            "If x is not a number or if base is given, then x must be a string,\n",
            "bytes, or bytearray instance representing an integer literal in the\n",
            "given base.  The literal can be preceded by '+' or '-' and be surrounded\n",
            "by whitespace.  The base defaults to 10.  Valid bases are 0 and 2-36.\n",
            "Base 0 means to interpret the base from the string as an integer literal.\n",
            ">>> int('0b100', base=0)\n",
            "4"
          ]
        }
      ],
      "source": [
        "?a16.itemsize"
      ]
    },
    {
      "cell_type": "markdown",
      "metadata": {
        "id": "c2n24akUMm7v"
      },
      "source": [
        "Ele retornou 2! Mas a gente não falou que era um tipo inteiro de \"16 bits\"?\n",
        "\n",
        "O NumPy nos mostra o espaço em memória em bytes, e não em bits. Cada byte equivale a 8 bits. Logo, 16 bits são o mesmo que 2 bytes.\n",
        "\n",
        "$$\\frac{16}{8} = 2$$\n",
        "\n",
        "Já se fizermos um array padrão em um Python de 64 bits, temos um `itemsize` de 8."
      ]
    },
    {
      "cell_type": "code",
      "execution_count": 75,
      "metadata": {
        "id": "FTUhG6NnMpuI"
      },
      "outputs": [
        {
          "data": {
            "text/plain": [
              "dtype('int32')"
            ]
          },
          "execution_count": 75,
          "metadata": {},
          "output_type": "execute_result"
        }
      ],
      "source": [
        "a = np.array([1, 2, 3])\n",
        "a.dtype"
      ]
    },
    {
      "cell_type": "code",
      "execution_count": 76,
      "metadata": {
        "id": "CKPVvIOsMr3r"
      },
      "outputs": [
        {
          "data": {
            "text/plain": [
              "4"
            ]
          },
          "execution_count": 76,
          "metadata": {},
          "output_type": "execute_result"
        }
      ],
      "source": [
        "a.itemsize"
      ]
    },
    {
      "cell_type": "markdown",
      "metadata": {
        "id": "5xU-Y1ItMuMZ"
      },
      "source": [
        "Isso pois o padrão de 64 bits equivale a 8 bytes.\n",
        "$$\\frac{64}{8} = 8$$\n",
        "\n",
        "A quantidade de elementos multiplicado pelo tamanho de cada elemento em memória nos dará o tamanho total de bytes que o array inteiro ocupa na memória do computador."
      ]
    },
    {
      "cell_type": "code",
      "execution_count": 80,
      "metadata": {
        "id": "BS4nR7o-MwMm"
      },
      "outputs": [
        {
          "data": {
            "text/plain": [
              "3"
            ]
          },
          "execution_count": 80,
          "metadata": {},
          "output_type": "execute_result"
        }
      ],
      "source": [
        "# quantidade de elementos total\n",
        "a.size"
      ]
    },
    {
      "cell_type": "code",
      "execution_count": 81,
      "metadata": {
        "id": "m8MKiKhjMx5B"
      },
      "outputs": [
        {
          "data": {
            "text/plain": [
              "12"
            ]
          },
          "execution_count": 81,
          "metadata": {},
          "output_type": "execute_result"
        }
      ],
      "source": [
        "# tamanho em memória do vetor \"a\"\n",
        "a.size * a.itemsize"
      ]
    },
    {
      "cell_type": "markdown",
      "metadata": {
        "id": "3pNsgwV3Mz_W"
      },
      "source": [
        "Não precisamos, porém, ficar calculando esse valor se quisermos saber essa informação. Podemos simplesmente acessar o atributo `nbytes`, que representa o tamanho total em bytes ocupado pelo array."
      ]
    },
    {
      "cell_type": "code",
      "execution_count": 82,
      "metadata": {
        "id": "ZhV0HLk_M16d"
      },
      "outputs": [
        {
          "data": {
            "text/plain": [
              "12"
            ]
          },
          "execution_count": 82,
          "metadata": {},
          "output_type": "execute_result"
        }
      ],
      "source": [
        "a.nbytes"
      ]
    },
    {
      "cell_type": "markdown",
      "metadata": {
        "id": "HTggLlYpM3rb"
      },
      "source": [
        "---\n",
        "\n",
        "**Observação**\n",
        "\n",
        "Geralmente não é necessário reduzir o número de bits a não ser que você tenha certeza que um tamanho reduzido vai atender sua necessidade e você quer ser **extremamente** eficiente.\n",
        "\n",
        "---\n",
        "Podemos converter os tipos de dados do array do NumPy depois da sua criação de forma manual, usando a função `astype`."
      ]
    },
    {
      "cell_type": "code",
      "execution_count": 86,
      "metadata": {},
      "outputs": [],
      "source": [
        "vetor_4 = np.array([1,2,3,4])"
      ]
    },
    {
      "cell_type": "code",
      "execution_count": 87,
      "metadata": {},
      "outputs": [
        {
          "data": {
            "text/plain": [
              "dtype('int32')"
            ]
          },
          "execution_count": 87,
          "metadata": {},
          "output_type": "execute_result"
        }
      ],
      "source": [
        "vetor_4.dtype"
      ]
    },
    {
      "cell_type": "code",
      "execution_count": 83,
      "metadata": {
        "id": "Bi_gefjFM72n"
      },
      "outputs": [
        {
          "data": {
            "text/plain": [
              "dtype('float64')"
            ]
          },
          "execution_count": 83,
          "metadata": {},
          "output_type": "execute_result"
        }
      ],
      "source": [
        "a = np.array([1., 2., 3.])\n",
        "a.dtype"
      ]
    },
    {
      "cell_type": "code",
      "execution_count": 84,
      "metadata": {
        "id": "UU0FSkgSM-9W"
      },
      "outputs": [
        {
          "data": {
            "text/plain": [
              "array([1, 2, 3])"
            ]
          },
          "execution_count": 84,
          "metadata": {},
          "output_type": "execute_result"
        }
      ],
      "source": [
        "b = a.astype('int32').copy()\n",
        "b"
      ]
    },
    {
      "cell_type": "code",
      "execution_count": 85,
      "metadata": {
        "id": "UM9EK9D3NAMG"
      },
      "outputs": [
        {
          "data": {
            "text/plain": [
              "dtype('int32')"
            ]
          },
          "execution_count": 85,
          "metadata": {},
          "output_type": "execute_result"
        }
      ],
      "source": [
        "b.dtype"
      ]
    },
    {
      "cell_type": "markdown",
      "metadata": {
        "id": "wEgQYk3vB0pN"
      },
      "source": [
        "### 2.3. Acessando e modificando elementos (Indexing & Slicing)  <a name=\"23indexing\"></a>\n",
        "\n",
        "\n",
        "\n",
        "\n"
      ]
    },
    {
      "cell_type": "markdown",
      "metadata": {
        "id": "dI_bcRcaGRCj"
      },
      "source": [
        "Vamos montar duas matrizes, uma usando Python e outra usando NumPy, para podermos comparar como nós acessamos os elementos de cada uma."
      ]
    },
    {
      "cell_type": "code",
      "execution_count": 88,
      "metadata": {},
      "outputs": [],
      "source": [
        "lista = [\n",
        "         [1,2,3],\n",
        "         [4,5,6]\n",
        "         ]"
      ]
    },
    {
      "cell_type": "code",
      "execution_count": 89,
      "metadata": {},
      "outputs": [
        {
          "data": {
            "text/plain": [
              "[[1, 2, 3], [4, 5, 6]]"
            ]
          },
          "execution_count": 89,
          "metadata": {},
          "output_type": "execute_result"
        }
      ],
      "source": [
        "lista"
      ]
    },
    {
      "cell_type": "code",
      "execution_count": 91,
      "metadata": {},
      "outputs": [
        {
          "data": {
            "text/plain": [
              "5"
            ]
          },
          "execution_count": 91,
          "metadata": {},
          "output_type": "execute_result"
        }
      ],
      "source": [
        "lista[1][1]"
      ]
    },
    {
      "cell_type": "code",
      "execution_count": 94,
      "metadata": {},
      "outputs": [
        {
          "ename": "TypeError",
          "evalue": "list indices must be integers or slices, not tuple",
          "output_type": "error",
          "traceback": [
            "\u001b[1;31m---------------------------------------------------------------------------\u001b[0m",
            "\u001b[1;31mTypeError\u001b[0m                                 Traceback (most recent call last)",
            "Cell \u001b[1;32mIn[94], line 1\u001b[0m\n\u001b[1;32m----> 1\u001b[0m \u001b[43mlista\u001b[49m\u001b[43m[\u001b[49m\u001b[38;5;241;43m1\u001b[39;49m\u001b[43m,\u001b[49m\u001b[38;5;241;43m1\u001b[39;49m\u001b[43m]\u001b[49m\n",
            "\u001b[1;31mTypeError\u001b[0m: list indices must be integers or slices, not tuple"
          ]
        }
      ],
      "source": [
        "lista[1,1]"
      ]
    },
    {
      "cell_type": "code",
      "execution_count": 92,
      "metadata": {},
      "outputs": [],
      "source": [
        "lista_array = np.array(lista)"
      ]
    },
    {
      "cell_type": "code",
      "execution_count": 93,
      "metadata": {},
      "outputs": [
        {
          "data": {
            "text/plain": [
              "5"
            ]
          },
          "execution_count": 93,
          "metadata": {},
          "output_type": "execute_result"
        }
      ],
      "source": [
        "lista_array[1,1]"
      ]
    },
    {
      "cell_type": "code",
      "execution_count": 95,
      "metadata": {
        "id": "1YBlen36F8nd"
      },
      "outputs": [],
      "source": [
        "np_mat = np.array([[1, 2,  3,  4,  5,  6,  7],\n",
        "                       [8, 9, 10, 11, 12, 13, 14]])"
      ]
    },
    {
      "cell_type": "code",
      "execution_count": 96,
      "metadata": {
        "id": "iYRr69q-GTWN"
      },
      "outputs": [
        {
          "name": "stdout",
          "output_type": "stream",
          "text": [
            "[[ 1  2  3  4  5  6  7]\n",
            " [ 8  9 10 11 12 13 14]]\n"
          ]
        }
      ],
      "source": [
        "print(np_mat)"
      ]
    },
    {
      "cell_type": "code",
      "execution_count": 97,
      "metadata": {
        "id": "RXVS5RrAGW23"
      },
      "outputs": [],
      "source": [
        "py_mat = [[1, 2,  3,  4,  5,  6,  7],\n",
        "              [8, 9, 10, 11, 12, 13, 14]]"
      ]
    },
    {
      "cell_type": "code",
      "execution_count": 98,
      "metadata": {
        "id": "mIdEWX3EGYGK"
      },
      "outputs": [
        {
          "name": "stdout",
          "output_type": "stream",
          "text": [
            "[[1, 2, 3, 4, 5, 6, 7], [8, 9, 10, 11, 12, 13, 14]]\n"
          ]
        }
      ],
      "source": [
        "print(py_mat)"
      ]
    },
    {
      "cell_type": "markdown",
      "metadata": {
        "id": "Tw_xJG1aGas0"
      },
      "source": [
        "Podemos acessar um elemento específico de forma similar a uma lista natural do Python, utilizando a sintaxe de colchetes. Porém, no NumPy, quando temos 2 ou mais dimensões, nós passamos a posição que queremos buscar atráves de números separados por vírgulas.\n",
        "\n",
        "Se quisermos então pegar o número 13 nos arrays acima, que está na posição \\[1,5\\] (linha 1, coluna 5, lembrando que o Python começa os índices sempre pelo 0), no Python teríamos que usar a sintaxe abaixo."
      ]
    },
    {
      "cell_type": "code",
      "execution_count": 99,
      "metadata": {
        "id": "aGbeK4adGeGr"
      },
      "outputs": [
        {
          "data": {
            "text/plain": [
              "13"
            ]
          },
          "execution_count": 99,
          "metadata": {},
          "output_type": "execute_result"
        }
      ],
      "source": [
        "py_mat[1][5]"
      ]
    },
    {
      "cell_type": "markdown",
      "metadata": {
        "id": "a_z532HQGhHg"
      },
      "source": [
        "Já para um ndarray com duas dimensões (2D), temos uma sintaxe um pouco mais simples."
      ]
    },
    {
      "cell_type": "code",
      "execution_count": 100,
      "metadata": {
        "id": "GOKWxJERGkn7"
      },
      "outputs": [
        {
          "data": {
            "text/plain": [
              "13"
            ]
          },
          "execution_count": 100,
          "metadata": {},
          "output_type": "execute_result"
        }
      ],
      "source": [
        "np_mat[1,5]"
      ]
    },
    {
      "cell_type": "markdown",
      "metadata": {
        "id": "xyNLbqz7GmF9"
      },
      "source": [
        "Além disso, todas as regras do Python são aplicáveis no NumPy. Usar números negativos, por exemplo, funciona como uma indexação de trás para frente."
      ]
    },
    {
      "cell_type": "code",
      "execution_count": 101,
      "metadata": {
        "id": "ljb1i4V-Gnan"
      },
      "outputs": [
        {
          "data": {
            "text/plain": [
              "13"
            ]
          },
          "execution_count": 101,
          "metadata": {},
          "output_type": "execute_result"
        }
      ],
      "source": [
        "np_mat[1, -2]"
      ]
    },
    {
      "cell_type": "markdown",
      "metadata": {
        "id": "cBD5KHFgGpXY"
      },
      "source": [
        "Para pegar uma linha inteira, podemos utilizar a sintaxe de `:` na coluna. Essa sintaxe pode ser lida como \"todos os elementos deste eixo\". Podemos ler então a sintaxe abaixo como \"linha zero, todas as colunas\"."
      ]
    },
    {
      "cell_type": "code",
      "execution_count": 102,
      "metadata": {
        "id": "dLPlWFZMGr_4"
      },
      "outputs": [
        {
          "data": {
            "text/plain": [
              "array([1, 2, 3, 4, 5, 6, 7])"
            ]
          },
          "execution_count": 102,
          "metadata": {},
          "output_type": "execute_result"
        }
      ],
      "source": [
        "np_mat[0, :]"
      ]
    },
    {
      "cell_type": "markdown",
      "metadata": {
        "id": "0lTXDH9tGttD"
      },
      "source": [
        "Embora também poderíamos fazer de forma mais fácil essa indexação em específico."
      ]
    },
    {
      "cell_type": "code",
      "execution_count": 103,
      "metadata": {
        "id": "Joq1VrSyGv_f"
      },
      "outputs": [
        {
          "data": {
            "text/plain": [
              "array([1, 2, 3, 4, 5, 6, 7])"
            ]
          },
          "execution_count": 103,
          "metadata": {},
          "output_type": "execute_result"
        }
      ],
      "source": [
        "np_mat[0]"
      ]
    },
    {
      "cell_type": "markdown",
      "metadata": {
        "id": "wxHN5gjDGxpj"
      },
      "source": [
        "Porém, para pegar uma coluna, não tem jeito, precisamos usar `:`. A sintaxe abaixo pode ser lida como \"todas as linhas, coluna 2\"."
      ]
    },
    {
      "cell_type": "code",
      "execution_count": 105,
      "metadata": {
        "id": "hgBfuYdVGzSE"
      },
      "outputs": [
        {
          "data": {
            "text/plain": [
              "array([ 3, 10])"
            ]
          },
          "execution_count": 105,
          "metadata": {},
          "output_type": "execute_result"
        }
      ],
      "source": [
        "np_mat[:, 2]"
      ]
    },
    {
      "cell_type": "markdown",
      "metadata": {
        "id": "FT0p4Ow4G1R6"
      },
      "source": [
        "O operador `:` é também conhecido como slicing (ou \"fatiamento\", em português), e pode ser usado para pegar intervalos de índices. Para isso, ele precisa de três parâmetros:\n",
        "- start, o índice inicial do intervalo\n",
        "- end, o índice final do intervalo\n",
        "- step, quantos índices nós pulamos em cada passo dado para ir do *start* até o *end*.\n",
        "\n",
        "Isso é feito no formato `[start:end:step]`. Neste caso, `step` é o tamanho do passo que vamos dar. Basicamente, ele diz quantos elementos devemos pular de cada vez. Como exemplo, podemos pegar do elemento 1 ao 6 pulando de 2 em 2 na linha 0."
      ]
    },
    {
      "cell_type": "code",
      "execution_count": 107,
      "metadata": {},
      "outputs": [
        {
          "data": {
            "text/plain": [
              "array([[ 1,  2,  3,  4,  5,  6,  7],\n",
              "       [ 8,  9, 10, 11, 12, 13, 14]])"
            ]
          },
          "execution_count": 107,
          "metadata": {},
          "output_type": "execute_result"
        }
      ],
      "source": [
        "np_mat"
      ]
    },
    {
      "cell_type": "code",
      "execution_count": 106,
      "metadata": {
        "id": "xYOwmkhTG2u9"
      },
      "outputs": [
        {
          "data": {
            "text/plain": [
              "array([2, 4, 6])"
            ]
          },
          "execution_count": 106,
          "metadata": {},
          "output_type": "execute_result"
        }
      ],
      "source": [
        "np_mat[0, 1:6:2]"
      ]
    },
    {
      "cell_type": "code",
      "execution_count": 111,
      "metadata": {},
      "outputs": [
        {
          "data": {
            "text/plain": [
              "array([2, 4, 6])"
            ]
          },
          "execution_count": 111,
          "metadata": {},
          "output_type": "execute_result"
        }
      ],
      "source": [
        "np_mat[0,1:6:2]"
      ]
    },
    {
      "cell_type": "markdown",
      "metadata": {
        "id": "M-4RA5NBG4Yz"
      },
      "source": [
        "Novamente, ele também funciona com índice negativo."
      ]
    },
    {
      "cell_type": "code",
      "execution_count": 112,
      "metadata": {
        "id": "wms3_5ZoG5uv"
      },
      "outputs": [
        {
          "data": {
            "text/plain": [
              "array([2, 4, 6])"
            ]
          },
          "execution_count": 112,
          "metadata": {},
          "output_type": "execute_result"
        }
      ],
      "source": [
        "np_mat[0, 1:-1:2]"
      ]
    },
    {
      "cell_type": "markdown",
      "metadata": {
        "id": "fRu2eo5BG7KU"
      },
      "source": [
        "Podemos usar essas indexações para alterar os elementos do array. Basta usar o operador `=` para atribuir um novo falar ao elemento daquela posição."
      ]
    },
    {
      "cell_type": "code",
      "execution_count": 115,
      "metadata": {
        "id": "myUsJZ5uG9N4"
      },
      "outputs": [
        {
          "name": "stdout",
          "output_type": "stream",
          "text": [
            "[[ 1  2  3  4  5  6  7]\n",
            " [ 8  9 10 11 12 20 14]]\n"
          ]
        }
      ],
      "source": [
        "np_mat[1,5] = 20\n",
        "print(np_mat)"
      ]
    },
    {
      "cell_type": "code",
      "execution_count": 116,
      "metadata": {},
      "outputs": [
        {
          "data": {
            "text/plain": [
              "20"
            ]
          },
          "execution_count": 116,
          "metadata": {},
          "output_type": "execute_result"
        }
      ],
      "source": [
        "np_mat[1,5]"
      ]
    },
    {
      "cell_type": "markdown",
      "metadata": {
        "id": "3k-M6I9-G_Cq"
      },
      "source": [
        "Isso vale até para colunas ou linhas inteiras."
      ]
    },
    {
      "cell_type": "code",
      "execution_count": 118,
      "metadata": {
        "id": "wGDLId6yHA-s"
      },
      "outputs": [
        {
          "name": "stdout",
          "output_type": "stream",
          "text": [
            "[[ 1  2  5  4  5  6  7]\n",
            " [ 8  9  5 11 12 20 14]]\n"
          ]
        }
      ],
      "source": [
        "np_mat[:, 2] = 5\n",
        "print(np_mat)"
      ]
    },
    {
      "cell_type": "code",
      "execution_count": 117,
      "metadata": {},
      "outputs": [
        {
          "data": {
            "text/plain": [
              "array([[ 1,  2,  3,  4,  5,  6,  7],\n",
              "       [ 8,  9, 10, 11, 12, 20, 14]])"
            ]
          },
          "execution_count": 117,
          "metadata": {},
          "output_type": "execute_result"
        }
      ],
      "source": [
        "np_mat"
      ]
    },
    {
      "cell_type": "markdown",
      "metadata": {
        "id": "kOAWS5qwHDap"
      },
      "source": [
        "Isso acontece por uma característica fundamental do array do NumPy:\n",
        "\n",
        "<b><center>Ao alterar o pedaço recortado da matriz (o \"slice\" da matriz), você altera a matriz original.</center></b>\n",
        "\n",
        "Juntando com o problema que vimos antes, de cópia de array, quando queremos copiar um slice de um array, temos que explicitamente usar o método `copy`."
      ]
    },
    {
      "cell_type": "code",
      "execution_count": 125,
      "metadata": {},
      "outputs": [],
      "source": [
        "lista = [1,2,3,4,5]"
      ]
    },
    {
      "cell_type": "code",
      "execution_count": 126,
      "metadata": {},
      "outputs": [],
      "source": [
        "slice_lista = lista[2:]"
      ]
    },
    {
      "cell_type": "code",
      "execution_count": 128,
      "metadata": {},
      "outputs": [],
      "source": [
        "slice_lista[0] = 72"
      ]
    },
    {
      "cell_type": "code",
      "execution_count": 129,
      "metadata": {},
      "outputs": [
        {
          "data": {
            "text/plain": [
              "[72, 4, 5]"
            ]
          },
          "execution_count": 129,
          "metadata": {},
          "output_type": "execute_result"
        }
      ],
      "source": [
        "slice_lista"
      ]
    },
    {
      "cell_type": "code",
      "execution_count": 130,
      "metadata": {},
      "outputs": [
        {
          "data": {
            "text/plain": [
              "[1, 2, 3, 4, 5]"
            ]
          },
          "execution_count": 130,
          "metadata": {},
          "output_type": "execute_result"
        }
      ],
      "source": [
        "lista"
      ]
    },
    {
      "cell_type": "code",
      "execution_count": 119,
      "metadata": {
        "id": "ysMol2YaHFzG"
      },
      "outputs": [
        {
          "data": {
            "text/plain": [
              "array([2, 3])"
            ]
          },
          "execution_count": 119,
          "metadata": {},
          "output_type": "execute_result"
        }
      ],
      "source": [
        "a = np.array([1, 2, 3])\n",
        "\n",
        "b = a[1:].copy()\n",
        "b"
      ]
    },
    {
      "cell_type": "code",
      "execution_count": 120,
      "metadata": {},
      "outputs": [
        {
          "data": {
            "text/plain": [
              "array([1, 2, 3])"
            ]
          },
          "execution_count": 120,
          "metadata": {},
          "output_type": "execute_result"
        }
      ],
      "source": [
        "a"
      ]
    },
    {
      "cell_type": "code",
      "execution_count": 121,
      "metadata": {
        "id": "TPPjh-ooHHy3"
      },
      "outputs": [
        {
          "data": {
            "text/plain": [
              "array([2, 3])"
            ]
          },
          "execution_count": 121,
          "metadata": {},
          "output_type": "execute_result"
        }
      ],
      "source": [
        "c = a[1:]\n",
        "c"
      ]
    },
    {
      "cell_type": "code",
      "execution_count": 122,
      "metadata": {
        "id": "GpMyN4YHHJ1s"
      },
      "outputs": [
        {
          "data": {
            "text/plain": [
              "array([5, 3])"
            ]
          },
          "execution_count": 122,
          "metadata": {},
          "output_type": "execute_result"
        }
      ],
      "source": [
        "c[0] = 5\n",
        "c"
      ]
    },
    {
      "cell_type": "code",
      "execution_count": 123,
      "metadata": {
        "id": "cOFeeXUjHLmN"
      },
      "outputs": [
        {
          "data": {
            "text/plain": [
              "array([1, 5, 3])"
            ]
          },
          "execution_count": 123,
          "metadata": {},
          "output_type": "execute_result"
        }
      ],
      "source": [
        "a"
      ]
    },
    {
      "cell_type": "code",
      "execution_count": 124,
      "metadata": {
        "id": "Fqefa9N7HM5S"
      },
      "outputs": [
        {
          "data": {
            "text/plain": [
              "array([2, 3])"
            ]
          },
          "execution_count": 124,
          "metadata": {},
          "output_type": "execute_result"
        }
      ],
      "source": [
        "b"
      ]
    },
    {
      "cell_type": "markdown",
      "metadata": {
        "id": "Fsz1Kbf8BuCw"
      },
      "source": [
        "### 2.4. Máscara Booleana e Seleção Avançada  <a name=\"24boolmask\"></a>"
      ]
    },
    {
      "cell_type": "code",
      "execution_count": 131,
      "metadata": {},
      "outputs": [],
      "source": [
        "import array"
      ]
    },
    {
      "cell_type": "markdown",
      "metadata": {
        "id": "aspbHwLaElSe"
      },
      "source": [
        "Uma outra forma de seleção é por meio de uma lista de posições."
      ]
    },
    {
      "cell_type": "code",
      "execution_count": 133,
      "metadata": {
        "id": "dB5OtfKBEnTH"
      },
      "outputs": [
        {
          "data": {
            "text/plain": [
              "array([2, 3, 9])"
            ]
          },
          "execution_count": 133,
          "metadata": {},
          "output_type": "execute_result"
        }
      ],
      "source": [
        "a = np.array([1, 2, 3, 4, 5, 6, 7, 8, 9])\n",
        "a[[1, 2, -1]]"
      ]
    },
    {
      "cell_type": "markdown",
      "metadata": {
        "id": "_Dx6KSRZEphz"
      },
      "source": [
        "No caso de arrays multidimensionais, vamos ter que passar uma lista para cada dimensão. O NumPy nos retornará os elementos formados pelos pares (se 2D, se for 3D são trincas, se 4D quadras, etc.) dessas listas."
      ]
    },
    {
      "cell_type": "code",
      "execution_count": 134,
      "metadata": {
        "id": "Wzmlusw3EpOI"
      },
      "outputs": [
        {
          "data": {
            "text/plain": [
              "array([[1, 2, 3],\n",
              "       [4, 5, 6],\n",
              "       [7, 8, 9]])"
            ]
          },
          "execution_count": 134,
          "metadata": {},
          "output_type": "execute_result"
        }
      ],
      "source": [
        "a = np.array([1, 2, 3, 4, 5, 6, 7, 8, 9]).reshape(3,3)\n",
        "a"
      ]
    },
    {
      "cell_type": "code",
      "execution_count": 135,
      "metadata": {
        "id": "jHcGeAOeEuKL"
      },
      "outputs": [
        {
          "data": {
            "text/plain": [
              "array([2, 3, 9])"
            ]
          },
          "execution_count": 135,
          "metadata": {},
          "output_type": "execute_result"
        }
      ],
      "source": [
        "a[[0, 0, 2],[1, 2, 2]]"
      ]
    },
    {
      "cell_type": "markdown",
      "metadata": {
        "id": "VHnrsEj0Ewip"
      },
      "source": [
        "Uma outra forma muito comum de selecionar elementos de um ndarray é usando o que chamamos de \"máscara booleana\". Ela nada mais é do que um array de elementos booleanos (\"True\" ou \"False\"). Tanto faz se for uma lista do Python ou um ndarray do NumPy.\n",
        "\n",
        "Assim, quando passamos essa máscara para um array do NumPy, ele nos retorna apenas as posições onde temos o valor \"True\"."
      ]
    },
    {
      "cell_type": "code",
      "execution_count": 136,
      "metadata": {
        "id": "nHKthzySEySF"
      },
      "outputs": [
        {
          "data": {
            "text/plain": [
              "array([1, 2, 3, 4, 5, 6, 7, 8, 9])"
            ]
          },
          "execution_count": 136,
          "metadata": {},
          "output_type": "execute_result"
        }
      ],
      "source": [
        "a = np.array([1, 2, 3, 4, 5, 6, 7, 8, 9])#.reshape(3,3)\n",
        "a"
      ]
    },
    {
      "cell_type": "code",
      "execution_count": 137,
      "metadata": {
        "id": "_RAX4URHE2CT"
      },
      "outputs": [
        {
          "data": {
            "text/plain": [
              "array([1, 2, 8])"
            ]
          },
          "execution_count": 137,
          "metadata": {},
          "output_type": "execute_result"
        }
      ],
      "source": [
        "a[[True, True, False, False, False, False, False, True, False]]"
      ]
    },
    {
      "cell_type": "code",
      "execution_count": 139,
      "metadata": {},
      "outputs": [
        {
          "data": {
            "text/plain": [
              "array([6, 7, 8, 9])"
            ]
          },
          "execution_count": 139,
          "metadata": {},
          "output_type": "execute_result"
        }
      ],
      "source": [
        "a[a >5]"
      ]
    },
    {
      "cell_type": "markdown",
      "metadata": {
        "id": "bNrj1SuRE5hz"
      },
      "source": [
        "Note, no exemplo acima, que temos 3 posições onde nossa máscara possui valor \"True\". A posição 0, a posição 1, e a posição 7, que correspondem aos valores 1, 2, e 8, respectivamente.\n",
        "\n",
        "Nós podemos gerar essa máscara a partir de comparações elemento a elemento de um ndarray. De fato, ao aplicar qualquer operador booleano, como\n",
        "\n",
        "- `>`,\n",
        "- `<`,\n",
        "- `<=`,\n",
        "- `>=`,\n",
        "- `==`,\n",
        "\n",
        "para comparar um ndarray com algum valor, o NumPy retorna um ndarray de valores booleanos. Esse novo ndarray vai ter o valor `True` nas posições onde a comparação do elemento original e esse valor separado for verdadeira. Teremos o valor `False` caso contrário.\n",
        "\n",
        "Vamos ver um exemplo."
      ]
    },
    {
      "cell_type": "code",
      "execution_count": 142,
      "metadata": {
        "id": "be-karKyE_Wj"
      },
      "outputs": [
        {
          "data": {
            "text/plain": [
              "array([[ 1, 10],\n",
              "       [20, 30]])"
            ]
          },
          "execution_count": 142,
          "metadata": {},
          "output_type": "execute_result"
        }
      ],
      "source": [
        "mat = np.array([1, 10, 20, 30]).reshape(2, 2)\n",
        "mat"
      ]
    },
    {
      "cell_type": "code",
      "execution_count": 143,
      "metadata": {
        "id": "Tp47NBC4FA9v"
      },
      "outputs": [
        {
          "data": {
            "text/plain": [
              "array([[False, False],\n",
              "       [ True,  True]])"
            ]
          },
          "execution_count": 143,
          "metadata": {},
          "output_type": "execute_result"
        }
      ],
      "source": [
        "mat > 10 # retorna um ndarray com valor True onde o elemento original é maior que 10"
      ]
    },
    {
      "cell_type": "markdown",
      "metadata": {
        "id": "LbHYo-FUE-9X"
      },
      "source": [
        "Podemos juntar os dois exemplos anteriores, de uso da máscara booleana como indexação e da criação de uma máscara, em uma única linha."
      ]
    },
    {
      "cell_type": "code",
      "execution_count": 144,
      "metadata": {
        "id": "Np5lv2aMFV-F"
      },
      "outputs": [
        {
          "data": {
            "text/plain": [
              "array([20, 30])"
            ]
          },
          "execution_count": 144,
          "metadata": {},
          "output_type": "execute_result"
        }
      ],
      "source": [
        "mat[mat > 10]"
      ]
    },
    {
      "cell_type": "markdown",
      "metadata": {
        "id": "BnOyjlOwFY3-"
      },
      "source": [
        "Neste exemplo, temos como retorno um array com os elementos 20 e 30, como era esperado.\n",
        "\n",
        "Podemos fazer operações semelhantes, mas restritos a seguir \"linha a linha\" ou \"coluna a coluna\". No nosso exemplo anterior, pode ser que queiramos todas as linhas onde existe um elemento com valor `10`. Outra opção seria pegar todas as colunas com pelo menos 1 elemento abaixo do valor `10`.\n",
        "\n",
        "Para isso, usamos os métodos auxiliares `any` e `all`.\n",
        "\n",
        "* any: se qualquer elemento do meu eixo for `True`, retorna um valor `True`\n",
        "* all: se, e somente se, todos os elementos do meu eixo forem `True`, retorna `True`\n",
        "\n",
        "Nas explicações, o \"eixo\" são as dimensões do ndarray, como discutido na sessão 2.2.\n",
        "\n",
        "Vamos ver alguns exemplos.\n",
        "\n",
        "O exemplo abaixo pega todas as linhas onde existe pelo menos um elemento com valor `10`."
      ]
    },
    {
      "cell_type": "code",
      "execution_count": 157,
      "metadata": {},
      "outputs": [
        {
          "data": {
            "text/plain": [
              "array([[ 1, 10],\n",
              "       [20, 30]])"
            ]
          },
          "execution_count": 157,
          "metadata": {},
          "output_type": "execute_result"
        }
      ],
      "source": [
        "mat"
      ]
    },
    {
      "cell_type": "code",
      "execution_count": null,
      "metadata": {},
      "outputs": [],
      "source": [
        "mat2 = np.array([1, 10, 20, 30,]).reshape(2, 3)"
      ]
    },
    {
      "cell_type": "code",
      "execution_count": 162,
      "metadata": {},
      "outputs": [
        {
          "data": {
            "text/plain": [
              "array([[ 1, 10],\n",
              "       [20, 30]])"
            ]
          },
          "execution_count": 162,
          "metadata": {},
          "output_type": "execute_result"
        }
      ],
      "source": [
        "mat[(mat >= 20).any(axis=0)]"
      ]
    },
    {
      "cell_type": "code",
      "execution_count": 172,
      "metadata": {},
      "outputs": [
        {
          "data": {
            "text/plain": [
              "array([[20, 30]])"
            ]
          },
          "execution_count": 172,
          "metadata": {},
          "output_type": "execute_result"
        }
      ],
      "source": [
        "mat[(mat > 20).any(axis=1)]"
      ]
    },
    {
      "cell_type": "code",
      "execution_count": 173,
      "metadata": {},
      "outputs": [
        {
          "data": {
            "text/plain": [
              "array([[20, 30]])"
            ]
          },
          "execution_count": 173,
          "metadata": {},
          "output_type": "execute_result"
        }
      ],
      "source": [
        "mat[(mat > 20).any(axis=0)]"
      ]
    },
    {
      "cell_type": "code",
      "execution_count": 163,
      "metadata": {},
      "outputs": [
        {
          "data": {
            "text/plain": [
              "array([[20, 30]])"
            ]
          },
          "execution_count": 163,
          "metadata": {},
          "output_type": "execute_result"
        }
      ],
      "source": [
        "mat[]"
      ]
    },
    {
      "cell_type": "code",
      "execution_count": 167,
      "metadata": {},
      "outputs": [
        {
          "data": {
            "text/plain": [
              "array([ True,  True])"
            ]
          },
          "execution_count": 167,
          "metadata": {},
          "output_type": "execute_result"
        }
      ],
      "source": [
        "(mat >= 20).any(axis=0)"
      ]
    },
    {
      "cell_type": "code",
      "execution_count": 169,
      "metadata": {},
      "outputs": [
        {
          "ename": "IndexError",
          "evalue": "boolean index did not match indexed array along dimension 0; dimension is 2 but corresponding boolean dimension is 4",
          "output_type": "error",
          "traceback": [
            "\u001b[1;31m---------------------------------------------------------------------------\u001b[0m",
            "\u001b[1;31mIndexError\u001b[0m                                Traceback (most recent call last)",
            "Cell \u001b[1;32mIn[169], line 1\u001b[0m\n\u001b[1;32m----> 1\u001b[0m \u001b[43mmat\u001b[49m\u001b[43m[\u001b[49m\u001b[43m[\u001b[49m\u001b[38;5;28;43;01mTrue\u001b[39;49;00m\u001b[43m,\u001b[49m\u001b[43m \u001b[49m\u001b[38;5;28;43;01mFalse\u001b[39;49;00m\u001b[43m,\u001b[49m\u001b[43m \u001b[49m\u001b[38;5;28;43;01mTrue\u001b[39;49;00m\u001b[43m,\u001b[49m\u001b[43m \u001b[49m\u001b[38;5;28;43;01mTrue\u001b[39;49;00m\u001b[43m]\u001b[49m\u001b[43m]\u001b[49m\n",
            "\u001b[1;31mIndexError\u001b[0m: boolean index did not match indexed array along dimension 0; dimension is 2 but corresponding boolean dimension is 4"
          ]
        }
      ],
      "source": [
        "mat[[True, False, True, True]]"
      ]
    },
    {
      "cell_type": "code",
      "execution_count": 170,
      "metadata": {},
      "outputs": [
        {
          "data": {
            "text/plain": [
              "array([[False, False],\n",
              "       [ True,  True]])"
            ]
          },
          "execution_count": 170,
          "metadata": {},
          "output_type": "execute_result"
        }
      ],
      "source": [
        "mat>=20"
      ]
    },
    {
      "cell_type": "code",
      "execution_count": 165,
      "metadata": {},
      "outputs": [
        {
          "data": {
            "text/plain": [
              "array([20, 30])"
            ]
          },
          "execution_count": 165,
          "metadata": {},
          "output_type": "execute_result"
        }
      ],
      "source": [
        "mat[mat>=20]"
      ]
    },
    {
      "cell_type": "code",
      "execution_count": 149,
      "metadata": {},
      "outputs": [
        {
          "data": {
            "text/plain": [
              "array([[ 1, 10],\n",
              "       [20, 30]])"
            ]
          },
          "execution_count": 149,
          "metadata": {},
          "output_type": "execute_result"
        }
      ],
      "source": [
        "mat"
      ]
    },
    {
      "cell_type": "code",
      "execution_count": 174,
      "metadata": {},
      "outputs": [
        {
          "data": {
            "text/plain": [
              "array([[20, 30]])"
            ]
          },
          "execution_count": 174,
          "metadata": {},
          "output_type": "execute_result"
        }
      ],
      "source": [
        "mat[(mat > 20).any(axis=1)]"
      ]
    },
    {
      "cell_type": "code",
      "execution_count": 175,
      "metadata": {
        "id": "d9ud8PuKFblw"
      },
      "outputs": [
        {
          "data": {
            "text/plain": [
              "array([[20, 30]])"
            ]
          },
          "execution_count": 175,
          "metadata": {},
          "output_type": "execute_result"
        }
      ],
      "source": [
        "mat[(mat > 20).any(axis=0)]"
      ]
    },
    {
      "cell_type": "code",
      "execution_count": 176,
      "metadata": {},
      "outputs": [
        {
          "data": {
            "text/plain": [
              "array([[ 1, 10],\n",
              "       [20, 30]])"
            ]
          },
          "execution_count": 176,
          "metadata": {},
          "output_type": "execute_result"
        }
      ],
      "source": [
        "mat"
      ]
    },
    {
      "cell_type": "code",
      "execution_count": null,
      "metadata": {},
      "outputs": [],
      "source": [
        "[[1,10],\n",
        " [20,30]]"
      ]
    },
    {
      "cell_type": "code",
      "execution_count": 177,
      "metadata": {},
      "outputs": [
        {
          "data": {
            "text/plain": [
              "array([[20, 30]])"
            ]
          },
          "execution_count": 177,
          "metadata": {},
          "output_type": "execute_result"
        }
      ],
      "source": [
        "mat[(mat == 10).any(axis=0)]"
      ]
    },
    {
      "cell_type": "code",
      "execution_count": 178,
      "metadata": {},
      "outputs": [
        {
          "data": {
            "text/plain": [
              "array([False,  True])"
            ]
          },
          "execution_count": 178,
          "metadata": {},
          "output_type": "execute_result"
        }
      ],
      "source": [
        "(mat == 10).any(axis=0)"
      ]
    },
    {
      "cell_type": "code",
      "execution_count": null,
      "metadata": {},
      "outputs": [],
      "source": [
        "mat[(mat == 10).any(axis=0)]"
      ]
    },
    {
      "cell_type": "markdown",
      "metadata": {
        "id": "fzTtYWCeFds6"
      },
      "source": [
        "Por que usamos o eixo 1 nesse caso? Porque aqui, o eixo define por onde o NumPy vai \"traversar\" para avaliar o nosso ndarray.\n",
        "\n",
        "O eixo 0 são as linhas. Assim, quando olhamos *ao longo do eixo 0*, nós estamos caminhando através das linhas. Se usássemos `(mat == 10).any(axis=0)`, o NumPy vai ver se tem elementos que sejam iguais a 10 **ao longo do eixo 0**.\n",
        "\n",
        "O processo então vai ser o seguinte:\n",
        "- olha se `1 == 10`. Nesse caso, temos `False`.\n",
        "- o próximo elemento, **ao longo do eixo 0**, é o `20`.\n",
        "- `20 == 10` também retorna `False`. Logo, nessa coluna, a resposta será `False`.\n",
        "- segue para a próxima coluna.\n",
        "\n",
        "Já quando usamos `(mat == 10).any(axis=1)`, ele olha **ao longo do eixo 1**, ou seja, ao longo das colunas. O processo fica:\n",
        "- olha se `1 == 10`. Nesse caso, temos `False`.\n",
        "- o próximo elemento, **ao longo do eixo 1**, é o `10`.\n",
        "- `10 == 10` retorna `True`. Logo, existe pelo menos um valor `True`. Então, para essa linha, retornamos o valor `True`.\n",
        "- segue para a próxima linha.\n",
        "\n",
        "Como um outro exemplo, se quisermos pegar as colunas onde todos os elements sejam maiores que `5`, podemos usar o `all`. A regra de qual eixo usar é igual."
      ]
    },
    {
      "cell_type": "code",
      "execution_count": null,
      "metadata": {
        "id": "-rrkqqrzFgV-"
      },
      "outputs": [],
      "source": [
        "mat[:, (mat > 5).all(axis=0)]"
      ]
    },
    {
      "cell_type": "markdown",
      "metadata": {
        "id": "z1V7xi_OFiEr"
      },
      "source": [
        "Perceba que neste exemplo, nós colocamos dois pontos na primeira posição. Isso garante que pegamos todas as linhas, e olhamos a nossa máscara booleana apenas ao longo das colunas. Além disso, colocamos `axis=0`, para olhar ao longo do eixo 0.\n",
        "\n",
        "Para nos ajudar a lembrar essa questão do parâmetro `axis`, podemos pensar que esse parâmetro define ao longo de qual eixo a função irá \"esmagar\" o nosso array."
      ]
    },
    {
      "cell_type": "code",
      "execution_count": null,
      "metadata": {
        "id": "dvTw4R7NFko3"
      },
      "outputs": [],
      "source": [
        "new_mat = np.array([1, 2, 4, 5, 7, 8]).reshape(3, 2)\n",
        "new_mat"
      ]
    },
    {
      "cell_type": "code",
      "execution_count": null,
      "metadata": {
        "id": "DouDUEiwFmND"
      },
      "outputs": [],
      "source": [
        "(new_mat < 8).all(axis=1) # Apenas as 2 primeiras linhas têm todos os elementos < 8"
      ]
    },
    {
      "cell_type": "code",
      "execution_count": null,
      "metadata": {
        "id": "iz-ti0l_Fok7"
      },
      "outputs": [],
      "source": [
        "(new_mat == 5).any(axis=0) # Apenas a segunda coluna tem um elemento com valor 5"
      ]
    },
    {
      "cell_type": "markdown",
      "metadata": {
        "id": "oo7QteC2BjY9"
      },
      "source": [
        "#### Múltiplas condições\n",
        "\n",
        "\n",
        "\n"
      ]
    },
    {
      "cell_type": "code",
      "execution_count": 180,
      "metadata": {},
      "outputs": [
        {
          "data": {
            "text/plain": [
              "array([[ 1, 10],\n",
              "       [20, 30]])"
            ]
          },
          "execution_count": 180,
          "metadata": {},
          "output_type": "execute_result"
        }
      ],
      "source": [
        "mat"
      ]
    },
    {
      "cell_type": "markdown",
      "metadata": {
        "id": "9EbL4EBGEIiz"
      },
      "source": [
        "Similar ao `and` do python, nós podemos usar múltiplas condições para filtrar dados da nossa matriz com o operador `&`."
      ]
    },
    {
      "cell_type": "code",
      "execution_count": 182,
      "metadata": {
        "id": "p7Wc1bR8EF1U"
      },
      "outputs": [
        {
          "ename": "ValueError",
          "evalue": "The truth value of an array with more than one element is ambiguous. Use a.any() or a.all()",
          "output_type": "error",
          "traceback": [
            "\u001b[1;31m---------------------------------------------------------------------------\u001b[0m",
            "\u001b[1;31mValueError\u001b[0m                                Traceback (most recent call last)",
            "Cell \u001b[1;32mIn[182], line 2\u001b[0m\n\u001b[0;32m      1\u001b[0m mask \u001b[38;5;241m=\u001b[39m (mat \u001b[38;5;241m>\u001b[39m \u001b[38;5;241m10\u001b[39m) \u001b[38;5;241m&\u001b[39m (mat \u001b[38;5;241m<\u001b[39m\u001b[38;5;241m=\u001b[39m \u001b[38;5;241m20\u001b[39m)\n\u001b[1;32m----> 2\u001b[0m mat[mat \u001b[38;5;241m>\u001b[39m \u001b[38;5;241m10\u001b[39m \u001b[38;5;241m&\u001b[39m mat \u001b[38;5;241m<\u001b[39m\u001b[38;5;241m=\u001b[39m \u001b[38;5;241m20\u001b[39m]\n",
            "\u001b[1;31mValueError\u001b[0m: The truth value of an array with more than one element is ambiguous. Use a.any() or a.all()"
          ]
        }
      ],
      "source": [
        "mask = (mat > 10) & (mat <= 20)\n",
        "# mat[mat > 10 & mat <= 20]"
      ]
    },
    {
      "cell_type": "code",
      "execution_count": 181,
      "metadata": {},
      "outputs": [
        {
          "ename": "ValueError",
          "evalue": "The truth value of an array with more than one element is ambiguous. Use a.any() or a.all()",
          "output_type": "error",
          "traceback": [
            "\u001b[1;31m---------------------------------------------------------------------------\u001b[0m",
            "\u001b[1;31mValueError\u001b[0m                                Traceback (most recent call last)",
            "Cell \u001b[1;32mIn[181], line 1\u001b[0m\n\u001b[1;32m----> 1\u001b[0m mask1 \u001b[38;5;241m=\u001b[39m mat \u001b[38;5;241m>\u001b[39m \u001b[38;5;241m10\u001b[39m \u001b[38;5;241m&\u001b[39m mat \u001b[38;5;241m<\u001b[39m\u001b[38;5;241m=\u001b[39m \u001b[38;5;241m20\u001b[39m\n",
            "\u001b[1;31mValueError\u001b[0m: The truth value of an array with more than one element is ambiguous. Use a.any() or a.all()"
          ]
        }
      ],
      "source": [
        "# mask1 = mat > 10 & mat <= 20"
      ]
    },
    {
      "cell_type": "markdown",
      "metadata": {
        "id": "uGKWFzvhEN7W"
      },
      "source": [
        "**Observação:** note que os parênteses, além de melhorarem a legibilidade, são necessárias devido a ordem de precedência dos operadores `>`, `&` e `<=`. Se não colocarmos os parênteses, dará um erro.\n",
        "\n",
        "Além do `&`, também podemos fazer quaisquer operações booleanas básicas.\n",
        "\n",
        "No caso do `or`, nós temos o operador `|`."
      ]
    },
    {
      "cell_type": "code",
      "execution_count": 183,
      "metadata": {
        "id": "-XBMQmQeEQPh"
      },
      "outputs": [
        {
          "data": {
            "text/plain": [
              "array([ 1, 20, 30])"
            ]
          },
          "execution_count": 183,
          "metadata": {},
          "output_type": "execute_result"
        }
      ],
      "source": [
        "mask = (mat == 1) | (mat >= 20)\n",
        "mat[mask]"
      ]
    },
    {
      "cell_type": "markdown",
      "metadata": {
        "id": "U8F6H_8eESBX"
      },
      "source": [
        "No caso do `not`, nós temos o operador `~`."
      ]
    },
    {
      "cell_type": "code",
      "execution_count": 184,
      "metadata": {
        "id": "XtcWjnOrET5F"
      },
      "outputs": [
        {
          "data": {
            "text/plain": [
              "array([10])"
            ]
          },
          "execution_count": 184,
          "metadata": {},
          "output_type": "execute_result"
        }
      ],
      "source": [
        "mask = (mat == 1) | (mat >= 20)\n",
        "mat[~mask]"
      ]
    },
    {
      "cell_type": "markdown",
      "metadata": {
        "id": "aViSlwHCBfc_"
      },
      "source": [
        "### 2.5. Métodos built-in de criação de arrays  <a name=\"25arraycreate\"></a>\n",
        "\n"
      ]
    },
    {
      "cell_type": "markdown",
      "metadata": {
        "id": "qqL1z4caDLlq"
      },
      "source": [
        "O NumPy já possui diversos métodos para gerar alguns arrays comuns mais conhecidos.\n",
        "Isso nos ajuda imensamente a criar algumas matrizes padrões para fazer contas.\n",
        "\n",
        "Primeiro, é possível gerar um array de zeros com qualquer formato."
      ]
    },
    {
      "cell_type": "code",
      "execution_count": 185,
      "metadata": {
        "id": "9ynu4wneDLMx"
      },
      "outputs": [
        {
          "data": {
            "text/plain": [
              "array([[0., 0., 0.],\n",
              "       [0., 0., 0.]])"
            ]
          },
          "execution_count": 185,
          "metadata": {},
          "output_type": "execute_result"
        }
      ],
      "source": [
        "np.zeros((2, 3)) # O argumento é o formato do ndarray resultante."
      ]
    },
    {
      "cell_type": "code",
      "execution_count": 186,
      "metadata": {
        "id": "e-CgHFVsDRkR"
      },
      "outputs": [
        {
          "data": {
            "text/plain": [
              "array([[[0., 0., 0., 0., 0.],\n",
              "        [0., 0., 0., 0., 0.]],\n",
              "\n",
              "       [[0., 0., 0., 0., 0.],\n",
              "        [0., 0., 0., 0., 0.]]])"
            ]
          },
          "execution_count": 186,
          "metadata": {},
          "output_type": "execute_result"
        }
      ],
      "source": [
        "np.zeros((2, 2, 5))"
      ]
    },
    {
      "cell_type": "markdown",
      "metadata": {
        "id": "ThP9kireDT6R"
      },
      "source": [
        "Para criar um array de uns, a sintaxe é semelhante."
      ]
    },
    {
      "cell_type": "code",
      "execution_count": 187,
      "metadata": {
        "id": "nl8V1swbDVPu"
      },
      "outputs": [
        {
          "data": {
            "text/plain": [
              "array([[[1, 1],\n",
              "        [1, 1]],\n",
              "\n",
              "       [[1, 1],\n",
              "        [1, 1]],\n",
              "\n",
              "       [[1, 1],\n",
              "        [1, 1]],\n",
              "\n",
              "       [[1, 1],\n",
              "        [1, 1]]])"
            ]
          },
          "execution_count": 187,
          "metadata": {},
          "output_type": "execute_result"
        }
      ],
      "source": [
        "np.ones((4, 2, 2), dtype='int32')"
      ]
    },
    {
      "cell_type": "code",
      "execution_count": 189,
      "metadata": {},
      "outputs": [
        {
          "data": {
            "text/plain": [
              "array([[5., 5., 5.],\n",
              "       [5., 5., 5.],\n",
              "       [5., 5., 5.]])"
            ]
          },
          "execution_count": 189,
          "metadata": {},
          "output_type": "execute_result"
        }
      ],
      "source": [
        "np.ones((3,3))*5"
      ]
    },
    {
      "cell_type": "code",
      "execution_count": 190,
      "metadata": {},
      "outputs": [
        {
          "ename": "AttributeError",
          "evalue": "module 'numpy' has no attribute 'fives'",
          "output_type": "error",
          "traceback": [
            "\u001b[1;31m---------------------------------------------------------------------------\u001b[0m",
            "\u001b[1;31mAttributeError\u001b[0m                            Traceback (most recent call last)",
            "Cell \u001b[1;32mIn[190], line 1\u001b[0m\n\u001b[1;32m----> 1\u001b[0m \u001b[43mnp\u001b[49m\u001b[38;5;241;43m.\u001b[39;49m\u001b[43mfives\u001b[49m\n",
            "File \u001b[1;32m~\\AppData\\Local\\Packages\\PythonSoftwareFoundation.Python.3.10_qbz5n2kfra8p0\\LocalCache\\local-packages\\Python310\\site-packages\\numpy\\__init__.py:311\u001b[0m, in \u001b[0;36m__getattr__\u001b[1;34m(attr)\u001b[0m\n\u001b[0;32m    308\u001b[0m     \u001b[38;5;28;01mfrom\u001b[39;00m \u001b[38;5;21;01m.\u001b[39;00m\u001b[38;5;21;01mtesting\u001b[39;00m \u001b[38;5;28;01mimport\u001b[39;00m Tester\n\u001b[0;32m    309\u001b[0m     \u001b[38;5;28;01mreturn\u001b[39;00m Tester\n\u001b[1;32m--> 311\u001b[0m \u001b[38;5;28;01mraise\u001b[39;00m \u001b[38;5;167;01mAttributeError\u001b[39;00m(\u001b[38;5;124m\"\u001b[39m\u001b[38;5;124mmodule \u001b[39m\u001b[38;5;132;01m{!r}\u001b[39;00m\u001b[38;5;124m has no attribute \u001b[39m\u001b[38;5;124m\"\u001b[39m\n\u001b[0;32m    312\u001b[0m                      \u001b[38;5;124m\"\u001b[39m\u001b[38;5;132;01m{!r}\u001b[39;00m\u001b[38;5;124m\"\u001b[39m\u001b[38;5;241m.\u001b[39mformat(\u001b[38;5;18m__name__\u001b[39m, attr))\n",
            "\u001b[1;31mAttributeError\u001b[0m: module 'numpy' has no attribute 'fives'"
          ]
        }
      ],
      "source": []
    },
    {
      "cell_type": "markdown",
      "metadata": {
        "id": "E7kNkmgxDXe7"
      },
      "source": [
        "Se invés de uma matriz apenas de uns, nós quisermos usar outro número, podemos fazer isso aproveitando o `np.ones`. Basta multiplicarmos a matriz pelo número que desejamos."
      ]
    },
    {
      "cell_type": "code",
      "execution_count": 191,
      "metadata": {
        "id": "LCgF12JNDaSb"
      },
      "outputs": [
        {
          "data": {
            "text/plain": [
              "array([[10., 10.],\n",
              "       [10., 10.]])"
            ]
          },
          "execution_count": 191,
          "metadata": {},
          "output_type": "execute_result"
        }
      ],
      "source": [
        "np.ones((2, 2)) * 10"
      ]
    },
    {
      "cell_type": "markdown",
      "metadata": {
        "id": "HOVlCyD4DbuE"
      },
      "source": [
        "Mas o NumPy já tem uma opção mais direta, o `full`."
      ]
    },
    {
      "cell_type": "code",
      "execution_count": 194,
      "metadata": {
        "id": "MrgnhqENDdrA"
      },
      "outputs": [
        {
          "data": {
            "text/plain": [
              "array([[99, 99],\n",
              "       [99, 99]])"
            ]
          },
          "execution_count": 194,
          "metadata": {},
          "output_type": "execute_result"
        }
      ],
      "source": [
        "np.full((2, 2), 99) # O primeiro argumento é o formato, o segundo é o número"
      ]
    },
    {
      "cell_type": "markdown",
      "metadata": {
        "id": "mX2rKGQ1Dfo-"
      },
      "source": [
        "Também temos o `full_like`, que copia o formato de uma matriz que já tenha sido declarada antes."
      ]
    },
    {
      "cell_type": "code",
      "execution_count": 195,
      "metadata": {
        "id": "zFRKjV3HDhSH"
      },
      "outputs": [],
      "source": [
        "np_mat = np.array([[1, 2,  3,  4,  5,  6,  7],\n",
        "                       [8, 9, 10, 11, 12, 13, 14]])"
      ]
    },
    {
      "cell_type": "code",
      "execution_count": null,
      "metadata": {},
      "outputs": [],
      "source": []
    },
    {
      "cell_type": "code",
      "execution_count": 196,
      "metadata": {
        "id": "gJ66OhtVDiX7"
      },
      "outputs": [
        {
          "data": {
            "text/plain": [
              "array([[4, 4, 4, 4, 4, 4, 4],\n",
              "       [4, 4, 4, 4, 4, 4, 4]])"
            ]
          },
          "execution_count": 196,
          "metadata": {},
          "output_type": "execute_result"
        }
      ],
      "source": [
        "np.full_like(np_mat, 4)"
      ]
    },
    {
      "cell_type": "markdown",
      "metadata": {
        "id": "dHlrxQnJDmTE"
      },
      "source": [
        "Outra função para criação de arrays é `np.repeat`. Ela repete um determinado array na direção do eixo escolhido.\n",
        "\n",
        "Para um vetor de 1D, temos apenas 1 eixo, mas para matrizes, tempos dois. O eixo 0 é linha, o eixo 1 é coluna."
      ]
    },
    {
      "cell_type": "code",
      "execution_count": 198,
      "metadata": {
        "id": "JnZLTv_3DpTm"
      },
      "outputs": [
        {
          "data": {
            "text/plain": [
              "array([1, 2, 3])"
            ]
          },
          "execution_count": 198,
          "metadata": {},
          "output_type": "execute_result"
        }
      ],
      "source": [
        "arr = np.array([1, 2, 3])\n",
        "arr\n"
      ]
    },
    {
      "cell_type": "code",
      "execution_count": 199,
      "metadata": {},
      "outputs": [
        {
          "name": "stdout",
          "output_type": "stream",
          "text": [
            "[1 1 1 2 2 2 3 3 3]\n"
          ]
        }
      ],
      "source": [
        "r1 = np.repeat(arr, 3)\n",
        "print(r1)"
      ]
    },
    {
      "cell_type": "markdown",
      "metadata": {
        "id": "dcK28KnNDsUm"
      },
      "source": [
        "Para fazermos uma matriz, mudamos o formato da variável `arr` de (3,) para (1,3)."
      ]
    },
    {
      "cell_type": "code",
      "execution_count": 200,
      "metadata": {
        "id": "WNuHem4fDuoY"
      },
      "outputs": [
        {
          "name": "stdout",
          "output_type": "stream",
          "text": [
            "[[1 2 3]\n",
            " [1 2 3]\n",
            " [1 2 3]]\n"
          ]
        }
      ],
      "source": [
        "arr = np.array([[1, 2, 3]])\n",
        "r1 = np.repeat(arr, 3, axis=0)\n",
        "print(r1)"
      ]
    },
    {
      "cell_type": "code",
      "execution_count": 201,
      "metadata": {
        "id": "dWIOG-A_DwMt"
      },
      "outputs": [
        {
          "name": "stdout",
          "output_type": "stream",
          "text": [
            "[[1 1 1 2 2 2 3 3 3]]\n"
          ]
        }
      ],
      "source": [
        "r2 = np.repeat(arr, 3, axis=1)\n",
        "print(r2)"
      ]
    },
    {
      "cell_type": "markdown",
      "metadata": {
        "id": "GP6U0_tlBbyv"
      },
      "source": [
        "#### Criando arrays com listas de números\n",
        "\n"
      ]
    },
    {
      "cell_type": "markdown",
      "metadata": {
        "id": "OogauKiJC1fr"
      },
      "source": [
        "Um caso específico de criação de arrays é quando queremos gerar uma lista sequencial de números. Isso é muito comum, por exemplo, quando queremos calcular uma função matemática em vários pontos de uma única vez.\n",
        "\n",
        "A primeira função do NumPy para criar essa sequência numérica é `np.arange`. Esta função retorna elementos igualmente espaçados por um step (que por padrão é 1) dentro de um certo intervalo."
      ]
    },
    {
      "cell_type": "code",
      "execution_count": 3,
      "metadata": {},
      "outputs": [],
      "source": [
        "import numpy as np"
      ]
    },
    {
      "cell_type": "code",
      "execution_count": 6,
      "metadata": {
        "id": "slbLzibFC5h7"
      },
      "outputs": [
        {
          "data": {
            "text/plain": [
              "array([0, 1, 2, 3, 4, 5, 6, 7, 8, 9])"
            ]
          },
          "execution_count": 6,
          "metadata": {},
          "output_type": "execute_result"
        }
      ],
      "source": [
        "np.arange(0, 10)"
      ]
    },
    {
      "cell_type": "markdown",
      "metadata": {
        "id": "xUbJc3vWC7Vg"
      },
      "source": [
        "A função `np.arange` é semelhante à função `range` do Python, porém permite que peguemos valores de ponto flutuante (números com decimal) dentro do nosso intervalo."
      ]
    },
    {
      "cell_type": "code",
      "execution_count": 7,
      "metadata": {
        "id": "dkTfd_y8C8-R"
      },
      "outputs": [
        {
          "data": {
            "text/plain": [
              "array([ 0. ,  0.1,  0.2,  0.3,  0.4,  0.5,  0.6,  0.7,  0.8,  0.9,  1. ,\n",
              "        1.1,  1.2,  1.3,  1.4,  1.5,  1.6,  1.7,  1.8,  1.9,  2. ,  2.1,\n",
              "        2.2,  2.3,  2.4,  2.5,  2.6,  2.7,  2.8,  2.9,  3. ,  3.1,  3.2,\n",
              "        3.3,  3.4,  3.5,  3.6,  3.7,  3.8,  3.9,  4. ,  4.1,  4.2,  4.3,\n",
              "        4.4,  4.5,  4.6,  4.7,  4.8,  4.9,  5. ,  5.1,  5.2,  5.3,  5.4,\n",
              "        5.5,  5.6,  5.7,  5.8,  5.9,  6. ,  6.1,  6.2,  6.3,  6.4,  6.5,\n",
              "        6.6,  6.7,  6.8,  6.9,  7. ,  7.1,  7.2,  7.3,  7.4,  7.5,  7.6,\n",
              "        7.7,  7.8,  7.9,  8. ,  8.1,  8.2,  8.3,  8.4,  8.5,  8.6,  8.7,\n",
              "        8.8,  8.9,  9. ,  9.1,  9.2,  9.3,  9.4,  9.5,  9.6,  9.7,  9.8,\n",
              "        9.9, 10. , 10.1, 10.2, 10.3, 10.4, 10.5, 10.6, 10.7, 10.8, 10.9])"
            ]
          },
          "execution_count": 7,
          "metadata": {},
          "output_type": "execute_result"
        }
      ],
      "source": [
        "np.arange(0, 11, 0.1)"
      ]
    },
    {
      "cell_type": "code",
      "execution_count": 10,
      "metadata": {},
      "outputs": [
        {
          "data": {
            "text/plain": [
              "[0, 1, 2, 3, 4, 5, 6, 7, 8, 9]"
            ]
          },
          "execution_count": 10,
          "metadata": {},
          "output_type": "execute_result"
        }
      ],
      "source": [
        "[i for i in range(0,10,1)]"
      ]
    },
    {
      "cell_type": "markdown",
      "metadata": {
        "id": "IbH-teRdC-vQ"
      },
      "source": [
        "Outro caso comum que esbarramos para criar uma lista sequencial é quando queremos escolher uma grande quantidade de pontos entre dois números. Por exemplo, pode ser que nós queiramos fazer um mesmo cálculo para 10 valores entre 3 e 7.\n",
        "\n",
        "Neste caso, usamos a função `np.linspace`."
      ]
    },
    {
      "cell_type": "code",
      "execution_count": 14,
      "metadata": {},
      "outputs": [
        {
          "data": {
            "text/plain": [
              "array([3, 4, 5, 6, 7])"
            ]
          },
          "execution_count": 14,
          "metadata": {},
          "output_type": "execute_result"
        }
      ],
      "source": [
        "np.arange(3,8)"
      ]
    },
    {
      "cell_type": "code",
      "execution_count": 12,
      "metadata": {
        "id": "j_xipOR0DAsw"
      },
      "outputs": [
        {
          "data": {
            "text/plain": [
              "array([3.        , 3.04040404, 3.08080808, 3.12121212, 3.16161616,\n",
              "       3.2020202 , 3.24242424, 3.28282828, 3.32323232, 3.36363636,\n",
              "       3.4040404 , 3.44444444, 3.48484848, 3.52525253, 3.56565657,\n",
              "       3.60606061, 3.64646465, 3.68686869, 3.72727273, 3.76767677,\n",
              "       3.80808081, 3.84848485, 3.88888889, 3.92929293, 3.96969697,\n",
              "       4.01010101, 4.05050505, 4.09090909, 4.13131313, 4.17171717,\n",
              "       4.21212121, 4.25252525, 4.29292929, 4.33333333, 4.37373737,\n",
              "       4.41414141, 4.45454545, 4.49494949, 4.53535354, 4.57575758,\n",
              "       4.61616162, 4.65656566, 4.6969697 , 4.73737374, 4.77777778,\n",
              "       4.81818182, 4.85858586, 4.8989899 , 4.93939394, 4.97979798,\n",
              "       5.02020202, 5.06060606, 5.1010101 , 5.14141414, 5.18181818,\n",
              "       5.22222222, 5.26262626, 5.3030303 , 5.34343434, 5.38383838,\n",
              "       5.42424242, 5.46464646, 5.50505051, 5.54545455, 5.58585859,\n",
              "       5.62626263, 5.66666667, 5.70707071, 5.74747475, 5.78787879,\n",
              "       5.82828283, 5.86868687, 5.90909091, 5.94949495, 5.98989899,\n",
              "       6.03030303, 6.07070707, 6.11111111, 6.15151515, 6.19191919,\n",
              "       6.23232323, 6.27272727, 6.31313131, 6.35353535, 6.39393939,\n",
              "       6.43434343, 6.47474747, 6.51515152, 6.55555556, 6.5959596 ,\n",
              "       6.63636364, 6.67676768, 6.71717172, 6.75757576, 6.7979798 ,\n",
              "       6.83838384, 6.87878788, 6.91919192, 6.95959596, 7.        ])"
            ]
          },
          "execution_count": 12,
          "metadata": {},
          "output_type": "execute_result"
        }
      ],
      "source": [
        "np.linspace(3, 7, num=100)"
      ]
    },
    {
      "cell_type": "markdown",
      "metadata": {
        "id": "HcUuEDyYBYIm"
      },
      "source": [
        "#### Números decimais aleatórios\n",
        "\n"
      ]
    },
    {
      "cell_type": "markdown",
      "metadata": {
        "id": "qTQbpYjJAsFa"
      },
      "source": [
        "O NumPy tem um sub-módulo chamado `random` (cujas funções são acessadas usando o preâmbulo `np.random`). Nele, existe um conjunto de funções focadas em gerar arrays com números aleatórios.\n",
        "\n",
        "Por exemplo, a função `np.random.random_sample` retorna valores aleatórios entre 0 e 1."
      ]
    },
    {
      "cell_type": "code",
      "execution_count": 13,
      "metadata": {
        "id": "5dSx4hDuAp9N"
      },
      "outputs": [
        {
          "data": {
            "text/plain": [
              "array([[0.44024382, 0.21964608],\n",
              "       [0.13326979, 0.21851955],\n",
              "       [0.75920258, 0.83388659],\n",
              "       [0.25339889, 0.70960286]])"
            ]
          },
          "execution_count": 13,
          "metadata": {},
          "output_type": "execute_result"
        }
      ],
      "source": [
        "np.random.random_sample((4, 2)) # O argumento é o formato do array resultante."
      ]
    },
    {
      "cell_type": "markdown",
      "metadata": {
        "id": "hD0ZlYUyAw0D"
      },
      "source": [
        "A função `np.random.rand` é um \"alias\" da função de cima. Isso significa que, por trás dos panos, ela literalmente só executa a função `np.random.random_sample`.\n",
        "\n",
        "Essa função existe para facilitar a migração de códigos de outras linguagens de computação numérica (especificamente, códigos de uma linguagem chamada MATLAB)."
      ]
    },
    {
      "cell_type": "code",
      "execution_count": 15,
      "metadata": {
        "id": "rbJDtEFSAybQ"
      },
      "outputs": [
        {
          "data": {
            "text/plain": [
              "array([[0.97630248, 0.92835274],\n",
              "       [0.07047583, 0.70528383],\n",
              "       [0.54307399, 0.69563157],\n",
              "       [0.59021474, 0.54651645]])"
            ]
          },
          "execution_count": 15,
          "metadata": {},
          "output_type": "execute_result"
        }
      ],
      "source": [
        "np.random.rand(4, 2)"
      ]
    },
    {
      "cell_type": "markdown",
      "metadata": {
        "id": "wQ8Na1M3Cc2z"
      },
      "source": [
        "Se quisermos criar um array de números inteiros abaixo de um certo valor, escolhidos ao acaso, usamos a função `np.random.randint`."
      ]
    },
    {
      "cell_type": "code",
      "execution_count": 16,
      "metadata": {
        "id": "vlFFiwMxCes0"
      },
      "outputs": [
        {
          "data": {
            "text/plain": [
              "array([[4, 3, 2],\n",
              "       [0, 2, 0],\n",
              "       [6, 0, 2]])"
            ]
          },
          "execution_count": 16,
          "metadata": {},
          "output_type": "execute_result"
        }
      ],
      "source": [
        "np.random.randint(7, size=(3, 3)) # Números menores que 7, formato 3 x 3"
      ]
    },
    {
      "cell_type": "markdown",
      "metadata": {
        "id": "-OtJjTEcCgxO"
      },
      "source": [
        "Os argumentos principais da função `np.random.randint` são `low`, `high` e `size`, que definem o menor inteiro possível, o maior inteiro possível, e o tamanho do array resultante."
      ]
    },
    {
      "cell_type": "code",
      "execution_count": 23,
      "metadata": {},
      "outputs": [
        {
          "data": {
            "text/plain": [
              "array([], shape=(0, 1, 2, 3, 4, 5, 6, 7, 8, 9), dtype=float64)"
            ]
          },
          "execution_count": 23,
          "metadata": {},
          "output_type": "execute_result"
        }
      ],
      "source": [
        "np.random.sample(range(10))"
      ]
    },
    {
      "cell_type": "code",
      "execution_count": 29,
      "metadata": {},
      "outputs": [
        {
          "data": {
            "text/plain": [
              "array([9, 5, 4, 0, 2, 8, 6, 3, 7, 2, 3])"
            ]
          },
          "execution_count": 29,
          "metadata": {},
          "output_type": "execute_result"
        }
      ],
      "source": [
        "np.random.choice(range(10),size = 11, replace=True)"
      ]
    },
    {
      "cell_type": "code",
      "execution_count": 33,
      "metadata": {},
      "outputs": [],
      "source": [
        "np.random.seed(42)"
      ]
    },
    {
      "cell_type": "code",
      "execution_count": 37,
      "metadata": {},
      "outputs": [
        {
          "data": {
            "text/plain": [
              "array([[83, 53, 70, 45, 44],\n",
              "       [39, 22, 80, 10,  0],\n",
              "       [18, 30, 73, 33, 90],\n",
              "       [ 4, 76, 77, 12, 31],\n",
              "       [55, 88, 26, 42, 69]])"
            ]
          },
          "execution_count": 37,
          "metadata": {},
          "output_type": "execute_result"
        }
      ],
      "source": [
        "np.random.seed(42)\n",
        "np.random.choice(100, size=(5,5), replace=False)"
      ]
    },
    {
      "cell_type": "code",
      "execution_count": 25,
      "metadata": {},
      "outputs": [
        {
          "name": "stdout",
          "output_type": "stream",
          "text": [
            "\u001b[1;31mDocstring:\u001b[0m\n",
            "choice(a, size=None, replace=True, p=None)\n",
            "\n",
            "Generates a random sample from a given 1-D array\n",
            "\n",
            ".. versionadded:: 1.7.0\n",
            "\n",
            ".. note::\n",
            "    New code should use the ``choice`` method of a ``default_rng()``\n",
            "    instance instead; please see the :ref:`random-quick-start`.\n",
            "\n",
            "Parameters\n",
            "----------\n",
            "a : 1-D array-like or int\n",
            "    If an ndarray, a random sample is generated from its elements.\n",
            "    If an int, the random sample is generated as if it were ``np.arange(a)``\n",
            "size : int or tuple of ints, optional\n",
            "    Output shape.  If the given shape is, e.g., ``(m, n, k)``, then\n",
            "    ``m * n * k`` samples are drawn.  Default is None, in which case a\n",
            "    single value is returned.\n",
            "replace : boolean, optional\n",
            "    Whether the sample is with or without replacement. Default is True,\n",
            "    meaning that a value of ``a`` can be selected multiple times.\n",
            "p : 1-D array-like, optional\n",
            "    The probabilities associated with each entry in a.\n",
            "    If not given, the sample assumes a uniform distribution over all\n",
            "    entries in ``a``.\n",
            "\n",
            "Returns\n",
            "-------\n",
            "samples : single item or ndarray\n",
            "    The generated random samples\n",
            "\n",
            "Raises\n",
            "------\n",
            "ValueError\n",
            "    If a is an int and less than zero, if a or p are not 1-dimensional,\n",
            "    if a is an array-like of size 0, if p is not a vector of\n",
            "    probabilities, if a and p have different lengths, or if\n",
            "    replace=False and the sample size is greater than the population\n",
            "    size\n",
            "\n",
            "See Also\n",
            "--------\n",
            "randint, shuffle, permutation\n",
            "random.Generator.choice: which should be used in new code\n",
            "\n",
            "Notes\n",
            "-----\n",
            "Setting user-specified probabilities through ``p`` uses a more general but less\n",
            "efficient sampler than the default. The general sampler produces a different sample\n",
            "than the optimized sampler even if each element of ``p`` is 1 / len(a).\n",
            "\n",
            "Sampling random rows from a 2-D array is not possible with this function,\n",
            "but is possible with `Generator.choice` through its ``axis`` keyword.\n",
            "\n",
            "Examples\n",
            "--------\n",
            "Generate a uniform random sample from np.arange(5) of size 3:\n",
            "\n",
            ">>> np.random.choice(5, 3)\n",
            "array([0, 3, 4]) # random\n",
            ">>> #This is equivalent to np.random.randint(0,5,3)\n",
            "\n",
            "Generate a non-uniform random sample from np.arange(5) of size 3:\n",
            "\n",
            ">>> np.random.choice(5, 3, p=[0.1, 0, 0.3, 0.6, 0])\n",
            "array([3, 3, 0]) # random\n",
            "\n",
            "Generate a uniform random sample from np.arange(5) of size 3 without\n",
            "replacement:\n",
            "\n",
            ">>> np.random.choice(5, 3, replace=False)\n",
            "array([3,1,0]) # random\n",
            ">>> #This is equivalent to np.random.permutation(np.arange(5))[:3]\n",
            "\n",
            "Generate a non-uniform random sample from np.arange(5) of size\n",
            "3 without replacement:\n",
            "\n",
            ">>> np.random.choice(5, 3, replace=False, p=[0.1, 0, 0.3, 0.6, 0])\n",
            "array([2, 3, 0]) # random\n",
            "\n",
            "Any of the above can be repeated with an arbitrary array-like\n",
            "instead of just integers. For instance:\n",
            "\n",
            ">>> aa_milne_arr = ['pooh', 'rabbit', 'piglet', 'Christopher']\n",
            ">>> np.random.choice(aa_milne_arr, 5, p=[0.5, 0.1, 0.1, 0.3])\n",
            "array(['pooh', 'pooh', 'pooh', 'Christopher', 'piglet'], # random\n",
            "      dtype='<U11')\n",
            "\u001b[1;31mType:\u001b[0m      builtin_function_or_method"
          ]
        }
      ],
      "source": [
        "?np.random.choice"
      ]
    },
    {
      "cell_type": "code",
      "execution_count": 38,
      "metadata": {
        "id": "lg14-bfSCiRr"
      },
      "outputs": [
        {
          "data": {
            "text/plain": [
              "array([7, 5, 7, 7, 5, 7, 9, 6, 6, 5])"
            ]
          },
          "execution_count": 38,
          "metadata": {},
          "output_type": "execute_result"
        }
      ],
      "source": [
        "np.random.randint(low=5, high=10, size=10)"
      ]
    },
    {
      "cell_type": "code",
      "execution_count": 39,
      "metadata": {},
      "outputs": [],
      "source": [
        "mu, sigma = 0, 0.1 # mean and standard deviation"
      ]
    },
    {
      "cell_type": "code",
      "execution_count": 46,
      "metadata": {},
      "outputs": [],
      "source": [
        "s = np.random.normal(mu, sigma, 1000)"
      ]
    },
    {
      "cell_type": "code",
      "execution_count": 47,
      "metadata": {},
      "outputs": [
        {
          "data": {
            "image/png": "[encoded data removed]",
            "text/plain": [
              "<Figure size 640x480 with 1 Axes>"
            ]
          },
          "metadata": {},
          "output_type": "display_data"
        }
      ],
      "source": [
        "import matplotlib.pyplot as plt\n",
        "\n",
        "count, bins, ignored = plt.hist(s, 30, density=True)\n",
        "\n",
        "plt.plot(bins, 1/(sigma * np.sqrt(2 * np.pi)) *\n",
        "             np.exp( - (bins - mu)**2 / (2 * sigma**2) ),\n",
        "         linewidth=2, color='r')\n",
        "plt.show()"
      ]
    },
    {
      "cell_type": "markdown",
      "metadata": {
        "id": "hDU8jW4sCkSI"
      },
      "source": [
        "Para incluir o 10 entre os valores possíveis, basta trocar o argumento high para 11."
      ]
    },
    {
      "cell_type": "markdown",
      "metadata": {
        "id": "6--bG0YcBUZ5"
      },
      "source": [
        "## 3. Matemática com NumPy  <a name=\"3matematica\"></a>\n",
        "\n"
      ]
    },
    {
      "cell_type": "markdown",
      "metadata": {
        "id": "lKKN1VqZHHhD"
      },
      "source": [
        "No início deste texto, nós introduzimos o NumPy como uma biblioteca muito utilizada para fazer cálculos numéricos. Vamos ver então as operações matemáticas disponíveis no NumPy.\n",
        "\n",
        "A primeira coisa a se observar é que as operações matemáticas básicas, como usadas no Python, podem ser usadas também para ndarrays. Só temos que lembrar sempre que elas são aplicadas elemento a elemento."
      ]
    },
    {
      "cell_type": "code",
      "execution_count": 48,
      "metadata": {
        "id": "lzcdqUanHFKA"
      },
      "outputs": [],
      "source": [
        "vec1 = np.array([2., 4., 6., 8.])\n",
        "vec2 = np.array([1., 2., 3., 4.])\n"
      ]
    },
    {
      "cell_type": "code",
      "execution_count": 49,
      "metadata": {},
      "outputs": [
        {
          "data": {
            "text/plain": [
              "array([ 3.,  6.,  9., 12.])"
            ]
          },
          "execution_count": 49,
          "metadata": {},
          "output_type": "execute_result"
        }
      ],
      "source": [
        "vec1 + vec2                    # Soma"
      ]
    },
    {
      "cell_type": "code",
      "execution_count": 50,
      "metadata": {
        "id": "2WVEvMBNHRZO"
      },
      "outputs": [
        {
          "data": {
            "text/plain": [
              "array([1., 2., 3., 4.])"
            ]
          },
          "execution_count": 50,
          "metadata": {},
          "output_type": "execute_result"
        }
      ],
      "source": [
        "vec1 - vec2                    # subtração"
      ]
    },
    {
      "cell_type": "code",
      "execution_count": 51,
      "metadata": {
        "id": "RmNZ9shhHTqh"
      },
      "outputs": [
        {
          "data": {
            "text/plain": [
              "array([ 2.,  8., 18., 32.])"
            ]
          },
          "execution_count": 51,
          "metadata": {},
          "output_type": "execute_result"
        }
      ],
      "source": [
        "vec1 * vec2                    # Multiplicação"
      ]
    },
    {
      "cell_type": "code",
      "execution_count": 52,
      "metadata": {
        "id": "nDTURkcJHWIp"
      },
      "outputs": [
        {
          "data": {
            "text/plain": [
              "array([2., 2., 2., 2.])"
            ]
          },
          "execution_count": 52,
          "metadata": {},
          "output_type": "execute_result"
        }
      ],
      "source": [
        "vec1 / vec2                    # Divisão"
      ]
    },
    {
      "cell_type": "code",
      "execution_count": 53,
      "metadata": {
        "id": "iYvyJOcKHYg3"
      },
      "outputs": [
        {
          "data": {
            "text/plain": [
              "array([2.000e+00, 1.600e+01, 2.160e+02, 4.096e+03])"
            ]
          },
          "execution_count": 53,
          "metadata": {},
          "output_type": "execute_result"
        }
      ],
      "source": [
        "vec1 ** vec2                   # exponenciação"
      ]
    },
    {
      "cell_type": "markdown",
      "metadata": {
        "id": "OnXlf4zbHg91"
      },
      "source": [
        "A notação com este \"e\" minúsculo significa que o número está escrito em notação científica, isto é, em potências de 10. Assim, `4.096e+03` significa `4096` (pois multiplicamos o número por 1000, que é dez elevado a 3). Ainda nesta linha, `2.160e+02` significa `216`.\n",
        "\n",
        "O NumPy também consegue fazer operações entre arrays e números (chamadas operações com escalares)."
      ]
    },
    {
      "cell_type": "code",
      "execution_count": 55,
      "metadata": {},
      "outputs": [
        {
          "data": {
            "text/plain": [
              "array([1., 2., 3., 4.])"
            ]
          },
          "execution_count": 55,
          "metadata": {},
          "output_type": "execute_result"
        }
      ],
      "source": [
        "vec2"
      ]
    },
    {
      "cell_type": "code",
      "execution_count": 54,
      "metadata": {
        "id": "djNP5DeFHi4b"
      },
      "outputs": [
        {
          "data": {
            "text/plain": [
              "array([3., 4., 5., 6.])"
            ]
          },
          "execution_count": 54,
          "metadata": {},
          "output_type": "execute_result"
        }
      ],
      "source": [
        "vec2 + 2                 # Somar"
      ]
    },
    {
      "cell_type": "code",
      "execution_count": 56,
      "metadata": {
        "id": "sUvNn7jpHleI"
      },
      "outputs": [
        {
          "data": {
            "text/plain": [
              "array([-1.,  0.,  1.,  2.])"
            ]
          },
          "execution_count": 56,
          "metadata": {},
          "output_type": "execute_result"
        }
      ],
      "source": [
        "vec2 - 2                 # Subtrair"
      ]
    },
    {
      "cell_type": "code",
      "execution_count": 57,
      "metadata": {
        "id": "oMSyE1o2HmtB"
      },
      "outputs": [
        {
          "data": {
            "text/plain": [
              "array([2., 4., 6., 8.])"
            ]
          },
          "execution_count": 57,
          "metadata": {},
          "output_type": "execute_result"
        }
      ],
      "source": [
        "vec2 * 2                 # Multiplicar"
      ]
    },
    {
      "cell_type": "code",
      "execution_count": 58,
      "metadata": {
        "id": "AWUEXvoSHoDm"
      },
      "outputs": [
        {
          "data": {
            "text/plain": [
              "array([0.5, 1. , 1.5, 2. ])"
            ]
          },
          "execution_count": 58,
          "metadata": {},
          "output_type": "execute_result"
        }
      ],
      "source": [
        "vec2 / 2                 # Dividir"
      ]
    },
    {
      "cell_type": "code",
      "execution_count": 60,
      "metadata": {
        "id": "VUNWG846Hppl"
      },
      "outputs": [
        {
          "data": {
            "text/plain": [
              "array([ 1.,  4.,  9., 16.])"
            ]
          },
          "execution_count": 60,
          "metadata": {},
          "output_type": "execute_result"
        }
      ],
      "source": [
        "vec2 ** 2                   # Potência (elevar a um número)"
      ]
    },
    {
      "cell_type": "code",
      "execution_count": 61,
      "metadata": {
        "id": "TP-lnJLUHrGT"
      },
      "outputs": [],
      "source": [
        "vec2 += 2                # Incrementar"
      ]
    },
    {
      "cell_type": "code",
      "execution_count": 63,
      "metadata": {},
      "outputs": [],
      "source": [
        "vec2 = vec2 + 2"
      ]
    },
    {
      "cell_type": "code",
      "execution_count": 62,
      "metadata": {},
      "outputs": [
        {
          "data": {
            "text/plain": [
              "array([3., 4., 5., 6.])"
            ]
          },
          "execution_count": 62,
          "metadata": {},
          "output_type": "execute_result"
        }
      ],
      "source": [
        "vec2"
      ]
    },
    {
      "cell_type": "code",
      "execution_count": null,
      "metadata": {
        "id": "OeygFayJHsn6"
      },
      "outputs": [],
      "source": [
        "vec2"
      ]
    },
    {
      "cell_type": "markdown",
      "metadata": {
        "id": "VJn3oFwOHumU"
      },
      "source": [
        "Agora uma dúvida é: se os nossos ndarrays tiverem formatos diferentes, então o NumPy apenas retorna um erro?\n",
        "\n",
        "Depende do caso. Ele consegue fazer a operação se a diferença entre os formatos seguirem algumas regras que veremos abaixo. Nestes casos, ele faz o que chamamos de **Broadcasting**.\n",
        "\n",
        "Se a diferença entre os formatos não seguirem as regrinhas necessárias para realizar broadcasting, então o NumPy retorna de fato um erro."
      ]
    },
    {
      "cell_type": "code",
      "execution_count": 64,
      "metadata": {
        "id": "hJtRES8LHxAn"
      },
      "outputs": [
        {
          "ename": "ValueError",
          "evalue": "operands could not be broadcast together with shapes (3,) (2,) ",
          "output_type": "error",
          "traceback": [
            "\u001b[1;31m---------------------------------------------------------------------------\u001b[0m",
            "\u001b[1;31mValueError\u001b[0m                                Traceback (most recent call last)",
            "Cell \u001b[1;32mIn[64], line 3\u001b[0m\n\u001b[0;32m      1\u001b[0m a \u001b[38;5;241m=\u001b[39m np\u001b[38;5;241m.\u001b[39marray([\u001b[38;5;241m1\u001b[39m, \u001b[38;5;241m2\u001b[39m, \u001b[38;5;241m3\u001b[39m])\n\u001b[0;32m      2\u001b[0m b \u001b[38;5;241m=\u001b[39m np\u001b[38;5;241m.\u001b[39marray([\u001b[38;5;241m2\u001b[39m, \u001b[38;5;241m2\u001b[39m])\n\u001b[1;32m----> 3\u001b[0m \u001b[43ma\u001b[49m\u001b[43m \u001b[49m\u001b[38;5;241;43m*\u001b[39;49m\u001b[43m \u001b[49m\u001b[43mb\u001b[49m\n",
            "\u001b[1;31mValueError\u001b[0m: operands could not be broadcast together with shapes (3,) (2,) "
          ]
        }
      ],
      "source": [
        "a = np.array([1, 2, 3])\n",
        "b = np.array([2, 2])\n",
        "a * b"
      ]
    },
    {
      "cell_type": "markdown",
      "metadata": {
        "id": "jEVN-zaYBQpb"
      },
      "source": [
        "### 3.1. Broadcasting  <a name=\"31broadcasting\"></a>"
      ]
    },
    {
      "cell_type": "markdown",
      "metadata": {
        "id": "ysw-cHupGAIw"
      },
      "source": [
        "O que fizemos, nas operações com escalar, é um tipo de broadcasting. Você pode imaginar que o que está acontecendo é o seguinte:\n",
        "- pegue o seu número,\n",
        "- crie um ndarray, de mesmo formato que o primeiro, mas cujos valores são o seu número.\n",
        "\n",
        "![broadcasting01](https://s3-sa-east-1.amazonaws.com/lcpi/dec6164e-6fc2-4e13-8e83-047617a2f89b.png \"broadcasting escalar\")\n",
        "\n",
        "(**Fonte:** Tutoriais oficiais do NumPy [\\[2\\]](#2))\n",
        "\n",
        "Na imagem acima (que foi tirada dos tutoriais oficiais do NumPy), nota que o valor 2 é \"esticado\". Ele é repetido ao longo do eixo 0 até ter um ndarray de formato (3,).\n",
        "\n",
        "Essa ideia pode ser generalizada. Sempre que fizer sentido \"esticar\" (ou repetir) o array menor até ele ficar com o mesmo formato do maior, então o NumPy consegue realizar uma operação de broadcasting."
      ]
    },
    {
      "cell_type": "code",
      "execution_count": 65,
      "metadata": {
        "id": "Nsb7TlpHF_BH"
      },
      "outputs": [
        {
          "data": {
            "text/plain": [
              "array([[ 1,  2,  3],\n",
              "       [11, 12, 13],\n",
              "       [21, 22, 23],\n",
              "       [31, 32, 33]])"
            ]
          },
          "execution_count": 65,
          "metadata": {},
          "output_type": "execute_result"
        }
      ],
      "source": [
        "matrix = np.array([[0, 0, 0],\n",
        "                   [10, 10, 10],\n",
        "                   [20, 20, 20],\n",
        "                   [30, 30, 30]])\n",
        "vec = np.array([1, 2, 3])\n",
        "matrix + vec"
      ]
    },
    {
      "cell_type": "code",
      "execution_count": 66,
      "metadata": {},
      "outputs": [
        {
          "data": {
            "text/plain": [
              "array([[ 1,  1,  1],\n",
              "       [12, 12, 12],\n",
              "       [23, 23, 23],\n",
              "       [34, 34, 34]])"
            ]
          },
          "execution_count": 66,
          "metadata": {},
          "output_type": "execute_result"
        }
      ],
      "source": [
        "vec2 = np.array([[1], \n",
        "                 [2], \n",
        "                 [3],\n",
        "                 [4]])\n",
        "matrix + vec2"
      ]
    },
    {
      "cell_type": "code",
      "execution_count": 67,
      "metadata": {},
      "outputs": [
        {
          "data": {
            "text/plain": [
              "array([[ 1,  2,  3],\n",
              "       [12, 13, 14],\n",
              "       [23, 24, 25],\n",
              "       [34, 35, 36]])"
            ]
          },
          "execution_count": 67,
          "metadata": {},
          "output_type": "execute_result"
        }
      ],
      "source": [
        "matrix2 = np.array([[1,2,3], [2,3,4], [3,4,5],[4,5,6]])\n",
        "matrix + matrix2"
      ]
    },
    {
      "cell_type": "markdown",
      "metadata": {
        "id": "kHCfSBJKGTR-"
      },
      "source": [
        "\n",
        "![broadcasting02](https://s3-sa-east-1.amazonaws.com/lcpi/ab17651c-1154-4ea1-a716-09e203f49060.png \"broadcasting array\")\n",
        "\n",
        "(**Fonte:** Tutoriais oficiais do NumPy [\\[2\\]](#2))\n",
        "\n",
        "A imagem acima mostra o que está acontecendo no código de exemplo que demos.\n",
        "\n",
        "Mas por que colocamos a expressão \"sempre que fizer sentido\"? O motivo é que a única coisa que o NumPy aceita fazer é repetir o array menor diversas vezes na direção de uma dimensão. Ele não reajusta o seu array!\n",
        "\n",
        "![not_broadcasting](https://s3-sa-east-1.amazonaws.com/lcpi/862c983a-f9b3-4474-80e2-b807f15d5a7b.png \"not broadcasting\")\n",
        "\n",
        "(**Fonte:** Tutoriais oficiais do NumPy [\\[2\\]](#2))"
      ]
    },
    {
      "cell_type": "code",
      "execution_count": 68,
      "metadata": {
        "id": "ikUwR9e9FVPM"
      },
      "outputs": [
        {
          "ename": "ValueError",
          "evalue": "operands could not be broadcast together with shapes (4,3) (4,) ",
          "output_type": "error",
          "traceback": [
            "\u001b[1;31m---------------------------------------------------------------------------\u001b[0m",
            "\u001b[1;31mValueError\u001b[0m                                Traceback (most recent call last)",
            "Cell \u001b[1;32mIn[68], line 6\u001b[0m\n\u001b[0;32m      1\u001b[0m matrix \u001b[38;5;241m=\u001b[39m np\u001b[38;5;241m.\u001b[39marray([[\u001b[38;5;241m0\u001b[39m, \u001b[38;5;241m0\u001b[39m, \u001b[38;5;241m0\u001b[39m],\n\u001b[0;32m      2\u001b[0m                    [\u001b[38;5;241m10\u001b[39m, \u001b[38;5;241m10\u001b[39m, \u001b[38;5;241m10\u001b[39m],\n\u001b[0;32m      3\u001b[0m                    [\u001b[38;5;241m20\u001b[39m, \u001b[38;5;241m20\u001b[39m, \u001b[38;5;241m20\u001b[39m],\n\u001b[0;32m      4\u001b[0m                    [\u001b[38;5;241m30\u001b[39m, \u001b[38;5;241m30\u001b[39m, \u001b[38;5;241m30\u001b[39m]])\n\u001b[0;32m      5\u001b[0m vec \u001b[38;5;241m=\u001b[39m np\u001b[38;5;241m.\u001b[39marray([\u001b[38;5;241m1\u001b[39m, \u001b[38;5;241m2\u001b[39m, \u001b[38;5;241m3\u001b[39m, \u001b[38;5;241m4\u001b[39m])\n\u001b[1;32m----> 6\u001b[0m \u001b[43mmatrix\u001b[49m\u001b[43m \u001b[49m\u001b[38;5;241;43m+\u001b[39;49m\u001b[43m \u001b[49m\u001b[43mvec\u001b[49m\n",
            "\u001b[1;31mValueError\u001b[0m: operands could not be broadcast together with shapes (4,3) (4,) "
          ]
        }
      ],
      "source": [
        "matrix = np.array([[0, 0, 0],\n",
        "                   [10, 10, 10],\n",
        "                   [20, 20, 20],\n",
        "                   [30, 30, 30]])\n",
        "vec = np.array([1, 2, 3, 4])\n",
        "matrix + vec"
      ]
    },
    {
      "cell_type": "markdown",
      "metadata": {
        "id": "pSQbTJNXGc6b"
      },
      "source": [
        "É interessante notar que essa \"esticada\" para realizar o broadcast só pode ser feita em 1 eixo. Mesmo que fosse possível copiar o array menor até ele ter o mesmo formato do array maior, se para isso precisarmos fazer cópias ao longo de 2 eixos, então o NumPy retorna um erro."
      ]
    },
    {
      "cell_type": "code",
      "execution_count": 69,
      "metadata": {
        "id": "Jh5W9WLRGhaX"
      },
      "outputs": [
        {
          "ename": "ValueError",
          "evalue": "operands could not be broadcast together with shapes (3,4) (2,) ",
          "output_type": "error",
          "traceback": [
            "\u001b[1;31m---------------------------------------------------------------------------\u001b[0m",
            "\u001b[1;31mValueError\u001b[0m                                Traceback (most recent call last)",
            "Cell \u001b[1;32mIn[69], line 5\u001b[0m\n\u001b[0;32m      1\u001b[0m a \u001b[38;5;241m=\u001b[39m np\u001b[38;5;241m.\u001b[39marray([[\u001b[38;5;241m1\u001b[39m, \u001b[38;5;241m2\u001b[39m, \u001b[38;5;241m3\u001b[39m, \u001b[38;5;241m4\u001b[39m],\n\u001b[0;32m      2\u001b[0m               [\u001b[38;5;241m3\u001b[39m, \u001b[38;5;241m4\u001b[39m, \u001b[38;5;241m5\u001b[39m, \u001b[38;5;241m6\u001b[39m],\n\u001b[0;32m      3\u001b[0m               [\u001b[38;5;241m7\u001b[39m, \u001b[38;5;241m8\u001b[39m, \u001b[38;5;241m9\u001b[39m, \u001b[38;5;241m10\u001b[39m]])\n\u001b[0;32m      4\u001b[0m b \u001b[38;5;241m=\u001b[39m np\u001b[38;5;241m.\u001b[39marray([\u001b[38;5;241m2\u001b[39m, \u001b[38;5;241m2\u001b[39m])\n\u001b[1;32m----> 5\u001b[0m \u001b[43ma\u001b[49m\u001b[43m \u001b[49m\u001b[38;5;241;43m*\u001b[39;49m\u001b[43m \u001b[49m\u001b[43mb\u001b[49m\n",
            "\u001b[1;31mValueError\u001b[0m: operands could not be broadcast together with shapes (3,4) (2,) "
          ]
        }
      ],
      "source": [
        "a = np.array([[1, 2, 3, 4],\n",
        "              [3, 4, 5, 6],\n",
        "              [7, 8, 9, 10]])\n",
        "b = np.array([2, 2])\n",
        "a * b"
      ]
    },
    {
      "cell_type": "code",
      "execution_count": 70,
      "metadata": {
        "id": "KFi8plAjGjhj"
      },
      "outputs": [
        {
          "ename": "ValueError",
          "evalue": "operands could not be broadcast together with shapes (3,4) (1,2) ",
          "output_type": "error",
          "traceback": [
            "\u001b[1;31m---------------------------------------------------------------------------\u001b[0m",
            "\u001b[1;31mValueError\u001b[0m                                Traceback (most recent call last)",
            "Cell \u001b[1;32mIn[70], line 2\u001b[0m\n\u001b[0;32m      1\u001b[0m b \u001b[38;5;241m=\u001b[39m np\u001b[38;5;241m.\u001b[39marray([[\u001b[38;5;241m2\u001b[39m, \u001b[38;5;241m2\u001b[39m]])\n\u001b[1;32m----> 2\u001b[0m \u001b[43ma\u001b[49m\u001b[43m \u001b[49m\u001b[38;5;241;43m*\u001b[39;49m\u001b[43m \u001b[49m\u001b[43mb\u001b[49m\n",
            "\u001b[1;31mValueError\u001b[0m: operands could not be broadcast together with shapes (3,4) (1,2) "
          ]
        }
      ],
      "source": [
        "b = np.array([[2, 2]])\n",
        "a * b"
      ]
    },
    {
      "cell_type": "markdown",
      "metadata": {
        "id": "JMo3VtvcBMmd"
      },
      "source": [
        "### 3.2. Funções matemáticas  <a name=\"32funcoesmath\"></a>"
      ]
    },
    {
      "cell_type": "markdown",
      "metadata": {
        "id": "iY2ztNfvELHx"
      },
      "source": [
        "Além de fazer operações matemáticas entre arrays, também podemos usar funções matemáticas conhecidas. O NumPy possui milhares de funções já implementadas. Por exemplo, ele possui as funções trigonométricas.\n",
        "\n",
        "Função seno:"
      ]
    },
    {
      "cell_type": "code",
      "execution_count": 71,
      "metadata": {
        "id": "1yRZkCo_EINS"
      },
      "outputs": [
        {
          "data": {
            "text/plain": [
              "array([ 0.84147098,  0.90929743,  0.14112001, -0.7568025 ])"
            ]
          },
          "execution_count": 71,
          "metadata": {},
          "output_type": "execute_result"
        }
      ],
      "source": [
        "x = np.array([1, 2, 3, 4])\n",
        "np.sin(x)"
      ]
    },
    {
      "cell_type": "code",
      "execution_count": 74,
      "metadata": {},
      "outputs": [
        {
          "data": {
            "text/plain": [
              "-0.8011526357338304"
            ]
          },
          "execution_count": 74,
          "metadata": {},
          "output_type": "execute_result"
        }
      ],
      "source": [
        "# np.sin(180)"
      ]
    },
    {
      "cell_type": "code",
      "execution_count": 72,
      "metadata": {},
      "outputs": [
        {
          "name": "stdout",
          "output_type": "stream",
          "text": [
            "\u001b[1;31mCall signature:\u001b[0m  \u001b[0mnp\u001b[0m\u001b[1;33m.\u001b[0m\u001b[0msin\u001b[0m\u001b[1;33m(\u001b[0m\u001b[1;33m*\u001b[0m\u001b[0margs\u001b[0m\u001b[1;33m,\u001b[0m \u001b[1;33m**\u001b[0m\u001b[0mkwargs\u001b[0m\u001b[1;33m)\u001b[0m\u001b[1;33m\u001b[0m\u001b[1;33m\u001b[0m\u001b[0m\n",
            "\u001b[1;31mType:\u001b[0m            ufunc\n",
            "\u001b[1;31mString form:\u001b[0m     <ufunc 'sin'>\n",
            "\u001b[1;31mFile:\u001b[0m            c:\\users\\gnlin\\appdata\\local\\packages\\pythonsoftwarefoundation.python.3.10_qbz5n2kfra8p0\\localcache\\local-packages\\python310\\site-packages\\numpy\\__init__.py\n",
            "\u001b[1;31mDocstring:\u001b[0m      \n",
            "sin(x, /, out=None, *, where=True, casting='same_kind', order='K', dtype=None, subok=True[, signature, extobj])\n",
            "\n",
            "Trigonometric sine, element-wise.\n",
            "\n",
            "Parameters\n",
            "----------\n",
            "x : array_like\n",
            "    Angle, in radians (:math:`2 \\pi` rad equals 360 degrees).\n",
            "out : ndarray, None, or tuple of ndarray and None, optional\n",
            "    A location into which the result is stored. If provided, it must have\n",
            "    a shape that the inputs broadcast to. If not provided or None,\n",
            "    a freshly-allocated array is returned. A tuple (possible only as a\n",
            "    keyword argument) must have length equal to the number of outputs.\n",
            "where : array_like, optional\n",
            "    This condition is broadcast over the input. At locations where the\n",
            "    condition is True, the `out` array will be set to the ufunc result.\n",
            "    Elsewhere, the `out` array will retain its original value.\n",
            "    Note that if an uninitialized `out` array is created via the default\n",
            "    ``out=None``, locations within it where the condition is False will\n",
            "    remain uninitialized.\n",
            "**kwargs\n",
            "    For other keyword-only arguments, see the\n",
            "    :ref:`ufunc docs <ufuncs.kwargs>`.\n",
            "\n",
            "Returns\n",
            "-------\n",
            "y : array_like\n",
            "    The sine of each element of x.\n",
            "    This is a scalar if `x` is a scalar.\n",
            "\n",
            "See Also\n",
            "--------\n",
            "arcsin, sinh, cos\n",
            "\n",
            "Notes\n",
            "-----\n",
            "The sine is one of the fundamental functions of trigonometry (the\n",
            "mathematical study of triangles).  Consider a circle of radius 1\n",
            "centered on the origin.  A ray comes in from the :math:`+x` axis, makes\n",
            "an angle at the origin (measured counter-clockwise from that axis), and\n",
            "departs from the origin.  The :math:`y` coordinate of the outgoing\n",
            "ray's intersection with the unit circle is the sine of that angle.  It\n",
            "ranges from -1 for :math:`x=3\\pi / 2` to +1 for :math:`\\pi / 2.`  The\n",
            "function has zeroes where the angle is a multiple of :math:`\\pi`.\n",
            "Sines of angles between :math:`\\pi` and :math:`2\\pi` are negative.\n",
            "The numerous properties of the sine and related functions are included\n",
            "in any standard trigonometry text.\n",
            "\n",
            "Examples\n",
            "--------\n",
            "Print sine of one angle:\n",
            "\n",
            ">>> np.sin(np.pi/2.)\n",
            "1.0\n",
            "\n",
            "Print sines of an array of angles given in degrees:\n",
            "\n",
            ">>> np.sin(np.array((0., 30., 45., 60., 90.)) * np.pi / 180. )\n",
            "array([ 0.        ,  0.5       ,  0.70710678,  0.8660254 ,  1.        ])\n",
            "\n",
            "Plot the sine function:\n",
            "\n",
            ">>> import matplotlib.pylab as plt\n",
            ">>> x = np.linspace(-np.pi, np.pi, 201)\n",
            ">>> plt.plot(x, np.sin(x))\n",
            ">>> plt.xlabel('Angle [rad]')\n",
            ">>> plt.ylabel('sin(x)')\n",
            ">>> plt.axis('tight')\n",
            ">>> plt.show()\n",
            "\u001b[1;31mClass docstring:\u001b[0m\n",
            "Functions that operate element by element on whole arrays.\n",
            "\n",
            "To see the documentation for a specific ufunc, use `info`.  For\n",
            "example, ``np.info(np.sin)``.  Because ufuncs are written in C\n",
            "(for speed) and linked into Python with NumPy's ufunc facility,\n",
            "Python's help() function finds this page whenever help() is called\n",
            "on a ufunc.\n",
            "\n",
            "A detailed explanation of ufuncs can be found in the docs for :ref:`ufuncs`.\n",
            "\n",
            "**Calling ufuncs:** ``op(*x[, out], where=True, **kwargs)``\n",
            "\n",
            "Apply `op` to the arguments `*x` elementwise, broadcasting the arguments.\n",
            "\n",
            "The broadcasting rules are:\n",
            "\n",
            "* Dimensions of length 1 may be prepended to either array.\n",
            "* Arrays may be repeated along dimensions of length 1.\n",
            "\n",
            "Parameters\n",
            "----------\n",
            "*x : array_like\n",
            "    Input arrays.\n",
            "out : ndarray, None, or tuple of ndarray and None, optional\n",
            "    Alternate array object(s) in which to put the result; if provided, it\n",
            "    must have a shape that the inputs broadcast to. A tuple of arrays\n",
            "    (possible only as a keyword argument) must have length equal to the\n",
            "    number of outputs; use None for uninitialized outputs to be\n",
            "    allocated by the ufunc.\n",
            "where : array_like, optional\n",
            "    This condition is broadcast over the input. At locations where the\n",
            "    condition is True, the `out` array will be set to the ufunc result.\n",
            "    Elsewhere, the `out` array will retain its original value.\n",
            "    Note that if an uninitialized `out` array is created via the default\n",
            "    ``out=None``, locations within it where the condition is False will\n",
            "    remain uninitialized.\n",
            "**kwargs\n",
            "    For other keyword-only arguments, see the :ref:`ufunc docs <ufuncs.kwargs>`.\n",
            "\n",
            "Returns\n",
            "-------\n",
            "r : ndarray or tuple of ndarray\n",
            "    `r` will have the shape that the arrays in `x` broadcast to; if `out` is\n",
            "    provided, it will be returned. If not, `r` will be allocated and\n",
            "    may contain uninitialized values. If the function has more than one\n",
            "    output, then the result will be a tuple of arrays."
          ]
        }
      ],
      "source": [
        "?np.sin"
      ]
    },
    {
      "cell_type": "markdown",
      "metadata": {
        "id": "1hV_g2i5EQcz"
      },
      "source": [
        "Função cosseno:"
      ]
    },
    {
      "cell_type": "code",
      "execution_count": 75,
      "metadata": {
        "id": "7tQLOy2NESsW"
      },
      "outputs": [
        {
          "data": {
            "text/plain": [
              "array([ 0.54030231, -0.41614684, -0.9899925 , -0.65364362])"
            ]
          },
          "execution_count": 75,
          "metadata": {},
          "output_type": "execute_result"
        }
      ],
      "source": [
        "x = np.array([1, 2, 3, 4])\n",
        "np.cos(x)"
      ]
    },
    {
      "cell_type": "markdown",
      "metadata": {
        "id": "ONAi139kEUsu"
      },
      "source": [
        "O NumPy também possui o valor de constantes matemáticas comuns, como o π (\"pi\")."
      ]
    },
    {
      "cell_type": "code",
      "execution_count": 76,
      "metadata": {
        "id": "5CMqi5dwEXdD"
      },
      "outputs": [
        {
          "data": {
            "text/plain": [
              "array([ 0.0000000e+00,  1.0000000e+00,  1.2246468e-16, -1.0000000e+00,\n",
              "       -2.4492936e-16])"
            ]
          },
          "execution_count": 76,
          "metadata": {},
          "output_type": "execute_result"
        }
      ],
      "source": [
        "x = np.array([0, np.pi / 2 , np.pi, 3 * np.pi / 2, 2 * np.pi])\n",
        "np.sin(x)"
      ]
    },
    {
      "cell_type": "code",
      "execution_count": null,
      "metadata": {},
      "outputs": [],
      "source": [
        "1/10000000000000000"
      ]
    },
    {
      "cell_type": "markdown",
      "metadata": {
        "id": "fUdCcHXPEXHz"
      },
      "source": [
        "Os valores `1.2246468e-16` e `-2.4492936e-16` representam o número zero. O motivo de não estar zerado é que nem todas as operações com números de ponto flutuante (números reais com decimal) conseguem ser perfeitamente representadas pelo computador. Números de ponto flutuante sempre tem um grau de imprecisão. Então dentro da precisão do nosso cálculo, esses valores são basicamente o mesmo que zero.\n",
        "\n",
        "Depois das funções trigonométricas, vamos ver a função exponencial."
      ]
    },
    {
      "cell_type": "code",
      "execution_count": 77,
      "metadata": {
        "id": "dQ_TAVBQEfuY"
      },
      "outputs": [
        {
          "data": {
            "text/plain": [
              "array([ 2.71828183,  7.3890561 , 20.08553692, 54.59815003])"
            ]
          },
          "execution_count": 77,
          "metadata": {},
          "output_type": "execute_result"
        }
      ],
      "source": [
        "x = np.array([1, 2, 3, 4])\n",
        "np.exp(x)"
      ]
    },
    {
      "cell_type": "markdown",
      "metadata": {
        "id": "1zmIaj_TElHJ"
      },
      "source": [
        "Também existe a constante \"e\" (número euleriano) no NumPy. De fato, a função exponencial `np.exp(x)` nada mais é do que o número euleriano elevado a x.\n",
        "$$e^{x}$$\n",
        "\n",
        "Assim, também podemos fazer a mesma conta abaixo."
      ]
    },
    {
      "cell_type": "code",
      "execution_count": 78,
      "metadata": {
        "id": "Us6KolHFEl0i"
      },
      "outputs": [
        {
          "data": {
            "text/plain": [
              "array([ 2.71828183,  7.3890561 , 20.08553692, 54.59815003])"
            ]
          },
          "execution_count": 78,
          "metadata": {},
          "output_type": "execute_result"
        }
      ],
      "source": [
        "x = np.array([1, 2, 3, 4])\n",
        "np.e ** x"
      ]
    },
    {
      "cell_type": "markdown",
      "metadata": {
        "id": "eqvmWlC5Es2L"
      },
      "source": [
        "Como falamos, existem milhares de funções matemáticas nativamente no NumPy, e todas são muito úteis para fazermos cálculos matemáticos computacionais. Porém, se tentarmos listar todas, precisaríamos de um texto insanamente maior. Então melhor ficarmos só com uma ou outra mesmo.\n",
        "\n",
        "Temos falado, ao longo do texto, sobre o poder e eficiência do NumPy. Do ponto de vista de escrever código, uma enorme vantagem do NumPy é que podemos escrever equações matemáticas complicadas para todos os elementos do nosso array da mesma forma que escreveríamos no papel.\n",
        "\n",
        "Aqui entra em foco a ideia de \"operações vetorizadas\", que encontramos antes. No fim das contas, conseguimos escrever tudo de forma vetorizada no NumPy.\n",
        "\n",
        "Imagine a equação abaixo:\n",
        "$$ e^{x} + sin(x) $$\n",
        "\n",
        "Se quisermos achar o valor dela para diversos valores de \"x\" entre -1 e 2 no Python, teríamos que fazer um loop iterativo. No NumPy, a operação é mais clara e direta."
      ]
    },
    {
      "cell_type": "code",
      "execution_count": 79,
      "metadata": {
        "id": "H6FtfUrfEwB_"
      },
      "outputs": [
        {
          "data": {
            "text/plain": [
              "array([-0.47359154, -0.10495268,  0.38933661,  1.        ,  1.72280712,\n",
              "        2.56610384,  3.55975281,  4.7656058 ,  6.28989801,  8.29835353])"
            ]
          },
          "execution_count": 79,
          "metadata": {},
          "output_type": "execute_result"
        }
      ],
      "source": [
        "x = np.linspace(-1, 2, 10)\n",
        "np.exp(x) + np.sin(x)"
      ]
    },
    {
      "cell_type": "markdown",
      "metadata": {
        "id": "Cp6krRpYE3Zi"
      },
      "source": [
        "Por fim, o último conceito essencial de se conhecer quanto a operações matemáticas no NumPy é o de número infinito e de NaN (not a number).\n",
        "\n",
        "O NumPy possui duas constantes, `np.inf` e `np.NaN` que representam um \"número infinito\" e um erro, respectivamente.\n",
        "\n",
        "O \"número infinito\" é um valor de ponto flutuante que é maior que qualquer outro número. Se colocarmos um sinal negativo, ele vira \"menos infinito\", e passa a ser menor que qualquer outro número."
      ]
    },
    {
      "cell_type": "code",
      "execution_count": 80,
      "metadata": {
        "id": "8PjvfnveE6s8"
      },
      "outputs": [
        {
          "data": {
            "text/plain": [
              "True"
            ]
          },
          "execution_count": 80,
          "metadata": {},
          "output_type": "execute_result"
        }
      ],
      "source": [
        "np.inf > 3823748932489"
      ]
    },
    {
      "cell_type": "code",
      "execution_count": 81,
      "metadata": {
        "id": "75hpjGrKE9IN"
      },
      "outputs": [
        {
          "data": {
            "text/plain": [
              "True"
            ]
          },
          "execution_count": 81,
          "metadata": {},
          "output_type": "execute_result"
        }
      ],
      "source": [
        "-np.inf < -9832743293278423"
      ]
    },
    {
      "cell_type": "markdown",
      "metadata": {
        "id": "bMDqb-3lE-g7"
      },
      "source": [
        "Já o NaN é um valor indefinido. Sempre que nossa operação não fizer sentido, o numpy retorna um NaN."
      ]
    },
    {
      "cell_type": "code",
      "execution_count": 82,
      "metadata": {
        "id": "33E6A5IEFAhF"
      },
      "outputs": [
        {
          "name": "stderr",
          "output_type": "stream",
          "text": [
            "C:\\Users\\gnlin\\AppData\\Local\\Temp\\ipykernel_74368\\3686957759.py:1: RuntimeWarning: invalid value encountered in double_scalars\n",
            "  np.float64(0) / np.float64(0)\n"
          ]
        },
        {
          "data": {
            "text/plain": [
              "nan"
            ]
          },
          "execution_count": 82,
          "metadata": {},
          "output_type": "execute_result"
        }
      ],
      "source": [
        "np.float64(0) / np.float64(0)"
      ]
    },
    {
      "cell_type": "code",
      "execution_count": 83,
      "metadata": {},
      "outputs": [
        {
          "ename": "ValueError",
          "evalue": "could not convert string to float: 'cinco'",
          "output_type": "error",
          "traceback": [
            "\u001b[1;31m---------------------------------------------------------------------------\u001b[0m",
            "\u001b[1;31mValueError\u001b[0m                                Traceback (most recent call last)",
            "Cell \u001b[1;32mIn[83], line 1\u001b[0m\n\u001b[1;32m----> 1\u001b[0m \u001b[43mnp\u001b[49m\u001b[38;5;241;43m.\u001b[39;49m\u001b[43mfloat64\u001b[49m\u001b[43m(\u001b[49m\u001b[38;5;124;43m'\u001b[39;49m\u001b[38;5;124;43mcinco\u001b[39;49m\u001b[38;5;124;43m'\u001b[39;49m\u001b[43m)\u001b[49m\n",
            "\u001b[1;31mValueError\u001b[0m: could not convert string to float: 'cinco'"
          ]
        }
      ],
      "source": [
        "# np.float64('cinco')"
      ]
    },
    {
      "cell_type": "markdown",
      "metadata": {
        "id": "Xs1YdZoUFCLI"
      },
      "source": [
        "O cuidado que devemos tomar com o NaN é que todas as operações entre um número e um NaN passam a ser NaN."
      ]
    },
    {
      "cell_type": "code",
      "execution_count": 84,
      "metadata": {
        "id": "fUqJ_1dyFEIL"
      },
      "outputs": [
        {
          "data": {
            "text/plain": [
              "nan"
            ]
          },
          "execution_count": 84,
          "metadata": {},
          "output_type": "execute_result"
        }
      ],
      "source": [
        "np.NaN + 44"
      ]
    },
    {
      "cell_type": "code",
      "execution_count": null,
      "metadata": {},
      "outputs": [],
      "source": [
        "# where col not in (' ') AND COL IS NOT NULL"
      ]
    },
    {
      "cell_type": "code",
      "execution_count": 85,
      "metadata": {},
      "outputs": [
        {
          "name": "stdout",
          "output_type": "stream",
          "text": [
            "0.30000000000000004\n"
          ]
        }
      ],
      "source": [
        "print(0.1+0.2)"
      ]
    },
    {
      "cell_type": "markdown",
      "metadata": {
        "id": "D4Yajv_nAxXN"
      },
      "source": [
        "## 4. Álgebra Linear e Estatística básica  <a name=\"4algelinestat\"></a>"
      ]
    },
    {
      "cell_type": "markdown",
      "metadata": {
        "id": "PgFrZ5SUAzrZ"
      },
      "source": [
        "### 4.1. Álgebra Linear  <a name=\"41algelin\"></a>"
      ]
    },
    {
      "cell_type": "markdown",
      "metadata": {
        "id": "ZbfP3BiRCMVr"
      },
      "source": [
        "Da definição do Wikipédia:\n",
        "\n",
        "Álgebra linear é um ramo da matemática que surgiu do estudo detalhado de sistemas de equações lineares [...]. A álgebra linear utiliza alguns conceitos e estruturas fundamentais da matemática como vetores,[...] e matrizes.\n",
        "\n",
        "Independente da definição exata, a questão é que a álgebra linear estuda vetores e matrizes. Como vimos até aqui, o NumPy opera de forma bastante análoga à vetores e matrizes.\n",
        "\n",
        "O que não vimos ainda é como o NumPy nos permite também executar operações típicas da álgebra linear, como \"produto entre matrizes\".\n",
        "\n",
        "De fato, o NumPy tem a capacidade de realizar um \"produto escalar\" entre vetores, de fazer o produto de uma matriz por um vetor, e de fazer o produto entre matrizes.\n",
        "\n",
        "Vamos relembrar o que são essas operações. O produto escalar de dois vetores consiste em multiplicar os dois, elemento a elemento, e depois somar os resultados de cada par de elementos.\n",
        "\n",
        "![inner_prod](https://s3-sa-east-1.amazonaws.com/lcpi/d331eb96-4d9e-4cf4-98f6-23fdd8bebf7a.png)\n",
        "\n",
        "(Exemplo de produto escalar, ou \"produto interno\") <br>\n",
        "(**Fonte:** Imagem original Ada)"
      ]
    },
    {
      "cell_type": "markdown",
      "metadata": {
        "id": "ScQNjhyJCOF0"
      },
      "source": [
        "A sintaxe do NumPy é dada abaixo."
      ]
    },
    {
      "cell_type": "code",
      "execution_count": 86,
      "metadata": {
        "id": "7_e5JZ1hA6qz"
      },
      "outputs": [
        {
          "data": {
            "text/plain": [
              "15"
            ]
          },
          "execution_count": 86,
          "metadata": {},
          "output_type": "execute_result"
        }
      ],
      "source": [
        "vec1 = np.array([1, 2, 3])\n",
        "vec2 = np.array([2, 2, 3])\n",
        "vec1.dot(vec2)"
      ]
    },
    {
      "cell_type": "markdown",
      "metadata": {
        "id": "TD5WlO0VCWkI"
      },
      "source": [
        "Também podemos usar o operador `@`."
      ]
    },
    {
      "cell_type": "code",
      "execution_count": 87,
      "metadata": {
        "id": "-PqPPPSoCaXL"
      },
      "outputs": [
        {
          "data": {
            "text/plain": [
              "15"
            ]
          },
          "execution_count": 87,
          "metadata": {},
          "output_type": "execute_result"
        }
      ],
      "source": [
        "vec1 = np.array([1, 2, 3])\n",
        "vec2 = np.array([2, 2, 3])\n",
        "vec1 @ vec2"
      ]
    },
    {
      "cell_type": "markdown",
      "metadata": {
        "id": "y-wWOHYyCeHz"
      },
      "source": [
        "O produto de matriz e vetor é dado fazendo algo semelhante ao produto escalar. Para cada linha da matriz, a gente faz o produto escalar entre aquela linha e o vetor. O resultado então vai ser o elemento que se encontra na mesma posição da linha.\n",
        "\n",
        "![matrix_vec](https://s3-sa-east-1.amazonaws.com/lcpi/364aee03-990f-49ca-a3b8-19881f09be3c.svg)\n",
        "\n",
        "(**Fonte:** Usuária Claudia4 do site Wikimedia Commons, disponível em https://upload.wikimedia.org/wikipedia/commons/2/22/Matrix_vector_multiplication.svg)"
      ]
    },
    {
      "cell_type": "markdown",
      "metadata": {
        "id": "iOmCQx_GCgiO"
      },
      "source": [
        "As possibilidades de sintaxe do NumPy seguem abaixo."
      ]
    },
    {
      "cell_type": "code",
      "execution_count": 88,
      "metadata": {
        "id": "xmuWsIR6CjID"
      },
      "outputs": [],
      "source": [
        "matrix = np.array([[1, 1, 1],\n",
        "                       [1, 2, 3],\n",
        "                       [1, 1, 1]])"
      ]
    },
    {
      "cell_type": "code",
      "execution_count": 89,
      "metadata": {
        "id": "8H42hXdgCkuJ"
      },
      "outputs": [],
      "source": [
        "vec2 = np.array([2, 2, 3])"
      ]
    },
    {
      "cell_type": "code",
      "execution_count": 90,
      "metadata": {
        "id": "KKIp7iqeCmEs"
      },
      "outputs": [
        {
          "data": {
            "text/plain": [
              "array([ 7, 15,  7])"
            ]
          },
          "execution_count": 90,
          "metadata": {},
          "output_type": "execute_result"
        }
      ],
      "source": [
        "matrix.dot(vec2)"
      ]
    },
    {
      "cell_type": "code",
      "execution_count": 91,
      "metadata": {
        "id": "iIK0CaYACnyk"
      },
      "outputs": [
        {
          "data": {
            "text/plain": [
              "array([ 7, 15,  7])"
            ]
          },
          "execution_count": 91,
          "metadata": {},
          "output_type": "execute_result"
        }
      ],
      "source": [
        "matrix @ vec2"
      ]
    },
    {
      "cell_type": "markdown",
      "metadata": {
        "id": "taawG4e5Cqxo"
      },
      "source": [
        "Na multiplicação entre matrizes, nós multiplicamos a linha da matriz da esquerda pela coluna da matriz da direita, elemento a elemento, e somamos o resultado (produto escalar entre a linha da matriz da esquerda com a coluna da matriz da direita) para obter uma nova matriz.\n",
        "\n",
        "Neste caso, quando fazemos o produto interno da linha N com a coluna M, nós obtemos o elemento que ficará na posição (N,M) na nova matriz.\n",
        "\n",
        "![matrix_mult01](https://s3-sa-east-1.amazonaws.com/lcpi/7569206e-95e5-405b-8bff-6b7901590149.svg)\n",
        "\n",
        "![matrix_mult02](https://s3-sa-east-1.amazonaws.com/lcpi/e7217171-a90e-483e-8af4-0b73a463951c.svg){width=\"400\", height=\"300\"}\n",
        "\n",
        "(**Fonte:** Usuários Guy vandegrift e Bilou do site Wikimedia Commons, disponíveis em\n",
        "https://upload.wikimedia.org/wikipedia/commons/d/d9/Hands_matrix_multiplication.svg e https://upload.wikimedia.org/wikipedia/commons/2/22/Matrix_vector_multiplication.svg)"
      ]
    },
    {
      "cell_type": "markdown",
      "metadata": {
        "id": "MR9YP78RCuAK"
      },
      "source": [
        "Como nos casos anteriores, abaixo temos a sintaxe do NumPy."
      ]
    },
    {
      "cell_type": "code",
      "execution_count": 92,
      "metadata": {
        "id": "63iuZHvMDF1k"
      },
      "outputs": [],
      "source": [
        "matrix1 = np.array([[1, 1, 1],\n",
        "                        [1, 2, 3],\n",
        "                        [1, 1, 1]])"
      ]
    },
    {
      "cell_type": "code",
      "execution_count": 93,
      "metadata": {
        "id": "4DZ7RRQlDH5R"
      },
      "outputs": [],
      "source": [
        "matrix2 = np.array([[1, 1, 1],\n",
        "                        [1, 1, 1],\n",
        "                        [1, 1, 1]])"
      ]
    },
    {
      "cell_type": "code",
      "execution_count": 94,
      "metadata": {
        "id": "3zWMGbtaDJYr"
      },
      "outputs": [
        {
          "data": {
            "text/plain": [
              "array([[3, 3, 3],\n",
              "       [6, 6, 6],\n",
              "       [3, 3, 3]])"
            ]
          },
          "execution_count": 94,
          "metadata": {},
          "output_type": "execute_result"
        }
      ],
      "source": [
        "matrix1.dot(matrix2)"
      ]
    },
    {
      "cell_type": "code",
      "execution_count": 95,
      "metadata": {
        "id": "HkIHhutZDLPn"
      },
      "outputs": [
        {
          "data": {
            "text/plain": [
              "array([[3, 3, 3],\n",
              "       [6, 6, 6],\n",
              "       [3, 3, 3]])"
            ]
          },
          "execution_count": 95,
          "metadata": {},
          "output_type": "execute_result"
        }
      ],
      "source": [
        "matrix1 @ matrix2"
      ]
    },
    {
      "cell_type": "code",
      "execution_count": null,
      "metadata": {},
      "outputs": [],
      "source": [
        "1*1 + 1*1 + 1*1"
      ]
    },
    {
      "cell_type": "code",
      "execution_count": 97,
      "metadata": {},
      "outputs": [
        {
          "data": {
            "text/plain": [
              "array([[1, 1, 1],\n",
              "       [1, 2, 3],\n",
              "       [1, 1, 1]])"
            ]
          },
          "execution_count": 97,
          "metadata": {},
          "output_type": "execute_result"
        }
      ],
      "source": [
        "matrix1"
      ]
    },
    {
      "cell_type": "code",
      "execution_count": 98,
      "metadata": {},
      "outputs": [
        {
          "data": {
            "text/plain": [
              "array([[1, 1, 1],\n",
              "       [1, 1, 1],\n",
              "       [1, 1, 1]])"
            ]
          },
          "execution_count": 98,
          "metadata": {},
          "output_type": "execute_result"
        }
      ],
      "source": [
        "matrix2"
      ]
    },
    {
      "cell_type": "code",
      "execution_count": 96,
      "metadata": {},
      "outputs": [
        {
          "data": {
            "text/plain": [
              "array([[1, 1, 1],\n",
              "       [1, 2, 3],\n",
              "       [1, 1, 1]])"
            ]
          },
          "execution_count": 96,
          "metadata": {},
          "output_type": "execute_result"
        }
      ],
      "source": [
        "matrix1 * matrix2"
      ]
    },
    {
      "cell_type": "markdown",
      "metadata": {
        "id": "qPKs8gwiDOZL"
      },
      "source": [
        "No campo da álgebra linear, existem algumas matrizes especiais muito úteis. O NumPy possui métodos de criação para a maioria delas.\n",
        "\n",
        "A mais importante é a chamada matriz identidade. Ela é uma matriz quadrada (mesmo número de linhas e colunas) com diagonal 1, e os outros valores 0."
      ]
    },
    {
      "cell_type": "code",
      "execution_count": 99,
      "metadata": {
        "id": "ufurZ8kjDRpq"
      },
      "outputs": [
        {
          "data": {
            "text/plain": [
              "array([[1., 0., 0.],\n",
              "       [0., 1., 0.],\n",
              "       [0., 0., 1.]])"
            ]
          },
          "execution_count": 99,
          "metadata": {},
          "output_type": "execute_result"
        }
      ],
      "source": [
        "np.identity(3)"
      ]
    },
    {
      "cell_type": "code",
      "execution_count": null,
      "metadata": {},
      "outputs": [],
      "source": []
    },
    {
      "cell_type": "markdown",
      "metadata": {
        "id": "Y8-jZpSuDUKq"
      },
      "source": [
        "Ela se chama identidade pois qualquer matriz multiplicada pela identidade (por produto de matrizes) dá a própria matriz."
      ]
    },
    {
      "cell_type": "code",
      "execution_count": 100,
      "metadata": {
        "id": "E8fbpJqMDWlr"
      },
      "outputs": [
        {
          "data": {
            "text/plain": [
              "array([[1., 1., 1.],\n",
              "       [1., 2., 3.],\n",
              "       [1., 1., 1.]])"
            ]
          },
          "execution_count": 100,
          "metadata": {},
          "output_type": "execute_result"
        }
      ],
      "source": [
        "matrix1 @ np.identity(3)"
      ]
    },
    {
      "cell_type": "markdown",
      "metadata": {
        "id": "g6gIOFceDfiX"
      },
      "source": [
        "Outra operação comum com matrizes é a transposição.\n",
        "\n",
        "![transposition](https://s3-sa-east-1.amazonaws.com/lcpi/3d11b2c4-65cb-463a-9ccc-b858b065d2b3.png \"Transposição\")\n",
        "\n",
        "(**Fonte:** Imagem original Ada)\n",
        "\n",
        "A transposição pode ser feita com a função `np.transpose`."
      ]
    },
    {
      "cell_type": "code",
      "execution_count": 102,
      "metadata": {},
      "outputs": [],
      "source": [
        "a = np.array([[1,2],[3,4],[5,6]])"
      ]
    },
    {
      "cell_type": "code",
      "execution_count": 103,
      "metadata": {},
      "outputs": [
        {
          "data": {
            "text/plain": [
              "array([[1, 2],\n",
              "       [3, 4],\n",
              "       [5, 6]])"
            ]
          },
          "execution_count": 103,
          "metadata": {},
          "output_type": "execute_result"
        }
      ],
      "source": [
        "a"
      ]
    },
    {
      "cell_type": "code",
      "execution_count": 105,
      "metadata": {},
      "outputs": [
        {
          "data": {
            "text/plain": [
              "(3, 2)"
            ]
          },
          "execution_count": 105,
          "metadata": {},
          "output_type": "execute_result"
        }
      ],
      "source": [
        "a.shape"
      ]
    },
    {
      "cell_type": "code",
      "execution_count": 104,
      "metadata": {
        "id": "PNiXbYybDgCc"
      },
      "outputs": [
        {
          "data": {
            "text/plain": [
              "array([[1, 3, 5],\n",
              "       [2, 4, 6]])"
            ]
          },
          "execution_count": 104,
          "metadata": {},
          "output_type": "execute_result"
        }
      ],
      "source": [
        "np.transpose(a)"
      ]
    },
    {
      "cell_type": "code",
      "execution_count": 106,
      "metadata": {},
      "outputs": [
        {
          "data": {
            "text/plain": [
              "array([[1, 2, 3],\n",
              "       [4, 5, 6]])"
            ]
          },
          "execution_count": 106,
          "metadata": {},
          "output_type": "execute_result"
        }
      ],
      "source": [
        "a.reshape(2,3)"
      ]
    },
    {
      "cell_type": "markdown",
      "metadata": {
        "id": "xIXIX_qmDkeq"
      },
      "source": [
        "Outra forma é usando o atributo `T`:"
      ]
    },
    {
      "cell_type": "code",
      "execution_count": 107,
      "metadata": {
        "id": "H57qL1IaDmaM"
      },
      "outputs": [
        {
          "data": {
            "text/plain": [
              "array([[1, 3, 5],\n",
              "       [2, 4, 6]])"
            ]
          },
          "execution_count": 107,
          "metadata": {},
          "output_type": "execute_result"
        }
      ],
      "source": [
        "a.T"
      ]
    },
    {
      "cell_type": "markdown",
      "metadata": {
        "id": "pVQ3kDcrDqC8"
      },
      "source": [
        "Operações mais específicas se encontram no módulo `linalg` do NumPy.\n",
        "\n",
        "Um exemplo é encontrar o determinante de uma matriz. O determinante é um número característico de uma dada matriz, e que se relaciona com diversas propriedades dela."
      ]
    },
    {
      "cell_type": "code",
      "execution_count": 108,
      "metadata": {
        "id": "AYrEFBmgDuJ6"
      },
      "outputs": [],
      "source": [
        "c = np.identity(3)"
      ]
    },
    {
      "cell_type": "code",
      "execution_count": 109,
      "metadata": {
        "id": "Gm4MjdNIDv2a"
      },
      "outputs": [
        {
          "name": "stdout",
          "output_type": "stream",
          "text": [
            "[[1. 0. 0.]\n",
            " [0. 1. 0.]\n",
            " [0. 0. 1.]]\n"
          ]
        }
      ],
      "source": [
        "print(c)"
      ]
    },
    {
      "cell_type": "code",
      "execution_count": 110,
      "metadata": {
        "id": "t0bcity0Dxvl"
      },
      "outputs": [
        {
          "data": {
            "text/plain": [
              "1.0"
            ]
          },
          "execution_count": 110,
          "metadata": {},
          "output_type": "execute_result"
        }
      ],
      "source": [
        "np.linalg.det(c)"
      ]
    },
    {
      "cell_type": "markdown",
      "metadata": {
        "id": "L3cR80JfD0cu"
      },
      "source": [
        "Para encontrar todas as funções específicas de Álgebra Linear que têm no NumPy, você pode acessar o link https://numpy.org/doc/stable/reference/routines.linalg.html.\n",
        "\n",
        "Algum exemplo de funções já implementadas na biblioteca:\n",
        "- Traço\n",
        "- Decomposição de vetores\n",
        "- Autovalor/autovetor\n",
        "- Norma de Matriz\n",
        "- Inversa\n",
        "- Etc..."
      ]
    },
    {
      "cell_type": "markdown",
      "metadata": {
        "id": "Qe13k-k6AlCr"
      },
      "source": [
        "### 4.2. Estatística  <a name=\"42estat\"></a>\n"
      ]
    },
    {
      "cell_type": "markdown",
      "metadata": {
        "id": "25TdsE-ECBM9"
      },
      "source": [
        "Por fim, o NumPy também possui várias funções básicas de estatística, como mínimo, máximo, média, mediana, etc."
      ]
    },
    {
      "cell_type": "code",
      "execution_count": 111,
      "metadata": {
        "id": "iiKrAO8iAo6R"
      },
      "outputs": [],
      "source": [
        "import numpy as np"
      ]
    },
    {
      "cell_type": "code",
      "execution_count": 112,
      "metadata": {
        "id": "-vFnvgc5-gJU"
      },
      "outputs": [
        {
          "data": {
            "text/plain": [
              "array([[1, 2, 3],\n",
              "       [4, 5, 6]])"
            ]
          },
          "execution_count": 112,
          "metadata": {},
          "output_type": "execute_result"
        }
      ],
      "source": [
        "stats = np.array([[1, 2, 3], [4, 5, 6]])\n",
        "stats"
      ]
    },
    {
      "cell_type": "code",
      "execution_count": 113,
      "metadata": {
        "id": "qN64JPlIAoL5"
      },
      "outputs": [
        {
          "data": {
            "text/plain": [
              "1"
            ]
          },
          "execution_count": 113,
          "metadata": {},
          "output_type": "execute_result"
        }
      ],
      "source": [
        "np.min(stats)"
      ]
    },
    {
      "cell_type": "code",
      "execution_count": 114,
      "metadata": {
        "id": "vkVN2WyUAumE"
      },
      "outputs": [
        {
          "data": {
            "text/plain": [
              "6"
            ]
          },
          "execution_count": 114,
          "metadata": {},
          "output_type": "execute_result"
        }
      ],
      "source": [
        "np.max(stats)"
      ]
    },
    {
      "cell_type": "code",
      "execution_count": 115,
      "metadata": {
        "id": "d06v_q6RAwn5"
      },
      "outputs": [
        {
          "data": {
            "text/plain": [
              "array([1, 4])"
            ]
          },
          "execution_count": 115,
          "metadata": {},
          "output_type": "execute_result"
        }
      ],
      "source": [
        "np.min(stats, axis=1) # Pega o menor valor de cada linha"
      ]
    },
    {
      "cell_type": "code",
      "execution_count": 116,
      "metadata": {
        "id": "fD1YmZChAyty"
      },
      "outputs": [
        {
          "data": {
            "text/plain": [
              "array([4, 5, 6])"
            ]
          },
          "execution_count": 116,
          "metadata": {},
          "output_type": "execute_result"
        }
      ],
      "source": [
        "np.max(stats, axis=0) # Pega o maior valor de cada coluna"
      ]
    },
    {
      "cell_type": "code",
      "execution_count": 117,
      "metadata": {
        "id": "IXTEgCnmA0gL"
      },
      "outputs": [
        {
          "data": {
            "text/plain": [
              "array([5, 7, 9])"
            ]
          },
          "execution_count": 117,
          "metadata": {},
          "output_type": "execute_result"
        }
      ],
      "source": [
        "np.sum(stats, axis=0) # Faz a soma dos valores de cada coluna"
      ]
    },
    {
      "cell_type": "code",
      "execution_count": 118,
      "metadata": {
        "id": "35S5LbfdA3gi"
      },
      "outputs": [
        {
          "data": {
            "text/plain": [
              "3.5"
            ]
          },
          "execution_count": 118,
          "metadata": {},
          "output_type": "execute_result"
        }
      ],
      "source": [
        "np.mean(stats) # Valor médio de todos os elementos do array"
      ]
    },
    {
      "cell_type": "code",
      "execution_count": 119,
      "metadata": {
        "id": "p86Ksk0pA5QF"
      },
      "outputs": [
        {
          "data": {
            "text/plain": [
              "array([2.5, 3.5, 4.5])"
            ]
          },
          "execution_count": 119,
          "metadata": {},
          "output_type": "execute_result"
        }
      ],
      "source": [
        "np.mean(stats, axis=0) # Valor médio de cada coluna do array"
      ]
    },
    {
      "cell_type": "code",
      "execution_count": 120,
      "metadata": {
        "id": "FNSBPQNoe5gM"
      },
      "outputs": [
        {
          "data": {
            "text/plain": [
              "array([2., 5.])"
            ]
          },
          "execution_count": 120,
          "metadata": {},
          "output_type": "execute_result"
        }
      ],
      "source": [
        "np.mean(stats, axis=1) # Valor médio de cada linha do array"
      ]
    },
    {
      "cell_type": "markdown",
      "metadata": {
        "id": "--oARHr2AcQ0"
      },
      "source": [
        "\n",
        "**Referências:**\n",
        "--------------"
      ]
    },
    {
      "cell_type": "markdown",
      "metadata": {
        "id": "lrpx0Tf1AfIO"
      },
      "source": [
        "1. <a name=\"1\"></a> Documentação NumPy, disponível em https://NumPy.org/doc/stable/index.html ;\n",
        "2. <a name=\"2\"></a> Tutorial NumPy, disponível em https://NumPy.org/doc/stable/user/absolute_beginners.html ;\n",
        "3. <a name=\"3\"></a> Funções matemáticas do NumPy, disponível em https://numpy.org/doc/stable/reference/routines.math.html\n",
        "4. <a name=\"4\"></a> Álgebra linear com NumPy, disponível em https://numpy.org/doc/stable/reference/routines.linalg.html\n",
        "5. <a name=\"5\"></a> Tutorial NumPy da ABRACD, disponível em https://abracd.org/tutorial-numpy-os-primeiros-passos-em-computacao-numerica-e-tratamento-de-dados/\n",
        "\n",
        "[NumPy_docs]: https://NumPy.org/doc/stable/index.html\n",
        "[NumPy_install]: https://NumPy.org/install/"
      ]
    }
  ],
  "metadata": {
    "colab": {
      "collapsed_sections": [
        "2J4kbeX3CMIt",
        "Veo6jPeLCIjf",
        "ZQC2iapJCD2H",
        "jzj2b2rLB_ln",
        "sCILKHUbB6iB",
        "wEgQYk3vB0pN",
        "Fsz1Kbf8BuCw",
        "oo7QteC2BjY9",
        "aViSlwHCBfc_",
        "GP6U0_tlBbyv",
        "HcUuEDyYBYIm",
        "6--bG0YcBUZ5",
        "jEVN-zaYBQpb",
        "D4Yajv_nAxXN",
        "--oARHr2AcQ0"
      ],
      "private_outputs": true,
      "provenance": []
    },
    "kernelspec": {
      "display_name": "Python 3",
      "name": "python3"
    },
    "language_info": {
      "codemirror_mode": {
        "name": "ipython",
        "version": 3
      },
      "file_extension": ".py",
      "mimetype": "text/x-python",
      "name": "python",
      "nbconvert_exporter": "python",
      "pygments_lexer": "ipython3",
      "version": "3.10.11"
    }
  },
  "nbformat": 4,
  "nbformat_minor": 0
}
