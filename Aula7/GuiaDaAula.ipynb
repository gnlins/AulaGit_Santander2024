{
 "cells": [
  {
   "cell_type": "markdown",
   "metadata": {},
   "source": [
    "# Planejamento Aula 11/03\n",
    "\n",
    "- Finalizarmos o conteúdo do numpy\n",
    "- Praticar tratamento de dados com a base de ocorrencias aeronáuticas\n",
    "- explorar a base do airbnb, para levantar perguntas e guiar práticas em casa"
   ]
  },
  {
   "cell_type": "code",
   "execution_count": null,
   "metadata": {},
   "outputs": [],
   "source": []
  }
 ],
 "metadata": {
  "language_info": {
   "name": "python"
  }
 },
 "nbformat": 4,
 "nbformat_minor": 2
}
