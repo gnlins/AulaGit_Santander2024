{
  "nbformat": 4,
  "nbformat_minor": 0,
  "metadata": {
    "colab": {
      "private_outputs": true,
      "provenance": [],
      "collapsed_sections": [
        "2J4kbeX3CMIt",
        "Veo6jPeLCIjf",
        "ZQC2iapJCD2H",
        "jzj2b2rLB_ln",
        "sCILKHUbB6iB",
        "wEgQYk3vB0pN",
        "Fsz1Kbf8BuCw",
        "oo7QteC2BjY9",
        "aViSlwHCBfc_",
        "GP6U0_tlBbyv",
        "HcUuEDyYBYIm",
        "6--bG0YcBUZ5",
        "jEVN-zaYBQpb",
        "D4Yajv_nAxXN",
        "--oARHr2AcQ0"
      ]
    },
    "kernelspec": {
      "name": "python3",
      "display_name": "Python 3"
    },
    "language_info": {
      "name": "python"
    }
  },
  "cells": [
    {
      "cell_type": "markdown",
      "source": [
        "# NumPy\n",
        "-------\n",
        "\n",
        "\n",
        "\n",
        "\n",
        "\n",
        "\n"
      ],
      "metadata": {
        "id": "b_QK9FEg1Hq9"
      }
    },
    {
      "cell_type": "markdown",
      "source": [
        "Muitos trabalhos aplicados em empresa envolvem cálculos matemáticos avançados, e por isso precisam se apoiar em alguma biblioteca. Quer trabalhemos com estatística, aprendizado de máquina, processamento de imagem, de texto, de áudio, com otimização, ou até simulação de sistemas reais, uma boa biblioteca matemática é fundamental.\n",
        "\n",
        "No Python, a biblioteca [**NumPy**][NumPy_docs] (abreviação para *Numerical Python* [\\[2\\]](#2)) faz esse papel. Ela é uma poderosíssima biblioteca matemática, e é um dos cernes da computação científica e ciência de dados em Python.\n",
        "\n",
        "Os cálculos realizados pelo NumPy são baseados em operações com os chamados Arrays Multidimensionais (em matemática, chamamos de vetores, matrizes ou tensores). Esses objetos fundamentais da biblioteca são basicamente \"listas de listas de listas de ...\". O NumPy implementa operações nesses objetos de forma eficiente, em uma linguagem de mais baixo nível (linguagem C), o que confere a eles enorme velocidade e eficiência. Nós aproveitamos essa eficiência através da interface amigável que a biblioteca possui em Python.\n",
        "\n",
        "Quando organizamos nosso código para aproveitar as operações do NumPy, é comum dizermos que nós \"vetorizamos\" o nosso código. Isso significa que evitamos loops explícitos no código Python, e reescrevemos tudo usando os arrays do NumPy. Assim, conseguimos aproveitar toda a velocidade das operações \"vetorizadas\", acelerando muito o nossos código.\n",
        "\n",
        "A esmagadora maioria das bibliotecas de Python para computação científica, processamento de dados e ciência de dados (como por exemplo, SciPy, pandas, scikit-learn e statsmodels) se apoiam nas funcionalidades do NumPy [\\[2\\]](#2).\n",
        "\n",
        "\n",
        "    "
      ],
      "metadata": {
        "id": "D_3N5EzcCPZ5"
      }
    },
    {
      "cell_type": "markdown",
      "source": [
        "1. [Instalação](#1instalacao)\n",
        "2. [Introdução ao NumPy](#2introducao)\n",
        "    1. [Cuidados iniciais: Como copiar arrays](#21copiar)\n",
        "    2. [Propriedades de ndarrays](#22propriedades)\n",
        "    3. [Acessando e modificando elementos (Indexing & Slicing)](#23indexing)\n",
        "    4. [Máscara Booleana e Seleção Avançada](#24boolmask)\n",
        "    5. [Métodos built-in de criação de arrays](#25arraycreate)\n",
        "O argumento é o formato do ndarray resultante. [](#)\n",
        "O argumento é o formato do array resultante. [](#)\n",
        "3. [Matemática com NumPy](#3matematica)\n",
        "    1. [Broadcasting](#31broadcasting)\n",
        "    2. [Funções matemáticas](#32funcoesmath)\n",
        "4. [Álgebra Linear e Estatística básica](#4algelinestat)\n",
        "    1. [Álgebra Linear](#41algelin)\n",
        "    2. [Estatística](#42estat)"
      ],
      "metadata": {
        "id": "7xGwjhkFCRMJ"
      }
    },
    {
      "cell_type": "markdown",
      "source": [
        "## 1. Instalação  <a name=\"1instalacao\"></a>"
      ],
      "metadata": {
        "id": "2J4kbeX3CMIt"
      }
    },
    {
      "cell_type": "markdown",
      "source": [
        "Como falamos antes, o NumPy nada mais é que uma biblioteca do Python. Dito isso, para instalarmos ele, fazemos de forma semelhante a qualquer outra biblioteca Python.\n",
        "\n",
        "Entre as diversas formas de fazer isso, a mais simples é instalar o pacote Anaconda (https://www.anaconda.com/distribution/). Ele já vem com o Python e diversas bibliotecas científicas e de ciência de dados instaladas. Se preferir reinstalar depois, o Anaconda provê também o gerenciador de pacotes Conda, e assim é possível intalar o NumPy através do terminal.\n"
      ],
      "metadata": {
        "id": "yaYENaG-H9yg"
      }
    },
    {
      "cell_type": "code",
      "source": [
        "#$ conda install numpy"
      ],
      "metadata": {
        "id": "dz-rAr7AICPi"
      },
      "execution_count": null,
      "outputs": []
    },
    {
      "cell_type": "markdown",
      "source": [
        "Caso prefira, você também pode instalar via o gerenciador de pacotes nativo do Python, o `pip`.  Para isso, utilizamos o comando abaixo via terminal."
      ],
      "metadata": {
        "id": "xn0do273IA7d"
      }
    },
    {
      "cell_type": "code",
      "source": [
        "#$ pip install numpy"
      ],
      "metadata": {
        "id": "6Eu6hIvmIGr3"
      },
      "execution_count": null,
      "outputs": []
    },
    {
      "cell_type": "markdown",
      "source": [
        "Para quem for usuário com maior conhecimento de programação e computação científica, recomenda-se uma lida nas [instruções de instalação mais detalhadas do NumPy][NumPy_install].\n",
        "\n",
        "O maior motivo para isso é o fato de que, por trás dos panos, o NumPy utiliza as chamadas \"bibliotecas de álgebra linear acelerada\", que pode ser tanto a biblioteca Intel MKL quanto a biblioteca OpenBLAS. Em algumas situações, é importante escolher qual das duas será usada pela sua instalação do NumPy.\n",
        "\n",
        "Embora existam questões de performance computacionais para essa escolha, existem também motivos de negócio. A biblioteca Intel MKL não é de código fonte aberto, e sua licença pode não permitir alguns tipos de distribuição do código que você esteja desenvolvendo com o NumPy."
      ],
      "metadata": {
        "id": "nbaWSmROIOWD"
      }
    },
    {
      "cell_type": "markdown",
      "source": [
        "## 2. Introdução ao NumPy  <a name=\"2introducao\"></a>\n",
        "\n"
      ],
      "metadata": {
        "id": "Veo6jPeLCIjf"
      }
    },
    {
      "cell_type": "markdown",
      "source": [
        "A primeira coisa que precisamos fazer para usar o NumPy em um código, é importar a biblioteca. A importação funciona como qualquer outra biblioteca Python, porém o alias `np` para a biblioteca é amplamente utilizado pela comunidade de usuários do Python. A importação então é sempre feita da forma abaixo."
      ],
      "metadata": {
        "id": "DcKEbcDPO_MS"
      }
    },
    {
      "cell_type": "code",
      "source": [
        "import numpy as np"
      ],
      "metadata": {
        "id": "-C3PZtsxO9hU"
      },
      "execution_count": null,
      "outputs": []
    },
    {
      "cell_type": "markdown",
      "source": [
        "Com esse alias, o nosso código fica bem menor, facilitando para outras pessoas entenderem ele depois. Como o alias é comum na comunidade, ele também não gera confusões, e permite sabermos sempre quando alguma operação feita é nativa do NumPy.\n",
        "\n",
        "Na introdução, comentamos que a estrutura de dados básica do NumPy é um \"array multidimensional\". Esse objeto do NumPy se chama **ndarray**. Um mnemônico para ajudar a lembrar é lembrar pensar em \"N Dimensões ARRAY\", ou \"NDARRAY\". Basta lembrar que o \"nd\" significa \"n-dimensional\", pois também podemos ter tabelas multidimensionais.\n",
        "\n",
        "Essa estrutura é semelhante aos arrays de outras linguagens de programação. Pode ser uma lista de valores, uma tabela, ou uma tabela de tabelas. O importante é que todos os valores são do mesmo \"tipo\". Se um deles é um número inteiro, todos serão. Se um deles for um float, todos serão. Esse tipo é chamado de **dtype**, e é, inclusive, um atributo de objetos arrays do NumPy.\n",
        "\n",
        "O mais comum é usarmos ndarrays como listas ou tabelas de valores.\n",
        "\n",
        "No caso de uma lista, nós temos um ndarray de uma dimensão. Matematicamente, esse objeto é equivalente a um vetor.\n",
        "\n",
        "O método mais comum de criar um ndarray é usando a função `np.array`. Assim, para criar nosso \"vetor\", usamos o comando abaixo."
      ],
      "metadata": {
        "id": "PMZyb3W3PC4x"
      }
    },
    {
      "cell_type": "code",
      "source": [
        "vetor = np.array([1, 2, 3])\n",
        "print(vetor)"
      ],
      "metadata": {
        "id": "0afPoZrZPEuE"
      },
      "execution_count": null,
      "outputs": []
    },
    {
      "cell_type": "markdown",
      "source": [
        "Se olharmos o tipo da variável `vetor`, veremos que ela é do tipo `NumPy.ndarray`."
      ],
      "metadata": {
        "id": "0jz9SKuePGFU"
      }
    },
    {
      "cell_type": "code",
      "source": [
        "print(type(vetor))"
      ],
      "metadata": {
        "id": "3Y6GIMgaPII6"
      },
      "execution_count": null,
      "outputs": []
    },
    {
      "cell_type": "markdown",
      "source": [
        "Podemos criar também uma tabela com duas dimensões. Nesse caso, temos uma matriz."
      ],
      "metadata": {
        "id": "n2ckjfVTPJz0"
      }
    },
    {
      "cell_type": "code",
      "source": [
        "matriz = np.array([[1, 2], [3, 4]])\n",
        "print(matriz)"
      ],
      "metadata": {
        "id": "5nLBvhURPMFU"
      },
      "execution_count": null,
      "outputs": []
    },
    {
      "cell_type": "markdown",
      "source": [
        "É possível, também, aumentar o número de dimensões. Nesse caso, se tivermos 3 dimensões, por exemplo, teríamos uma lista de tabelas. Se forem 4 dimensões, então temos uma tabela cujos elementos são tabelas. Assim, quanto mais dimensões, nós vamos empilhando em uma lista objetos com menos dimensões. Se forem 5 dimensões, temos uma lista de ndarrays de 4 dimensões (ou uma lista de tabelas de tabelas).\n",
        "\n",
        "Matematicamente, quando temos 3 dimensões ou mais, é comum nos referirmos a esse objeto como um *tensor*."
      ],
      "metadata": {
        "id": "2p3nJuJqPNzI"
      }
    },
    {
      "cell_type": "code",
      "source": [
        "tensor = np.array([[[1, 2], [3, 4]], [[1, 0],[0, 1]]])\n",
        "print(tensor)"
      ],
      "metadata": {
        "id": "vrER5aqHPRKN"
      },
      "execution_count": null,
      "outputs": []
    },
    {
      "cell_type": "markdown",
      "source": [
        "Note que a variável `tensor` nada mais é que duas tabelas.\n",
        "\n",
        "Uma representação visual de ndarrays podem ajudar a entender melhor o que está acontecendo.\n",
        "\n",
        "![NumPy_ndarray](https://s3-sa-east-1.amazonaws.com/lcpi/b50bd331-732b-48a4-9d46-01f20c15ab29.png \"ndarrays\"){width=\"400\" height=\"450\"}\n",
        "\n",
        "(**Fonte:** Imagem adaptada da original, disponível pela ABRACD [\\[5\\]](#5))\n",
        "\n",
        "O *ndarray* é a estrutura de dados básica do NumPy, e a que usaremos sempre. A partir dela que toda a \"matemágica\" acontece. Todo o poder do NumPy vem da implementação desse tipo de array e as operações relacionadas, que são mais eficientes que usar variáveis do tipo `list` em Python (embora ndarrays sejam menos flexíveis).\n",
        "\n",
        "Esses objetos também são muito comuns em matemática, pois representam basicamente vetores e matrizes. Assim, é bem direto \"vetorizar\" nosso código escrevendo-o de forma bem parecida com como faríamos em notação matemática.\n",
        "\n",
        "Obs: Falamos antes também de tensores. Não é importante entender o que eles são para poder usar o NumPy. Apenas cálculos muito específicos se utilizam da matemática de tensores. Para a maioria dos casos, basta ter a visão que demos acima, sobre como eles são basicamente \"matrizes com 3 ou mais dimensões\", que pode ser facilmente entendido como “mais ou 3 índices”. Isso é, sempre que tivermos algum objeto com 3 índices, sabemos que é um 3-tensor. Isso significa que eles podem ser uma lista de tabelas, uma tabela de tabelas, uma lista de tabelas de tabelas, uma tabela de tabelas de tabelas, e por aí vai..."
      ],
      "metadata": {
        "id": "tYjjRfMKPUPY"
      }
    },
    {
      "cell_type": "markdown",
      "source": [
        "### 2.1. Cuidados iniciais: Como copiar arrays  <a name=\"21copiar\"></a>"
      ],
      "metadata": {
        "id": "ZQC2iapJCD2H"
      }
    },
    {
      "cell_type": "markdown",
      "source": [
        "Antes de começar a ver as propriedades básicas de um ndarray, é importante ter uma questão muito importante em mente. Assim como os arrays nativos do Python, devido à forma como o NumPy trabalha com ndarrays na memória do computador, eles se comportam da forma mostrada abaixo."
      ],
      "metadata": {
        "id": "EMCjWPJ4Omad"
      }
    },
    {
      "cell_type": "code",
      "source": [
        "a = np.array([1, 2, 3])\n",
        "b = a\n",
        "b"
      ],
      "metadata": {
        "id": "jt_lUnGQOZkc"
      },
      "execution_count": null,
      "outputs": []
    },
    {
      "cell_type": "code",
      "source": [
        "b[0] = 100\n",
        "b"
      ],
      "metadata": {
        "id": "hMEmMD5qOrwj"
      },
      "execution_count": null,
      "outputs": []
    },
    {
      "cell_type": "code",
      "source": [
        "a"
      ],
      "metadata": {
        "id": "j_ecRlI1OtOx"
      },
      "execution_count": null,
      "outputs": []
    },
    {
      "cell_type": "markdown",
      "source": [
        "Note que no bloco de código, a variável `a` foi modificada depois que alteramos a variável `b`! Isso acontece porque ambas as variáveis apontam para o mesmo endereço de memória do computador. Quando fazemos `b[0] = 100`, estamos alterando o valor do primeiro elemento de `b` na memória. Como `a[0]` aponta para o mesmo lugar na memória, ele vai passar a ver o valor novo. Logo, teremos que seu valor será `100`.\n",
        "\n",
        "Por este motivo, sempre que queremos copiar um array de uma variável para outra, usamos o método `copy()`."
      ],
      "metadata": {
        "id": "i1DGyHxuOvND"
      }
    },
    {
      "cell_type": "code",
      "source": [
        "a = np.array([1, 2, 3])\n",
        "b = a.copy()\n",
        "b"
      ],
      "metadata": {
        "id": "hIeKwc8lOxd9"
      },
      "execution_count": null,
      "outputs": []
    },
    {
      "cell_type": "code",
      "source": [
        "b[0] = 100\n",
        "b"
      ],
      "metadata": {
        "id": "b3pIaXqlOzHa"
      },
      "execution_count": null,
      "outputs": []
    },
    {
      "cell_type": "code",
      "source": [
        "a"
      ],
      "metadata": {
        "id": "BNHBgcV3O0Uc"
      },
      "execution_count": null,
      "outputs": []
    },
    {
      "cell_type": "markdown",
      "source": [
        "O método `copy()` copia todos os valores do array para um novo endereço de memória. Assim, a variável `b` passa a apontar para esse novo endereço, e evitamos o problema anterior."
      ],
      "metadata": {
        "id": "q8UYSWERO1xt"
      }
    },
    {
      "cell_type": "markdown",
      "source": [
        "### 2.2. Propriedades de ndarrays  <a name=\"22propriedades\"></a>\n"
      ],
      "metadata": {
        "id": "jzj2b2rLB_ln"
      }
    },
    {
      "cell_type": "markdown",
      "source": [
        "#### Dimensão e formato"
      ],
      "metadata": {
        "id": "pC4laugFNUPy"
      }
    },
    {
      "cell_type": "markdown",
      "source": [
        "Como vimos antes, é possível criar um ndarray com diferentes dimensões e formatos. Cada ndarray tem os atributos `ndim` e `shape` que guardam estas informações. Logo, para sabermos como é o nosso array, basta acessar esses atributos."
      ],
      "metadata": {
        "id": "W9RiEW31NXKg"
      }
    },
    {
      "cell_type": "code",
      "source": [
        "print(vetor.ndim)\n",
        "print(vetor.shape)"
      ],
      "metadata": {
        "id": "3wSTLpV4NPTx"
      },
      "execution_count": null,
      "outputs": []
    },
    {
      "cell_type": "code",
      "source": [
        "print(matriz.ndim)\n",
        "print(matriz.shape)"
      ],
      "metadata": {
        "id": "Nx-nMo_KNa37"
      },
      "execution_count": null,
      "outputs": []
    },
    {
      "cell_type": "code",
      "source": [
        "print(tensor.ndim)\n",
        "print(tensor.shape)"
      ],
      "metadata": {
        "id": "zNMQni5HNcMN"
      },
      "execution_count": null,
      "outputs": []
    },
    {
      "cell_type": "markdown",
      "source": [
        "Isso é extremamente importante para nos ajudar quando temos um ndarray muito grande, e precisamos relembrar o quão grande. Além disso, esses atributos também nos ajudam quando queremos criar funções genéricas que atuem em ndarrays.\n",
        "\n",
        "A partir do formato do array, podemos obter também o número de elementos. Porém, objetos ndarray já têm o atributo `size` para facilitar."
      ],
      "metadata": {
        "id": "WlukcghTNd35"
      }
    },
    {
      "cell_type": "code",
      "source": [
        "print(vetor.size)\n",
        "print(matriz.size)\n",
        "print(tensor.size)"
      ],
      "metadata": {
        "id": "CFrx0MRFNgE6"
      },
      "execution_count": null,
      "outputs": []
    },
    {
      "cell_type": "markdown",
      "source": [
        "Muitas vezes queremos mudar o formato de um array. Por exemplo, podemos querer transformar um vetor de 4 elementos em uma matriz 2x2. Para isso, utilizamos a função `reshape`."
      ],
      "metadata": {
        "id": "yZaqgsI0NhoV"
      }
    },
    {
      "cell_type": "code",
      "source": [
        "before = np.array([[1,2,3,4],[5,6,7,8]])\n",
        "print(before.shape)"
      ],
      "metadata": {
        "id": "TlK6K_MoNj42"
      },
      "execution_count": null,
      "outputs": []
    },
    {
      "cell_type": "code",
      "source": [
        "after = before.reshape((8)) # o novo array deve ter a mesma quantidade de elementos\n",
        "after"
      ],
      "metadata": {
        "id": "mvZej-rONliX"
      },
      "execution_count": null,
      "outputs": []
    },
    {
      "cell_type": "code",
      "source": [
        "after = before.reshape((8, 1))\n",
        "after"
      ],
      "metadata": {
        "id": "ijxGwccVNrRa"
      },
      "execution_count": null,
      "outputs": []
    },
    {
      "cell_type": "code",
      "source": [
        "after = before.reshape(2, 2, 2)\n",
        "after"
      ],
      "metadata": {
        "id": "xEG9cGKbNtPR"
      },
      "execution_count": null,
      "outputs": []
    },
    {
      "cell_type": "markdown",
      "source": [
        "Outra forma de obter arrays com dimensões ou formatos diferentes é juntar e empilhar arrays. Podemos tanto empilhar um array em cima do outro (um \"empilhamento vertical\") usando a função `np.vstack`, quanto tentar colocar um ao lado do outro (um \"empilhamento horizontal\") usando a função `np.hstack`."
      ],
      "metadata": {
        "id": "GZ1zHtpbNwnq"
      }
    },
    {
      "cell_type": "code",
      "source": [
        "v1 = np.array([1,2,3,4])\n",
        "v2 = np.array([5,6,7,8])\n",
        "np.vstack([v1, v2])"
      ],
      "metadata": {
        "id": "mpuGYOVfNzHK"
      },
      "execution_count": null,
      "outputs": []
    },
    {
      "cell_type": "code",
      "source": [
        "np.vstack([v1, v2, v2, v2])"
      ],
      "metadata": {
        "id": "2ydTxzzYN09V"
      },
      "execution_count": null,
      "outputs": []
    },
    {
      "cell_type": "code",
      "source": [
        "h1 = np.array([[1, 1, 1, 1],\n",
        "                   [1, 1, 1, 1]])"
      ],
      "metadata": {
        "id": "aU-C0kFAN3Fa"
      },
      "execution_count": null,
      "outputs": []
    },
    {
      "cell_type": "code",
      "source": [
        "h2 = np.zeros((2,2))"
      ],
      "metadata": {
        "id": "uDmYY2LcN4dV"
      },
      "execution_count": null,
      "outputs": []
    },
    {
      "cell_type": "code",
      "source": [
        "np.hstack((h1, h2))"
      ],
      "metadata": {
        "id": "hgBS8gwdN56q"
      },
      "execution_count": null,
      "outputs": []
    },
    {
      "cell_type": "markdown",
      "source": [
        "É comum falarmos de cada dimensão de um ndarray como um \"eixo\". Assim, se um ndarray tem 3 dimensões, nós podemos falar da \"1ª dimensão do array\" (o eixo 0 do array), da \"2ª dimensão do array\" (o eixo 1 do array) e da \"3ª dimensão do array\" (eixo 2 do array). Assim, um ndarray com formato `(3, 3, 2)` seria uma lista ao longo do seu primeiro eixo (eixo 0). Essa lista seria composta por 3 matrizes de tamanho 3 x 2. De forma totalmente equivalente, a gente poderia pensar que ele é uma lista com 2 matrizes 3 x 3 ao longo do seu terceiro eixo (eixo 2)."
      ],
      "metadata": {
        "id": "6YuPv8rLN8qx"
      }
    },
    {
      "cell_type": "code",
      "source": [
        "a = np.array(range(18))\n",
        "b = a.reshape((3, 3, 2)).copy()\n",
        "b"
      ],
      "metadata": {
        "id": "PdMMPs6SN_B2"
      },
      "execution_count": null,
      "outputs": []
    },
    {
      "cell_type": "markdown",
      "source": [
        "A variável `b` vai ser um \"cubo\" de valores, invés de uma tabela. Assim, o que muda é só qual eixo a gente está olhando.\n",
        "\n",
        "![NumPy_ndarray](https://s3-sa-east-1.amazonaws.com/lcpi/1e527c6a-ea64-46e3-bd31-ffba06749000.png \"ndarrays\"){width=\"600\" height=\"450\"}\n",
        "\n",
        "(**Fonte:** Imagem original Ada)"
      ],
      "metadata": {
        "id": "ynT-CJntOBN3"
      }
    },
    {
      "cell_type": "markdown",
      "source": [
        "#### Tipos de dados e tamanho em memória\n",
        "\n"
      ],
      "metadata": {
        "id": "sCILKHUbB6iB"
      }
    },
    {
      "cell_type": "markdown",
      "source": [
        "Um array do NumPy tem a propriedade `dtype`, que nos dá o tipo dos seus elementos mais básicos."
      ],
      "metadata": {
        "id": "OU_Bu-wvII8H"
      }
    },
    {
      "cell_type": "code",
      "source": [
        "vetor = np.array([1, 2, 3, 4, 5, 6, 7])\n",
        "vetor.dtype"
      ],
      "metadata": {
        "id": "I8R0fvS2IFKU"
      },
      "execution_count": null,
      "outputs": []
    },
    {
      "cell_type": "markdown",
      "source": [
        "Quando nós construímos o ndarray, se não passarmos explicitamente qual é o `dtype`, ele infere a partir dos valores que passamos."
      ],
      "metadata": {
        "id": "DS7GHDVsIQ4B"
      }
    },
    {
      "cell_type": "code",
      "source": [
        "vetor = np.array([1.0, 2.0, 3.0, 4.0, 5.0, 6.0, 7.0])\n",
        "vetor.dtype"
      ],
      "metadata": {
        "id": "OTVTYiCCIQPH"
      },
      "execution_count": null,
      "outputs": []
    },
    {
      "cell_type": "markdown",
      "source": [
        "Para passar esse parâmetro explicitamente, basta utilizar um segundo argumento na função `np.array`."
      ],
      "metadata": {
        "id": "0H6j4-J7IVhb"
      }
    },
    {
      "cell_type": "code",
      "source": [
        "vetor = np.array([1.0, 2.0, 3.0, 4.0, 5.0, 6.0, 7.0], dtype=np.int32)\n",
        "vetor.dtype"
      ],
      "metadata": {
        "id": "RZRtnNCOIWWH"
      },
      "execution_count": null,
      "outputs": []
    },
    {
      "cell_type": "markdown",
      "source": [
        "Para esses arrays, nós dizemos que a consistência dos dados é **forte**. Isso significa que, se criarmos um vetor de números inteiros, por exemplo, então todos os elementos que colocarmos no nosso vetor **vai ser inteiro**.\n",
        "\n",
        "Se tentarmos colocar um valor numérico de ponto flutuante, o NumPy vai automaticamente converter para um valor inteiro."
      ],
      "metadata": {
        "id": "i7lS0drUIasN"
      }
    },
    {
      "cell_type": "code",
      "source": [
        "a = np.array([1, 2, 3])\n",
        "a[0] = 10\n",
        "a"
      ],
      "metadata": {
        "id": "ToKj2pFoMWb7"
      },
      "execution_count": null,
      "outputs": []
    },
    {
      "cell_type": "code",
      "source": [
        "a[0] = 1.23\n",
        "a"
      ],
      "metadata": {
        "id": "RGC-SlB8Ma5B"
      },
      "execution_count": null,
      "outputs": []
    },
    {
      "cell_type": "markdown",
      "source": [
        "O valor padrão de *dtype* depende do Python instalado. Se o Python instalado for de 64 bits, o padrão será tipos `int` ou `float` de 64 bits de memória (`int64` ou `float64`). Caso seu Python seja 32 bits, o padrão será `int32` e `float32`.\n",
        "\n",
        "Essa diferença afeta a precisão dos cálculos. Quanto mais espaço em memória utilizado (maior o número de bits), maior a precisão.\n",
        "\n",
        "Como o NumPy é feito para cálculos numéricos, ele precisa de grande controle sobre essa precisão. De fato, ele precisa de mais controle sobre isso do que o Python básico.\n",
        "\n",
        "Devido a isso, os tipos de dados numéricos básicos do NumPy parecem com os do Python, mas em geral têm um número à direita. Esse número representa o seu nível de precisão computacional.\n",
        "\n",
        "Alguns exemplos de tipos de dados do NumPy (e provavelmente os mais comuns) são:\n",
        "\n",
        "* `np.int32`\n",
        "* `np.int64`\n",
        "* `np.float32`\n",
        "* `np.float64`\n",
        "\n",
        "Como exemplo, podemos criar uma outra array, `a16`, com o tipo inteiro de 16 bits."
      ],
      "metadata": {
        "id": "zfd1ZoVBMd52"
      }
    },
    {
      "cell_type": "code",
      "source": [
        "a16 = np.array([1, 2, 3], dtype=np.int16)\n",
        "a16"
      ],
      "metadata": {
        "id": "MZg3mwNnMf8d"
      },
      "execution_count": null,
      "outputs": []
    },
    {
      "cell_type": "markdown",
      "source": [
        "Note que por ser um tipo diferente do padrão, ele ressalta ao mostrar o array na tela.\n",
        "\n",
        "Para descobrir o espaço que cada elemento ocupa na memória, individualmente, podemos acessar o atributo `itemsize`."
      ],
      "metadata": {
        "id": "pVi3LYHKMiJe"
      }
    },
    {
      "cell_type": "code",
      "source": [
        "a16.itemsize"
      ],
      "metadata": {
        "id": "GGnivZpvMh55"
      },
      "execution_count": null,
      "outputs": []
    },
    {
      "cell_type": "markdown",
      "source": [
        "Ele retornou 2! Mas a gente não falou que era um tipo inteiro de \"16 bits\"?\n",
        "\n",
        "O NumPy nos mostra o espaço em memória em bytes, e não em bits. Cada byte equivale a 8 bits. Logo, 16 bits são o mesmo que 2 bytes.\n",
        "\n",
        "$$\\frac{16}{8} = 2$$\n",
        "\n",
        "Já se fizermos um array padrão em um Python de 64 bits, temos um `itemsize` de 8."
      ],
      "metadata": {
        "id": "c2n24akUMm7v"
      }
    },
    {
      "cell_type": "code",
      "source": [
        "a = np.array([1, 2, 3])\n",
        "a.dtype"
      ],
      "metadata": {
        "id": "FTUhG6NnMpuI"
      },
      "execution_count": null,
      "outputs": []
    },
    {
      "cell_type": "code",
      "source": [
        "a.itemsize"
      ],
      "metadata": {
        "id": "CKPVvIOsMr3r"
      },
      "execution_count": null,
      "outputs": []
    },
    {
      "cell_type": "markdown",
      "source": [
        "Isso pois o padrão de 64 bits equivale a 8 bytes.\n",
        "$$\\frac{64}{8} = 8$$\n",
        "\n",
        "A quantidade de elementos multiplicado pelo tamanho de cada elemento em memória nos dará o tamanho total de bytes que o array inteiro ocupa na memória do computador."
      ],
      "metadata": {
        "id": "5xU-Y1ItMuMZ"
      }
    },
    {
      "cell_type": "code",
      "source": [
        "# quantidade de elementos total\n",
        "a.size"
      ],
      "metadata": {
        "id": "BS4nR7o-MwMm"
      },
      "execution_count": null,
      "outputs": []
    },
    {
      "cell_type": "code",
      "source": [
        "# tamanho em memória do vetor \"a\"\n",
        "a.size * a.itemsize"
      ],
      "metadata": {
        "id": "m8MKiKhjMx5B"
      },
      "execution_count": null,
      "outputs": []
    },
    {
      "cell_type": "markdown",
      "source": [
        "Não precisamos, porém, ficar calculando esse valor se quisermos saber essa informação. Podemos simplesmente acessar o atributo `nbytes`, que representa o tamanho total em bytes ocupado pelo array."
      ],
      "metadata": {
        "id": "3pNsgwV3Mz_W"
      }
    },
    {
      "cell_type": "code",
      "source": [
        "a.nbytes"
      ],
      "metadata": {
        "id": "ZhV0HLk_M16d"
      },
      "execution_count": null,
      "outputs": []
    },
    {
      "cell_type": "markdown",
      "source": [
        "---\n",
        "\n",
        "**Observação**\n",
        "\n",
        "Geralmente não é necessário reduzir o número de bits a não ser que você tenha certeza que um tamanho reduzido vai atender sua necessidade e você quer ser **extremamente** eficiente.\n",
        "\n",
        "---\n",
        "Podemos converter os tipos de dados do array do NumPy depois da sua criação de forma manual, usando a função `astype`."
      ],
      "metadata": {
        "id": "HTggLlYpM3rb"
      }
    },
    {
      "cell_type": "code",
      "source": [
        "a = np.array([1., 2., 3.])\n",
        "a.dtype"
      ],
      "metadata": {
        "id": "Bi_gefjFM72n"
      },
      "execution_count": null,
      "outputs": []
    },
    {
      "cell_type": "code",
      "source": [
        "b = a.astype('int32').copy()\n",
        "b"
      ],
      "metadata": {
        "id": "UU0FSkgSM-9W"
      },
      "execution_count": null,
      "outputs": []
    },
    {
      "cell_type": "code",
      "source": [
        "b.dtype"
      ],
      "metadata": {
        "id": "UM9EK9D3NAMG"
      },
      "execution_count": null,
      "outputs": []
    },
    {
      "cell_type": "markdown",
      "source": [
        "### 2.3. Acessando e modificando elementos (Indexing & Slicing)  <a name=\"23indexing\"></a>\n",
        "\n",
        "\n",
        "\n",
        "\n"
      ],
      "metadata": {
        "id": "wEgQYk3vB0pN"
      }
    },
    {
      "cell_type": "markdown",
      "source": [
        "Vamos montar duas matrizes, uma usando Python e outra usando NumPy, para podermos comparar como nós acessamos os elementos de cada uma."
      ],
      "metadata": {
        "id": "dI_bcRcaGRCj"
      }
    },
    {
      "cell_type": "code",
      "source": [
        "np_mat = np.array([[1, 2,  3,  4,  5,  6,  7],\n",
        "                       [8, 9, 10, 11, 12, 13, 14]])"
      ],
      "metadata": {
        "id": "1YBlen36F8nd"
      },
      "execution_count": null,
      "outputs": []
    },
    {
      "cell_type": "code",
      "source": [
        "print(np_mat)"
      ],
      "metadata": {
        "id": "iYRr69q-GTWN"
      },
      "execution_count": null,
      "outputs": []
    },
    {
      "cell_type": "code",
      "source": [
        "py_mat = [[1, 2,  3,  4,  5,  6,  7],\n",
        "              [8, 9, 10, 11, 12, 13, 14]]"
      ],
      "metadata": {
        "id": "RXVS5RrAGW23"
      },
      "execution_count": null,
      "outputs": []
    },
    {
      "cell_type": "code",
      "source": [
        "print(py_mat)"
      ],
      "metadata": {
        "id": "mIdEWX3EGYGK"
      },
      "execution_count": null,
      "outputs": []
    },
    {
      "cell_type": "markdown",
      "source": [
        "Podemos acessar um elemento específico de forma similar a uma lista natural do Python, utilizando a sintaxe de colchetes. Porém, no NumPy, quando temos 2 ou mais dimensões, nós passamos a posição que queremos buscar atráves de números separados por vírgulas.\n",
        "\n",
        "Se quisermos então pegar o número 13 nos arrays acima, que está na posição \\[1,5\\] (linha 1, coluna 5, lembrando que o Python começa os índices sempre pelo 0), no Python teríamos que usar a sintaxe abaixo."
      ],
      "metadata": {
        "id": "Tw_xJG1aGas0"
      }
    },
    {
      "cell_type": "code",
      "source": [
        "py_mat[1][5]"
      ],
      "metadata": {
        "id": "aGbeK4adGeGr"
      },
      "execution_count": null,
      "outputs": []
    },
    {
      "cell_type": "markdown",
      "source": [
        "Já para um ndarray com duas dimensões (2D), temos uma sintaxe um pouco mais simples."
      ],
      "metadata": {
        "id": "a_z532HQGhHg"
      }
    },
    {
      "cell_type": "code",
      "source": [
        "np_mat[1,5]"
      ],
      "metadata": {
        "id": "GOKWxJERGkn7"
      },
      "execution_count": null,
      "outputs": []
    },
    {
      "cell_type": "markdown",
      "source": [
        "Além disso, todas as regras do Python são aplicáveis no NumPy. Usar números negativos, por exemplo, funciona como uma indexação de trás para frente."
      ],
      "metadata": {
        "id": "xyNLbqz7GmF9"
      }
    },
    {
      "cell_type": "code",
      "source": [
        "np_mat[1, -2]"
      ],
      "metadata": {
        "id": "ljb1i4V-Gnan"
      },
      "execution_count": null,
      "outputs": []
    },
    {
      "cell_type": "markdown",
      "source": [
        "Para pegar uma linha inteira, podemos utilizar a sintaxe de `:` na coluna. Essa sintaxe pode ser lida como \"todos os elementos deste eixo\". Podemos ler então a sintaxe abaixo como \"linha zero, todas as colunas\"."
      ],
      "metadata": {
        "id": "cBD5KHFgGpXY"
      }
    },
    {
      "cell_type": "code",
      "source": [
        "np_mat[0, :]"
      ],
      "metadata": {
        "id": "dLPlWFZMGr_4"
      },
      "execution_count": null,
      "outputs": []
    },
    {
      "cell_type": "markdown",
      "source": [
        "Embora também poderíamos fazer de forma mais fácil essa indexação em específico."
      ],
      "metadata": {
        "id": "0lTXDH9tGttD"
      }
    },
    {
      "cell_type": "code",
      "source": [
        "np_mat[0]"
      ],
      "metadata": {
        "id": "Joq1VrSyGv_f"
      },
      "execution_count": null,
      "outputs": []
    },
    {
      "cell_type": "markdown",
      "source": [
        "Porém, para pegar uma coluna, não tem jeito, precisamos usar `:`. A sintaxe abaixo pode ser lida como \"todas as linhas, coluna 2\"."
      ],
      "metadata": {
        "id": "wxHN5gjDGxpj"
      }
    },
    {
      "cell_type": "code",
      "source": [
        "np_mat[:, 2]"
      ],
      "metadata": {
        "id": "hgBfuYdVGzSE"
      },
      "execution_count": null,
      "outputs": []
    },
    {
      "cell_type": "markdown",
      "source": [
        "O operador `:` é também conhecido como slicing (ou \"fatiamento\", em português), e pode ser usado para pegar intervalos de índices. Para isso, ele precisa de três parâmetros:\n",
        "- start, o índice inicial do intervalo\n",
        "- end, o índice final do intervalo\n",
        "- step, quantos índices nós pulamos em cada passo dado para ir do *start* até o *end*.\n",
        "\n",
        "Isso é feito no formato `[start:end:step]`. Neste caso, `step` é o tamanho do passo que vamos dar. Basicamente, ele diz quantos elementos devemos pular de cada vez. Como exemplo, podemos pegar do elemento 1 ao 6 pulando de 2 em 2 na linha 0."
      ],
      "metadata": {
        "id": "FT0p4Ow4G1R6"
      }
    },
    {
      "cell_type": "code",
      "source": [
        "np_mat[0, 1:6:2]"
      ],
      "metadata": {
        "id": "xYOwmkhTG2u9"
      },
      "execution_count": null,
      "outputs": []
    },
    {
      "cell_type": "markdown",
      "source": [
        "Novamente, ele também funciona com índice negativo."
      ],
      "metadata": {
        "id": "M-4RA5NBG4Yz"
      }
    },
    {
      "cell_type": "code",
      "source": [
        "np_mat[0, 1:-1:2]"
      ],
      "metadata": {
        "id": "wms3_5ZoG5uv"
      },
      "execution_count": null,
      "outputs": []
    },
    {
      "cell_type": "markdown",
      "source": [
        "Podemos usar essas indexações para alterar os elementos do array. Basta usar o operador `=` para atribuir um novo falar ao elemento daquela posição."
      ],
      "metadata": {
        "id": "fRu2eo5BG7KU"
      }
    },
    {
      "cell_type": "code",
      "source": [
        "np_mat[1,5] = 20\n",
        "print(np_mat)"
      ],
      "metadata": {
        "id": "myUsJZ5uG9N4"
      },
      "execution_count": null,
      "outputs": []
    },
    {
      "cell_type": "markdown",
      "source": [
        "Isso vale até para colunas ou linhas inteiras."
      ],
      "metadata": {
        "id": "3k-M6I9-G_Cq"
      }
    },
    {
      "cell_type": "code",
      "source": [
        "np_mat[:, 2] = 5\n",
        "print(np_mat)"
      ],
      "metadata": {
        "id": "wGDLId6yHA-s"
      },
      "execution_count": null,
      "outputs": []
    },
    {
      "cell_type": "markdown",
      "source": [
        "Isso acontece por uma característica fundamental do array do NumPy:\n",
        "\n",
        "<b><center>Ao alterar o pedaço recortado da matriz (o \"slice\" da matriz), você altera a matriz original.</center></b>\n",
        "\n",
        "Juntando com o problema que vimos antes, de cópia de array, quando queremos copiar um slice de um array, temos que explicitamente usar o método `copy`."
      ],
      "metadata": {
        "id": "kOAWS5qwHDap"
      }
    },
    {
      "cell_type": "code",
      "source": [
        "a = np.array([1, 2, 3])\n",
        "b = a[1:].copy()\n",
        "b"
      ],
      "metadata": {
        "id": "ysMol2YaHFzG"
      },
      "execution_count": null,
      "outputs": []
    },
    {
      "cell_type": "code",
      "source": [
        "c = a[1:]\n",
        "c"
      ],
      "metadata": {
        "id": "TPPjh-ooHHy3"
      },
      "execution_count": null,
      "outputs": []
    },
    {
      "cell_type": "code",
      "source": [
        "c[0] = 5\n",
        "c"
      ],
      "metadata": {
        "id": "GpMyN4YHHJ1s"
      },
      "execution_count": null,
      "outputs": []
    },
    {
      "cell_type": "code",
      "source": [
        "a"
      ],
      "metadata": {
        "id": "cOFeeXUjHLmN"
      },
      "execution_count": null,
      "outputs": []
    },
    {
      "cell_type": "code",
      "source": [
        "b"
      ],
      "metadata": {
        "id": "Fqefa9N7HM5S"
      },
      "execution_count": null,
      "outputs": []
    },
    {
      "cell_type": "markdown",
      "source": [
        "### 2.4. Máscara Booleana e Seleção Avançada  <a name=\"24boolmask\"></a>"
      ],
      "metadata": {
        "id": "Fsz1Kbf8BuCw"
      }
    },
    {
      "cell_type": "markdown",
      "source": [
        "Uma outra forma de seleção é por meio de uma lista de posições."
      ],
      "metadata": {
        "id": "aspbHwLaElSe"
      }
    },
    {
      "cell_type": "code",
      "source": [
        "a = np.array([1, 2, 3, 4, 5, 6, 7, 8, 9])\n",
        "a[[1, 2, -1]]"
      ],
      "metadata": {
        "id": "dB5OtfKBEnTH"
      },
      "execution_count": null,
      "outputs": []
    },
    {
      "cell_type": "markdown",
      "source": [
        "No caso de arrays multidimensionais, vamos ter que passar uma lista para cada dimensão. O NumPy nos retornará os elementos formados pelos pares (se 2D, se for 3D são trincas, se 4D quadras, etc.) dessas listas."
      ],
      "metadata": {
        "id": "_Dx6KSRZEphz"
      }
    },
    {
      "cell_type": "code",
      "source": [
        "a = np.array([1, 2, 3, 4, 5, 6, 7, 8, 9]).reshape(3,3)\n",
        "a"
      ],
      "metadata": {
        "id": "Wzmlusw3EpOI"
      },
      "execution_count": null,
      "outputs": []
    },
    {
      "cell_type": "code",
      "source": [
        "a[[0, 0, 2],[1, 2, 2]]"
      ],
      "metadata": {
        "id": "jHcGeAOeEuKL"
      },
      "execution_count": null,
      "outputs": []
    },
    {
      "cell_type": "markdown",
      "source": [
        "Uma outra forma muito comum de selecionar elementos de um ndarray é usando o que chamamos de \"máscara booleana\". Ela nada mais é do que um array de elementos booleanos (\"True\" ou \"False\"). Tanto faz se for uma lista do Python ou um ndarray do NumPy.\n",
        "\n",
        "Assim, quando passamos essa máscara para um array do NumPy, ele nos retorna apenas as posições onde temos o valor \"True\"."
      ],
      "metadata": {
        "id": "VHnrsEj0Ewip"
      }
    },
    {
      "cell_type": "code",
      "source": [
        "a = np.array([1, 2, 3, 4, 5, 6, 7, 8, 9])#.reshape(3,3)\n",
        "a"
      ],
      "metadata": {
        "id": "nHKthzySEySF"
      },
      "execution_count": null,
      "outputs": []
    },
    {
      "cell_type": "code",
      "source": [
        "a[[True, True, False, False, False, False, False, True, False]]"
      ],
      "metadata": {
        "id": "_RAX4URHE2CT"
      },
      "execution_count": null,
      "outputs": []
    },
    {
      "cell_type": "markdown",
      "source": [
        "Note, no exemplo acima, que temos 3 posições onde nossa máscara possui valor \"True\". A posição 0, a posição 1, e a posição 7, que correspondem aos valores 1, 2, e 8, respectivamente.\n",
        "\n",
        "Nós podemos gerar essa máscara a partir de comparações elemento a elemento de um ndarray. De fato, ao aplicar qualquer operador booleano, como\n",
        "\n",
        "- `>`,\n",
        "- `<`,\n",
        "- `<=`,\n",
        "- `>=`,\n",
        "- `==`,\n",
        "\n",
        "para comparar um ndarray com algum valor, o NumPy retorna um ndarray de valores booleanos. Esse novo ndarray vai ter o valor `True` nas posições onde a comparação do elemento original e esse valor separado for verdadeira. Teremos o valor `False` caso contrário.\n",
        "\n",
        "Vamos ver um exemplo."
      ],
      "metadata": {
        "id": "bNrj1SuRE5hz"
      }
    },
    {
      "cell_type": "code",
      "source": [
        "mat = np.array([1, 10, 20, 30]).reshape(2, 2)\n",
        "mat"
      ],
      "metadata": {
        "id": "be-karKyE_Wj"
      },
      "execution_count": null,
      "outputs": []
    },
    {
      "cell_type": "code",
      "source": [
        "mat > 10 # retorna um ndarray com valor True onde o elemento original é maior que 10"
      ],
      "metadata": {
        "id": "Tp47NBC4FA9v"
      },
      "execution_count": null,
      "outputs": []
    },
    {
      "cell_type": "markdown",
      "source": [
        "Podemos juntar os dois exemplos anteriores, de uso da máscara booleana como indexação e da criação de uma máscara, em uma única linha."
      ],
      "metadata": {
        "id": "LbHYo-FUE-9X"
      }
    },
    {
      "cell_type": "code",
      "source": [
        "mat[mat > 10]"
      ],
      "metadata": {
        "id": "Np5lv2aMFV-F"
      },
      "execution_count": null,
      "outputs": []
    },
    {
      "cell_type": "markdown",
      "source": [
        "Neste exemplo, temos como retorno um array com os elementos 20 e 30, como era esperado.\n",
        "\n",
        "Podemos fazer operações semelhantes, mas restritos a seguir \"linha a linha\" ou \"coluna a coluna\". No nosso exemplo anterior, pode ser que queiramos todas as linhas onde existe um elemento com valor `10`. Outra opção seria pegar todas as colunas com pelo menos 1 elemento abaixo do valor `10`.\n",
        "\n",
        "Para isso, usamos os métodos auxiliares `any` e `all`.\n",
        "\n",
        "* any: se qualquer elemento do meu eixo for `True`, retorna um valor `True`\n",
        "* all: se, e somente se, todos os elementos do meu eixo forem `True`, retorna `True`\n",
        "\n",
        "Nas explicações, o \"eixo\" são as dimensões do ndarray, como discutido na sessão 2.2.\n",
        "\n",
        "Vamos ver alguns exemplos.\n",
        "\n",
        "O exemplo abaixo pega todas as linhas onde existe pelo menos um elemento com valor `10`."
      ],
      "metadata": {
        "id": "BnOyjlOwFY3-"
      }
    },
    {
      "cell_type": "code",
      "source": [
        "mat[(mat == 10).any(axis=1)]"
      ],
      "metadata": {
        "id": "d9ud8PuKFblw"
      },
      "execution_count": null,
      "outputs": []
    },
    {
      "cell_type": "markdown",
      "source": [
        "Por que usamos o eixo 1 nesse caso? Porque aqui, o eixo define por onde o NumPy vai \"traversar\" para avaliar o nosso ndarray.\n",
        "\n",
        "O eixo 0 são as linhas. Assim, quando olhamos *ao longo do eixo 0*, nós estamos caminhando através das linhas. Se usássemos `(mat == 10).any(axis=0)`, o NumPy vai ver se tem elementos que sejam iguais a 10 **ao longo do eixo 0**.\n",
        "\n",
        "O processo então vai ser o seguinte:\n",
        "- olha se `1 == 10`. Nesse caso, temos `False`.\n",
        "- o próximo elemento, **ao longo do eixo 0**, é o `20`.\n",
        "- `20 == 10` também retorna `False`. Logo, nessa coluna, a resposta será `False`.\n",
        "- segue para a próxima coluna.\n",
        "\n",
        "Já quando usamos `(mat == 10).any(axis=1)`, ele olha **ao longo do eixo 1**, ou seja, ao longo das colunas. O processo fica:\n",
        "- olha se `1 == 10`. Nesse caso, temos `False`.\n",
        "- o próximo elemento, **ao longo do eixo 1**, é o `10`.\n",
        "- `10 == 10` retorna `True`. Logo, existe pelo menos um valor `True`. Então, para essa linha, retornamos o valor `True`.\n",
        "- segue para a próxima linha.\n",
        "\n",
        "Como um outro exemplo, se quisermos pegar as colunas onde todos os elements sejam maiores que `5`, podemos usar o `all`. A regra de qual eixo usar é igual."
      ],
      "metadata": {
        "id": "fzTtYWCeFds6"
      }
    },
    {
      "cell_type": "code",
      "source": [
        "mat[:, (mat > 5).all(axis=0)]"
      ],
      "metadata": {
        "id": "-rrkqqrzFgV-"
      },
      "execution_count": null,
      "outputs": []
    },
    {
      "cell_type": "markdown",
      "source": [
        "Perceba que neste exemplo, nós colocamos dois pontos na primeira posição. Isso garante que pegamos todas as linhas, e olhamos a nossa máscara booleana apenas ao longo das colunas. Além disso, colocamos `axis=0`, para olhar ao longo do eixo 0.\n",
        "\n",
        "Para nos ajudar a lembrar essa questão do parâmetro `axis`, podemos pensar que esse parâmetro define ao longo de qual eixo a função irá \"esmagar\" o nosso array."
      ],
      "metadata": {
        "id": "z1V7xi_OFiEr"
      }
    },
    {
      "cell_type": "code",
      "source": [
        "new_mat = np.array([1, 2, 4, 5, 7, 8]).reshape(3, 2)\n",
        "new_mat"
      ],
      "metadata": {
        "id": "dvTw4R7NFko3"
      },
      "execution_count": null,
      "outputs": []
    },
    {
      "cell_type": "code",
      "source": [
        "(new_mat < 8).all(axis=1) # Apenas as 2 primeiras linhas têm todos os elementos < 8"
      ],
      "metadata": {
        "id": "DouDUEiwFmND"
      },
      "execution_count": null,
      "outputs": []
    },
    {
      "cell_type": "code",
      "source": [
        "(new_mat == 5).any(axis=0) # Apenas a segunda coluna tem um elemento com valor 5"
      ],
      "metadata": {
        "id": "iz-ti0l_Fok7"
      },
      "execution_count": null,
      "outputs": []
    },
    {
      "cell_type": "markdown",
      "source": [
        "#### Múltiplas condições\n",
        "\n",
        "\n",
        "\n"
      ],
      "metadata": {
        "id": "oo7QteC2BjY9"
      }
    },
    {
      "cell_type": "markdown",
      "source": [
        "Similar ao `and` do python, nós podemos usar múltiplas condições para filtrar dados da nossa matriz com o operador `&`."
      ],
      "metadata": {
        "id": "9EbL4EBGEIiz"
      }
    },
    {
      "cell_type": "code",
      "source": [
        "mask = (mat > 10) & (mat <= 20)\n",
        "mat[mask]"
      ],
      "metadata": {
        "id": "p7Wc1bR8EF1U"
      },
      "execution_count": null,
      "outputs": []
    },
    {
      "cell_type": "markdown",
      "source": [
        "**Observação:** note que os parênteses, além de melhorarem a legibilidade, são necessárias devido a ordem de precedência dos operadores `>`, `&` e `<=`. Se não colocarmos os parênteses, dará um erro.\n",
        "\n",
        "Além do `&`, também podemos fazer quaisquer operações booleanas básicas.\n",
        "\n",
        "No caso do `or`, nós temos o operador `|`."
      ],
      "metadata": {
        "id": "uGKWFzvhEN7W"
      }
    },
    {
      "cell_type": "code",
      "source": [
        "mask = (mat == 1) | (mat >= 20)\n",
        "mat[mask]"
      ],
      "metadata": {
        "id": "-XBMQmQeEQPh"
      },
      "execution_count": null,
      "outputs": []
    },
    {
      "cell_type": "markdown",
      "source": [
        "No caso do `not`, nós temos o operador `~`."
      ],
      "metadata": {
        "id": "U8F6H_8eESBX"
      }
    },
    {
      "cell_type": "code",
      "source": [
        "mask = (mat == 1) | (mat >= 20)\n",
        "mat[~mask]"
      ],
      "metadata": {
        "id": "XtcWjnOrET5F"
      },
      "execution_count": null,
      "outputs": []
    },
    {
      "cell_type": "markdown",
      "source": [
        "### 2.5. Métodos built-in de criação de arrays  <a name=\"25arraycreate\"></a>\n",
        "\n"
      ],
      "metadata": {
        "id": "aViSlwHCBfc_"
      }
    },
    {
      "cell_type": "markdown",
      "source": [
        "O NumPy já possui diversos métodos para gerar alguns arrays comuns mais conhecidos.\n",
        "Isso nos ajuda imensamente a criar algumas matrizes padrões para fazer contas.\n",
        "\n",
        "Primeiro, é possível gerar um array de zeros com qualquer formato."
      ],
      "metadata": {
        "id": "qqL1z4caDLlq"
      }
    },
    {
      "cell_type": "code",
      "source": [
        "np.zeros((2, 3)) # O argumento é o formato do ndarray resultante."
      ],
      "metadata": {
        "id": "9ynu4wneDLMx"
      },
      "execution_count": null,
      "outputs": []
    },
    {
      "cell_type": "code",
      "source": [
        "np.zeros((2, 2, 5))"
      ],
      "metadata": {
        "id": "e-CgHFVsDRkR"
      },
      "execution_count": null,
      "outputs": []
    },
    {
      "cell_type": "markdown",
      "source": [
        "Para criar um array de uns, a sintaxe é semelhante."
      ],
      "metadata": {
        "id": "ThP9kireDT6R"
      }
    },
    {
      "cell_type": "code",
      "source": [
        "np.ones((4, 2, 2), dtype='int32')"
      ],
      "metadata": {
        "id": "nl8V1swbDVPu"
      },
      "execution_count": null,
      "outputs": []
    },
    {
      "cell_type": "markdown",
      "source": [
        "Se invés de uma matriz apenas de uns, nós quisermos usar outro número, podemos fazer isso aproveitando o `np.ones`. Basta multiplicarmos a matriz pelo número que desejamos."
      ],
      "metadata": {
        "id": "E7kNkmgxDXe7"
      }
    },
    {
      "cell_type": "code",
      "source": [
        "np.ones((2, 2)) * 10"
      ],
      "metadata": {
        "id": "LCgF12JNDaSb"
      },
      "execution_count": null,
      "outputs": []
    },
    {
      "cell_type": "markdown",
      "source": [
        "Mas o NumPy já tem uma opção mais direta, o `full`."
      ],
      "metadata": {
        "id": "HOVlCyD4DbuE"
      }
    },
    {
      "cell_type": "code",
      "source": [
        "np.full((2, 2), 99) # O primeiro argumento é o formato, o segundo é o número"
      ],
      "metadata": {
        "id": "MrgnhqENDdrA"
      },
      "execution_count": null,
      "outputs": []
    },
    {
      "cell_type": "markdown",
      "source": [
        "Também temos o `full_like`, que copia o formato de uma matriz que já tenha sido declarada antes."
      ],
      "metadata": {
        "id": "mX2rKGQ1Dfo-"
      }
    },
    {
      "cell_type": "code",
      "source": [
        "np_mat = np.array([[1, 2,  3,  4,  5,  6,  7],\n",
        "                       [8, 9, 10, 11, 12, 13, 14]])"
      ],
      "metadata": {
        "id": "zFRKjV3HDhSH"
      },
      "execution_count": null,
      "outputs": []
    },
    {
      "cell_type": "code",
      "source": [
        "np.full_like(np_mat, 4)"
      ],
      "metadata": {
        "id": "gJ66OhtVDiX7"
      },
      "execution_count": null,
      "outputs": []
    },
    {
      "cell_type": "markdown",
      "source": [
        "Outra função para criação de arrays é `np.repeat`. Ela repete um determinado array na direção do eixo escolhido.\n",
        "\n",
        "Para um vetor de 1D, temos apenas 1 eixo, mas para matrizes, tempos dois. O eixo 0 é linha, o eixo 1 é coluna."
      ],
      "metadata": {
        "id": "dHlrxQnJDmTE"
      }
    },
    {
      "cell_type": "code",
      "source": [
        "arr = np.array([1, 2, 3])\n",
        "r1 = np.repeat(arr, 3)\n",
        "print(r1)"
      ],
      "metadata": {
        "id": "JnZLTv_3DpTm"
      },
      "execution_count": null,
      "outputs": []
    },
    {
      "cell_type": "markdown",
      "source": [
        "Para fazermos uma matriz, mudamos o formato da variável `arr` de (3,) para (1,3)."
      ],
      "metadata": {
        "id": "dcK28KnNDsUm"
      }
    },
    {
      "cell_type": "code",
      "source": [
        "arr = np.array([[1, 2, 3]])\n",
        "r1 = np.repeat(arr, 3, axis=0)\n",
        "print(r1)"
      ],
      "metadata": {
        "id": "WNuHem4fDuoY"
      },
      "execution_count": null,
      "outputs": []
    },
    {
      "cell_type": "code",
      "source": [
        "r2 = np.repeat(arr, 3, axis=1)\n",
        "print(r2)"
      ],
      "metadata": {
        "id": "dWIOG-A_DwMt"
      },
      "execution_count": null,
      "outputs": []
    },
    {
      "cell_type": "markdown",
      "source": [
        "#### Criando arrays com listas de números\n",
        "\n"
      ],
      "metadata": {
        "id": "GP6U0_tlBbyv"
      }
    },
    {
      "cell_type": "markdown",
      "source": [
        "Um caso específico de criação de arrays é quando queremos gerar uma lista sequencial de números. Isso é muito comum, por exemplo, quando queremos calcular uma função matemática em vários pontos de uma única vez.\n",
        "\n",
        "A primeira função do NumPy para criar essa sequência numérica é `np.arange`. Esta função retorna elementos igualmente espaçados por um step (que por padrão é 1) dentro de um certo intervalo."
      ],
      "metadata": {
        "id": "OogauKiJC1fr"
      }
    },
    {
      "cell_type": "code",
      "source": [
        "np.arange(0, 10)"
      ],
      "metadata": {
        "id": "slbLzibFC5h7"
      },
      "execution_count": null,
      "outputs": []
    },
    {
      "cell_type": "markdown",
      "source": [
        "A função `np.arange` é semelhante à função `range` do Python, porém permite que peguemos valores de ponto flutuante (números com decimal) dentro do nosso intervalo."
      ],
      "metadata": {
        "id": "xUbJc3vWC7Vg"
      }
    },
    {
      "cell_type": "code",
      "source": [
        "np.arange(0, 11, 0.1)"
      ],
      "metadata": {
        "id": "dkTfd_y8C8-R"
      },
      "execution_count": null,
      "outputs": []
    },
    {
      "cell_type": "markdown",
      "source": [
        "Outro caso comum que esbarramos para criar uma lista sequencial é quando queremos escolher uma grande quantidade de pontos entre dois números. Por exemplo, pode ser que nós queiramos fazer um mesmo cálculo para 10 valores entre 3 e 7.\n",
        "\n",
        "Neste caso, usamos a função `np.linspace`."
      ],
      "metadata": {
        "id": "IbH-teRdC-vQ"
      }
    },
    {
      "cell_type": "code",
      "source": [
        "np.linspace(3, 7, num=10)"
      ],
      "metadata": {
        "id": "j_xipOR0DAsw"
      },
      "execution_count": null,
      "outputs": []
    },
    {
      "cell_type": "markdown",
      "source": [
        "#### Números decimais aleatórios\n",
        "\n"
      ],
      "metadata": {
        "id": "HcUuEDyYBYIm"
      }
    },
    {
      "cell_type": "markdown",
      "source": [
        "O NumPy tem um sub-módulo chamado `random` (cujas funções são acessadas usando o preâmbulo `np.random`). Nele, existe um conjunto de funções focadas em gerar arrays com números aleatórios.\n",
        "\n",
        "Por exemplo, a função `np.random.random_sample` retorna valores aleatórios entre 0 e 1."
      ],
      "metadata": {
        "id": "qTQbpYjJAsFa"
      }
    },
    {
      "cell_type": "code",
      "source": [
        "np.random.random_sample((4, 2)) # O argumento é o formato do array resultante."
      ],
      "metadata": {
        "id": "5dSx4hDuAp9N"
      },
      "execution_count": null,
      "outputs": []
    },
    {
      "cell_type": "markdown",
      "source": [
        "A função `np.random.rand` é um \"alias\" da função de cima. Isso significa que, por trás dos panos, ela literalmente só executa a função `np.random.random_sample`.\n",
        "\n",
        "Essa função existe para facilitar a migração de códigos de outras linguagens de computação numérica (especificamente, códigos de uma linguagem chamada MATLAB)."
      ],
      "metadata": {
        "id": "hD0ZlYUyAw0D"
      }
    },
    {
      "cell_type": "code",
      "source": [
        "np.random.rand(4, 2)"
      ],
      "metadata": {
        "id": "rbJDtEFSAybQ"
      },
      "execution_count": null,
      "outputs": []
    },
    {
      "cell_type": "markdown",
      "source": [
        "Se quisermos criar um array de números inteiros abaixo de um certo valor, escolhidos ao acaso, usamos a função `np.random.randint`."
      ],
      "metadata": {
        "id": "wQ8Na1M3Cc2z"
      }
    },
    {
      "cell_type": "code",
      "source": [
        "np.random.randint(7, size=(3, 3)) # Números menores que 7, formato 3 x 3"
      ],
      "metadata": {
        "id": "vlFFiwMxCes0"
      },
      "execution_count": null,
      "outputs": []
    },
    {
      "cell_type": "markdown",
      "source": [
        "Os argumentos principais da função `np.random.randint` são `low`, `high` e `size`, que definem o menor inteiro possível, o maior inteiro possível, e o tamanho do array resultante."
      ],
      "metadata": {
        "id": "-OtJjTEcCgxO"
      }
    },
    {
      "cell_type": "code",
      "source": [
        "np.random.randint(5, high=10, size=10)"
      ],
      "metadata": {
        "id": "lg14-bfSCiRr"
      },
      "execution_count": null,
      "outputs": []
    },
    {
      "cell_type": "markdown",
      "source": [
        "Para incluir o 10 entre os valores possíveis, basta trocar o argumento high para 11."
      ],
      "metadata": {
        "id": "hDU8jW4sCkSI"
      }
    },
    {
      "cell_type": "markdown",
      "source": [
        "## 3. Matemática com NumPy  <a name=\"3matematica\"></a>\n",
        "\n"
      ],
      "metadata": {
        "id": "6--bG0YcBUZ5"
      }
    },
    {
      "cell_type": "markdown",
      "source": [
        "No início deste texto, nós introduzimos o NumPy como uma biblioteca muito utilizada para fazer cálculos numéricos. Vamos ver então as operações matemáticas disponíveis no NumPy.\n",
        "\n",
        "A primeira coisa a se observar é que as operações matemáticas básicas, como usadas no Python, podem ser usadas também para ndarrays. Só temos que lembrar sempre que elas são aplicadas elemento a elemento."
      ],
      "metadata": {
        "id": "lKKN1VqZHHhD"
      }
    },
    {
      "cell_type": "code",
      "source": [
        "vec1 = np.array([2., 4., 6., 8.])\n",
        "vec2 = np.array([1., 2., 3., 4.])\n",
        "vec1 + vec2                    # Soma"
      ],
      "metadata": {
        "id": "lzcdqUanHFKA"
      },
      "execution_count": null,
      "outputs": []
    },
    {
      "cell_type": "code",
      "source": [
        "vec1 - vec2                    # subtração"
      ],
      "metadata": {
        "id": "2WVEvMBNHRZO"
      },
      "execution_count": null,
      "outputs": []
    },
    {
      "cell_type": "code",
      "source": [
        "vec1 * vec2                    # Multiplicação"
      ],
      "metadata": {
        "id": "RmNZ9shhHTqh"
      },
      "execution_count": null,
      "outputs": []
    },
    {
      "cell_type": "code",
      "source": [
        "vec1 / vec2                    # Divisão"
      ],
      "metadata": {
        "id": "nDTURkcJHWIp"
      },
      "execution_count": null,
      "outputs": []
    },
    {
      "cell_type": "code",
      "source": [
        "vec1 ** vec2                   # exponenciação"
      ],
      "metadata": {
        "id": "iYvyJOcKHYg3"
      },
      "execution_count": null,
      "outputs": []
    },
    {
      "cell_type": "markdown",
      "source": [
        "A notação com este \"e\" minúsculo significa que o número está escrito em notação científica, isto é, em potências de 10. Assim, `4.096e+03` significa `4096` (pois multiplicamos o número por 1000, que é dez elevado a 3). Ainda nesta linha, `2.160e+02` significa `216`.\n",
        "\n",
        "O NumPy também consegue fazer operações entre arrays e números (chamadas operações com escalares)."
      ],
      "metadata": {
        "id": "OnXlf4zbHg91"
      }
    },
    {
      "cell_type": "code",
      "source": [
        "vec2 + 2                 # Somar"
      ],
      "metadata": {
        "id": "djNP5DeFHi4b"
      },
      "execution_count": null,
      "outputs": []
    },
    {
      "cell_type": "code",
      "source": [
        "vec2 - 2                 # Subtrair"
      ],
      "metadata": {
        "id": "sUvNn7jpHleI"
      },
      "execution_count": null,
      "outputs": []
    },
    {
      "cell_type": "code",
      "source": [
        "vec2 * 2                 # Multiplicar"
      ],
      "metadata": {
        "id": "oMSyE1o2HmtB"
      },
      "execution_count": null,
      "outputs": []
    },
    {
      "cell_type": "code",
      "source": [
        "vec2 / 2                 # Dividir"
      ],
      "metadata": {
        "id": "AWUEXvoSHoDm"
      },
      "execution_count": null,
      "outputs": []
    },
    {
      "cell_type": "code",
      "source": [
        "a ** 2                   # Potência (elevar a um número)"
      ],
      "metadata": {
        "id": "VUNWG846Hppl"
      },
      "execution_count": null,
      "outputs": []
    },
    {
      "cell_type": "code",
      "source": [
        "vec2 += 2                # Incrementar"
      ],
      "metadata": {
        "id": "TP-lnJLUHrGT"
      },
      "execution_count": null,
      "outputs": []
    },
    {
      "cell_type": "code",
      "source": [
        "vec2"
      ],
      "metadata": {
        "id": "OeygFayJHsn6"
      },
      "execution_count": null,
      "outputs": []
    },
    {
      "cell_type": "markdown",
      "source": [
        "Agora uma dúvida é: se os nossos ndarrays tiverem formatos diferentes, então o NumPy apenas retorna um erro?\n",
        "\n",
        "Depende do caso. Ele consegue fazer a operação se a diferença entre os formatos seguirem algumas regras que veremos abaixo. Nestes casos, ele faz o que chamamos de **Broadcasting**.\n",
        "\n",
        "Se a diferença entre os formatos não seguirem as regrinhas necessárias para realizar broadcasting, então o NumPy retorna de fato um erro."
      ],
      "metadata": {
        "id": "VJn3oFwOHumU"
      }
    },
    {
      "cell_type": "code",
      "source": [
        "a = np.array([1, 2, 3])\n",
        "b = np.array([2, 2])\n",
        "a * b"
      ],
      "metadata": {
        "id": "hJtRES8LHxAn"
      },
      "execution_count": null,
      "outputs": []
    },
    {
      "cell_type": "markdown",
      "source": [
        "### 3.1. Broadcasting  <a name=\"31broadcasting\"></a>"
      ],
      "metadata": {
        "id": "jEVN-zaYBQpb"
      }
    },
    {
      "cell_type": "markdown",
      "source": [
        "O que fizemos, nas operações com escalar, é um tipo de broadcasting. Você pode imaginar que o que está acontecendo é o seguinte:\n",
        "- pegue o seu número,\n",
        "- crie um ndarray, de mesmo formato que o primeiro, mas cujos valores são o seu número.\n",
        "\n",
        "![broadcasting01](https://s3-sa-east-1.amazonaws.com/lcpi/dec6164e-6fc2-4e13-8e83-047617a2f89b.png \"broadcasting escalar\")\n",
        "\n",
        "(**Fonte:** Tutoriais oficiais do NumPy [\\[2\\]](#2))\n",
        "\n",
        "Na imagem acima (que foi tirada dos tutoriais oficiais do NumPy), nota que o valor 2 é \"esticado\". Ele é repetido ao longo do eixo 0 até ter um ndarray de formato (3,).\n",
        "\n",
        "Essa ideia pode ser generalizada. Sempre que fizer sentido \"esticar\" (ou repetir) o array menor até ele ficar com o mesmo formato do maior, então o NumPy consegue realizar uma operação de broadcasting."
      ],
      "metadata": {
        "id": "ysw-cHupGAIw"
      }
    },
    {
      "cell_type": "code",
      "source": [
        "matrix = np.array([[0, 0, 0],\n",
        "                   [10, 10, 10],\n",
        "                   [20, 20, 20],\n",
        "                   [30, 30, 30]])\n",
        "vec = np.array([1, 2, 3])\n",
        "matrix + vec"
      ],
      "metadata": {
        "id": "Nsb7TlpHF_BH"
      },
      "execution_count": null,
      "outputs": []
    },
    {
      "cell_type": "markdown",
      "source": [
        "\n",
        "![broadcasting02](https://s3-sa-east-1.amazonaws.com/lcpi/ab17651c-1154-4ea1-a716-09e203f49060.png \"broadcasting array\")\n",
        "\n",
        "(**Fonte:** Tutoriais oficiais do NumPy [\\[2\\]](#2))\n",
        "\n",
        "A imagem acima mostra o que está acontecendo no código de exemplo que demos.\n",
        "\n",
        "Mas por que colocamos a expressão \"sempre que fizer sentido\"? O motivo é que a única coisa que o NumPy aceita fazer é repetir o array menor diversas vezes na direção de uma dimensão. Ele não reajusta o seu array!\n",
        "\n",
        "![not_broadcasting](https://s3-sa-east-1.amazonaws.com/lcpi/862c983a-f9b3-4474-80e2-b807f15d5a7b.png \"not broadcasting\")\n",
        "\n",
        "(**Fonte:** Tutoriais oficiais do NumPy [\\[2\\]](#2))"
      ],
      "metadata": {
        "id": "kHCfSBJKGTR-"
      }
    },
    {
      "cell_type": "code",
      "source": [
        "matrix = np.array([[0, 0, 0],\n",
        "                   [10, 10, 10],\n",
        "                   [20, 20, 20],\n",
        "                   [30, 30, 30]])\n",
        "vec = np.array([1, 2, 3, 4])\n",
        "matrix + vec"
      ],
      "metadata": {
        "id": "ikUwR9e9FVPM"
      },
      "execution_count": null,
      "outputs": []
    },
    {
      "cell_type": "markdown",
      "source": [
        "É interessante notar que essa \"esticada\" para realizar o broadcast só pode ser feita em 1 eixo. Mesmo que fosse possível copiar o array menor até ele ter o mesmo formato do array maior, se para isso precisarmos fazer cópias ao longo de 2 eixos, então o NumPy retorna um erro."
      ],
      "metadata": {
        "id": "pSQbTJNXGc6b"
      }
    },
    {
      "cell_type": "code",
      "source": [
        "a = np.array([[1, 2, 3, 4],\n",
        "              [3, 4, 5, 6],\n",
        "              [7, 8, 9, 10]])\n",
        "b = np.array([2, 2])\n",
        "a * b"
      ],
      "metadata": {
        "id": "Jh5W9WLRGhaX"
      },
      "execution_count": null,
      "outputs": []
    },
    {
      "cell_type": "code",
      "source": [
        "b = np.array([[2, 2]])\n",
        "a * b"
      ],
      "metadata": {
        "id": "KFi8plAjGjhj"
      },
      "execution_count": null,
      "outputs": []
    },
    {
      "cell_type": "markdown",
      "source": [
        "### 3.2. Funções matemáticas  <a name=\"32funcoesmath\"></a>"
      ],
      "metadata": {
        "id": "JMo3VtvcBMmd"
      }
    },
    {
      "cell_type": "markdown",
      "source": [
        "Além de fazer operações matemáticas entre arrays, também podemos usar funções matemáticas conhecidas. O NumPy possui milhares de funções já implementadas. Por exemplo, ele possui as funções trigonométricas.\n",
        "\n",
        "Função seno:"
      ],
      "metadata": {
        "id": "iY2ztNfvELHx"
      }
    },
    {
      "cell_type": "code",
      "source": [
        "x = np.array([1, 2, 3, 4])\n",
        "np.sin(x)"
      ],
      "metadata": {
        "id": "1yRZkCo_EINS"
      },
      "execution_count": null,
      "outputs": []
    },
    {
      "cell_type": "markdown",
      "source": [
        "Função cosseno:"
      ],
      "metadata": {
        "id": "1hV_g2i5EQcz"
      }
    },
    {
      "cell_type": "code",
      "source": [
        "x = np.array([1, 2, 3, 4])\n",
        "np.cos(x)"
      ],
      "metadata": {
        "id": "7tQLOy2NESsW"
      },
      "execution_count": null,
      "outputs": []
    },
    {
      "cell_type": "markdown",
      "source": [
        "O NumPy também possui o valor de constantes matemáticas comuns, como o π (\"pi\")."
      ],
      "metadata": {
        "id": "ONAi139kEUsu"
      }
    },
    {
      "cell_type": "code",
      "source": [
        "x = np.array([0, np.pi / 2 , np.pi, 3 * np.pi / 2, 2 * np.pi])\n",
        "np.sin(x)"
      ],
      "metadata": {
        "id": "5CMqi5dwEXdD"
      },
      "execution_count": null,
      "outputs": []
    },
    {
      "cell_type": "markdown",
      "source": [
        "Os valores `1.2246468e-16` e `-2.4492936e-16` representam o número zero. O motivo de não estar zerado é que nem todas as operações com números de ponto flutuante (números reais com decimal) conseguem ser perfeitamente representadas pelo computador. Números de ponto flutuante sempre tem um grau de imprecisão. Então dentro da precisão do nosso cálculo, esses valores são basicamente o mesmo que zero.\n",
        "\n",
        "Depois das funções trigonométricas, vamos ver a função exponencial."
      ],
      "metadata": {
        "id": "fUdCcHXPEXHz"
      }
    },
    {
      "cell_type": "code",
      "source": [
        "x = np.array([1, 2, 3, 4])\n",
        "np.exp(x)"
      ],
      "metadata": {
        "id": "dQ_TAVBQEfuY"
      },
      "execution_count": null,
      "outputs": []
    },
    {
      "cell_type": "markdown",
      "source": [
        "Também existe a constante \"e\" (número euleriano) no NumPy. De fato, a função exponencial `np.exp(x)` nada mais é do que o número euleriano elevado a x.\n",
        "$$e^{x}$$\n",
        "\n",
        "Assim, também podemos fazer a mesma conta abaixo."
      ],
      "metadata": {
        "id": "1zmIaj_TElHJ"
      }
    },
    {
      "cell_type": "code",
      "source": [
        "x = np.array([1, 2, 3, 4])\n",
        "np.e ** x"
      ],
      "metadata": {
        "id": "Us6KolHFEl0i"
      },
      "execution_count": null,
      "outputs": []
    },
    {
      "cell_type": "markdown",
      "source": [
        "Como falamos, existem milhares de funções matemáticas nativamente no NumPy, e todas são muito úteis para fazermos cálculos matemáticos computacionais. Porém, se tentarmos listar todas, precisaríamos de um texto insanamente maior. Então melhor ficarmos só com uma ou outra mesmo.\n",
        "\n",
        "Temos falado, ao longo do texto, sobre o poder e eficiência do NumPy. Do ponto de vista de escrever código, uma enorme vantagem do NumPy é que podemos escrever equações matemáticas complicadas para todos os elementos do nosso array da mesma forma que escreveríamos no papel.\n",
        "\n",
        "Aqui entra em foco a ideia de \"operações vetorizadas\", que encontramos antes. No fim das contas, conseguimos escrever tudo de forma vetorizada no NumPy.\n",
        "\n",
        "Imagine a equação abaixo:\n",
        "$$ e^{x} + sin(x) $$\n",
        "\n",
        "Se quisermos achar o valor dela para diversos valores de \"x\" entre -1 e 2 no Python, teríamos que fazer um loop iterativo. No NumPy, a operação é mais clara e direta."
      ],
      "metadata": {
        "id": "eqvmWlC5Es2L"
      }
    },
    {
      "cell_type": "code",
      "source": [
        "x = np.linspace(-1, 2, 10)\n",
        "np.exp(x) + np.sin(x)"
      ],
      "metadata": {
        "id": "H6FtfUrfEwB_"
      },
      "execution_count": null,
      "outputs": []
    },
    {
      "cell_type": "markdown",
      "source": [
        "Por fim, o último conceito essencial de se conhecer quanto a operações matemáticas no NumPy é o de número infinito e de NaN (not a number).\n",
        "\n",
        "O NumPy possui duas constantes, `np.inf` e `np.NaN` que representam um \"número infinito\" e um erro, respectivamente.\n",
        "\n",
        "O \"número infinito\" é um valor de ponto flutuante que é maior que qualquer outro número. Se colocarmos um sinal negativo, ele vira \"menos infinito\", e passa a ser menor que qualquer outro número."
      ],
      "metadata": {
        "id": "Cp6krRpYE3Zi"
      }
    },
    {
      "cell_type": "code",
      "source": [
        "np.inf > 3823748932489"
      ],
      "metadata": {
        "id": "8PjvfnveE6s8"
      },
      "execution_count": null,
      "outputs": []
    },
    {
      "cell_type": "code",
      "source": [
        "-np.inf < -9832743293278423"
      ],
      "metadata": {
        "id": "75hpjGrKE9IN"
      },
      "execution_count": null,
      "outputs": []
    },
    {
      "cell_type": "markdown",
      "source": [
        "Já o NaN é um valor indefinido. Sempre que nossa operação não fizer sentido, o numpy retorna um NaN."
      ],
      "metadata": {
        "id": "bMDqb-3lE-g7"
      }
    },
    {
      "cell_type": "code",
      "source": [
        "np.float64(0) / np.float64(0)"
      ],
      "metadata": {
        "id": "33E6A5IEFAhF"
      },
      "execution_count": null,
      "outputs": []
    },
    {
      "cell_type": "markdown",
      "source": [
        "O cuidado que devemos tomar com o NaN é que todas as operações entre um número e um NaN passam a ser NaN."
      ],
      "metadata": {
        "id": "Xs1YdZoUFCLI"
      }
    },
    {
      "cell_type": "code",
      "source": [
        "np.NaN + 44"
      ],
      "metadata": {
        "id": "fUqJ_1dyFEIL"
      },
      "execution_count": null,
      "outputs": []
    },
    {
      "cell_type": "markdown",
      "source": [
        "## 4. Álgebra Linear e Estatística básica  <a name=\"4algelinestat\"></a>"
      ],
      "metadata": {
        "id": "D4Yajv_nAxXN"
      }
    },
    {
      "cell_type": "markdown",
      "source": [
        "### 4.1. Álgebra Linear  <a name=\"41algelin\"></a>"
      ],
      "metadata": {
        "id": "PgFrZ5SUAzrZ"
      }
    },
    {
      "cell_type": "markdown",
      "source": [
        "Da definição do Wikipédia:\n",
        "\n",
        "Álgebra linear é um ramo da matemática que surgiu do estudo detalhado de sistemas de equações lineares [...]. A álgebra linear utiliza alguns conceitos e estruturas fundamentais da matemática como vetores,[...] e matrizes.\n",
        "\n",
        "Independente da definição exata, a questão é que a álgebra linear estuda vetores e matrizes. Como vimos até aqui, o NumPy opera de forma bastante análoga à vetores e matrizes.\n",
        "\n",
        "O que não vimos ainda é como o NumPy nos permite também executar operações típicas da álgebra linear, como \"produto entre matrizes\".\n",
        "\n",
        "De fato, o NumPy tem a capacidade de realizar um \"produto escalar\" entre vetores, de fazer o produto de uma matriz por um vetor, e de fazer o produto entre matrizes.\n",
        "\n",
        "Vamos relembrar o que são essas operações. O produto escalar de dois vetores consiste em multiplicar os dois, elemento a elemento, e depois somar os resultados de cada par de elementos.\n",
        "\n",
        "![inner_prod](https://s3-sa-east-1.amazonaws.com/lcpi/d331eb96-4d9e-4cf4-98f6-23fdd8bebf7a.png)\n",
        "\n",
        "(Exemplo de produto escalar, ou \"produto interno\") <br>\n",
        "(**Fonte:** Imagem original Ada)"
      ],
      "metadata": {
        "id": "ZbfP3BiRCMVr"
      }
    },
    {
      "cell_type": "markdown",
      "source": [
        "A sintaxe do NumPy é dada abaixo."
      ],
      "metadata": {
        "id": "ScQNjhyJCOF0"
      }
    },
    {
      "cell_type": "code",
      "source": [
        "vec1 = np.array([1, 2, 3])\n",
        "vec2 = np.array([2, 2, 3])\n",
        "vec1.dot(vec2)"
      ],
      "metadata": {
        "id": "7_e5JZ1hA6qz"
      },
      "execution_count": null,
      "outputs": []
    },
    {
      "cell_type": "markdown",
      "source": [
        "Também podemos usar o operador `@`."
      ],
      "metadata": {
        "id": "TD5WlO0VCWkI"
      }
    },
    {
      "cell_type": "code",
      "source": [
        "vec1 = np.array([1, 2, 3])\n",
        "vec2 = np.array([2, 2, 3])\n",
        "vec1 @ vec2"
      ],
      "metadata": {
        "id": "-PqPPPSoCaXL"
      },
      "execution_count": null,
      "outputs": []
    },
    {
      "cell_type": "markdown",
      "source": [
        "O produto de matriz e vetor é dado fazendo algo semelhante ao produto escalar. Para cada linha da matriz, a gente faz o produto escalar entre aquela linha e o vetor. O resultado então vai ser o elemento que se encontra na mesma posição da linha.\n",
        "\n",
        "![matrix_vec](https://s3-sa-east-1.amazonaws.com/lcpi/364aee03-990f-49ca-a3b8-19881f09be3c.svg)\n",
        "\n",
        "(**Fonte:** Usuária Claudia4 do site Wikimedia Commons, disponível em https://upload.wikimedia.org/wikipedia/commons/2/22/Matrix_vector_multiplication.svg)"
      ],
      "metadata": {
        "id": "y-wWOHYyCeHz"
      }
    },
    {
      "cell_type": "markdown",
      "source": [
        "As possibilidades de sintaxe do NumPy seguem abaixo."
      ],
      "metadata": {
        "id": "iOmCQx_GCgiO"
      }
    },
    {
      "cell_type": "code",
      "source": [
        "matrix = np.array([[1, 1, 1],\n",
        "                       [1, 2, 3],\n",
        "                       [1, 1, 1]])"
      ],
      "metadata": {
        "id": "xmuWsIR6CjID"
      },
      "execution_count": null,
      "outputs": []
    },
    {
      "cell_type": "code",
      "source": [
        "vec2 = np.array([2, 2, 3])"
      ],
      "metadata": {
        "id": "8H42hXdgCkuJ"
      },
      "execution_count": null,
      "outputs": []
    },
    {
      "cell_type": "code",
      "source": [
        "matrix.dot(vec2)"
      ],
      "metadata": {
        "id": "KKIp7iqeCmEs"
      },
      "execution_count": null,
      "outputs": []
    },
    {
      "cell_type": "code",
      "source": [
        "matrix @ vec2"
      ],
      "metadata": {
        "id": "iIK0CaYACnyk"
      },
      "execution_count": null,
      "outputs": []
    },
    {
      "cell_type": "markdown",
      "source": [
        "Na multiplicação entre matrizes, nós multiplicamos a linha da matriz da esquerda pela coluna da matriz da direita, elemento a elemento, e somamos o resultado (produto escalar entre a linha da matriz da esquerda com a coluna da matriz da direita) para obter uma nova matriz.\n",
        "\n",
        "Neste caso, quando fazemos o produto interno da linha N com a coluna M, nós obtemos o elemento que ficará na posição (N,M) na nova matriz.\n",
        "\n",
        "![matrix_mult01](https://s3-sa-east-1.amazonaws.com/lcpi/7569206e-95e5-405b-8bff-6b7901590149.svg)\n",
        "\n",
        "![matrix_mult02](https://s3-sa-east-1.amazonaws.com/lcpi/e7217171-a90e-483e-8af4-0b73a463951c.svg){width=\"400\", height=\"300\"}\n",
        "\n",
        "(**Fonte:** Usuários Guy vandegrift e Bilou do site Wikimedia Commons, disponíveis em\n",
        "https://upload.wikimedia.org/wikipedia/commons/d/d9/Hands_matrix_multiplication.svg e https://upload.wikimedia.org/wikipedia/commons/2/22/Matrix_vector_multiplication.svg)"
      ],
      "metadata": {
        "id": "taawG4e5Cqxo"
      }
    },
    {
      "cell_type": "markdown",
      "source": [
        "Como nos casos anteriores, abaixo temos a sintaxe do NumPy."
      ],
      "metadata": {
        "id": "MR9YP78RCuAK"
      }
    },
    {
      "cell_type": "code",
      "source": [
        "matrix1 = np.array([[1, 1, 1],\n",
        "                        [1, 2, 3],\n",
        "                        [1, 1, 1]])"
      ],
      "metadata": {
        "id": "63iuZHvMDF1k"
      },
      "execution_count": null,
      "outputs": []
    },
    {
      "cell_type": "code",
      "source": [
        "matrix2 = np.array([[1, 1, 1],\n",
        "                        [1, 1, 1],\n",
        "                        [1, 1, 1]])"
      ],
      "metadata": {
        "id": "4DZ7RRQlDH5R"
      },
      "execution_count": null,
      "outputs": []
    },
    {
      "cell_type": "code",
      "source": [
        "matrix1.dot(matrix2)"
      ],
      "metadata": {
        "id": "3zWMGbtaDJYr"
      },
      "execution_count": null,
      "outputs": []
    },
    {
      "cell_type": "code",
      "source": [
        "matrix1 @ matrix2"
      ],
      "metadata": {
        "id": "HkIHhutZDLPn"
      },
      "execution_count": null,
      "outputs": []
    },
    {
      "cell_type": "markdown",
      "source": [
        "No campo da álgebra linear, existem algumas matrizes especiais muito úteis. O NumPy possui métodos de criação para a maioria delas.\n",
        "\n",
        "A mais importante é a chamada matriz identidade. Ela é uma matriz quadrada (mesmo número de linhas e colunas) com diagonal 1, e os outros valores 0."
      ],
      "metadata": {
        "id": "qPKs8gwiDOZL"
      }
    },
    {
      "cell_type": "code",
      "source": [
        "np.identity(3)"
      ],
      "metadata": {
        "id": "ufurZ8kjDRpq"
      },
      "execution_count": null,
      "outputs": []
    },
    {
      "cell_type": "markdown",
      "source": [
        "Ela se chama identidade pois qualquer matriz multiplicada pela identidade (por produto de matrizes) dá a própria matriz."
      ],
      "metadata": {
        "id": "Y8-jZpSuDUKq"
      }
    },
    {
      "cell_type": "code",
      "source": [
        "matrix1 @ np.identity(3)"
      ],
      "metadata": {
        "id": "E8fbpJqMDWlr"
      },
      "execution_count": null,
      "outputs": []
    },
    {
      "cell_type": "markdown",
      "source": [
        "Outra operação comum com matrizes é a transposição.\n",
        "\n",
        "![transposition](https://s3-sa-east-1.amazonaws.com/lcpi/3d11b2c4-65cb-463a-9ccc-b858b065d2b3.png \"Transposição\")\n",
        "\n",
        "(**Fonte:** Imagem original Ada)\n",
        "\n",
        "A transposição pode ser feita com a função `np.transpose`."
      ],
      "metadata": {
        "id": "g6gIOFceDfiX"
      }
    },
    {
      "cell_type": "code",
      "source": [
        " np.transpose(a)"
      ],
      "metadata": {
        "id": "PNiXbYybDgCc"
      },
      "execution_count": null,
      "outputs": []
    },
    {
      "cell_type": "markdown",
      "source": [
        "Outra forma é usando o atributo `T`:"
      ],
      "metadata": {
        "id": "xIXIX_qmDkeq"
      }
    },
    {
      "cell_type": "code",
      "source": [
        "a.T"
      ],
      "metadata": {
        "id": "H57qL1IaDmaM"
      },
      "execution_count": null,
      "outputs": []
    },
    {
      "cell_type": "markdown",
      "source": [
        "Operações mais específicas se encontram no módulo `linalg` do NumPy.\n",
        "\n",
        "Um exemplo é encontrar o determinante de uma matriz. O determinante é um número característico de uma dada matriz, e que se relaciona com diversas propriedades dela."
      ],
      "metadata": {
        "id": "pVQ3kDcrDqC8"
      }
    },
    {
      "cell_type": "code",
      "source": [
        "c = np.identity(3)"
      ],
      "metadata": {
        "id": "AYrEFBmgDuJ6"
      },
      "execution_count": null,
      "outputs": []
    },
    {
      "cell_type": "code",
      "source": [
        "print(c)"
      ],
      "metadata": {
        "id": "Gm4MjdNIDv2a"
      },
      "execution_count": null,
      "outputs": []
    },
    {
      "cell_type": "code",
      "source": [
        "np.linalg.det(c)"
      ],
      "metadata": {
        "id": "t0bcity0Dxvl"
      },
      "execution_count": null,
      "outputs": []
    },
    {
      "cell_type": "markdown",
      "source": [
        "Para encontrar todas as funções específicas de Álgebra Linear que têm no NumPy, você pode acessar o link https://numpy.org/doc/stable/reference/routines.linalg.html.\n",
        "\n",
        "Algum exemplo de funções já implementadas na biblioteca:\n",
        "- Traço\n",
        "- Decomposição de vetores\n",
        "- Autovalor/autovetor\n",
        "- Norma de Matriz\n",
        "- Inversa\n",
        "- Etc..."
      ],
      "metadata": {
        "id": "L3cR80JfD0cu"
      }
    },
    {
      "cell_type": "markdown",
      "source": [
        "### 4.2. Estatística  <a name=\"42estat\"></a>\n"
      ],
      "metadata": {
        "id": "Qe13k-k6AlCr"
      }
    },
    {
      "cell_type": "markdown",
      "source": [
        "Por fim, o NumPy também possui várias funções básicas de estatística, como mínimo, máximo, média, mediana, etc."
      ],
      "metadata": {
        "id": "25TdsE-ECBM9"
      }
    },
    {
      "cell_type": "code",
      "source": [
        "import numpy as np"
      ],
      "metadata": {
        "id": "iiKrAO8iAo6R"
      },
      "execution_count": null,
      "outputs": []
    },
    {
      "cell_type": "code",
      "source": [
        "stats = np.array([[1, 2, 3], [4, 5, 6]])\n",
        "stats"
      ],
      "metadata": {
        "id": "-vFnvgc5-gJU"
      },
      "execution_count": null,
      "outputs": []
    },
    {
      "cell_type": "code",
      "source": [
        "np.min(stats)"
      ],
      "metadata": {
        "id": "qN64JPlIAoL5"
      },
      "execution_count": null,
      "outputs": []
    },
    {
      "cell_type": "code",
      "source": [
        "np.max(stats)"
      ],
      "metadata": {
        "id": "vkVN2WyUAumE"
      },
      "execution_count": null,
      "outputs": []
    },
    {
      "cell_type": "code",
      "source": [
        "np.min(stats, axis=1) # Pega o menor valor de cada linha"
      ],
      "metadata": {
        "id": "d06v_q6RAwn5"
      },
      "execution_count": null,
      "outputs": []
    },
    {
      "cell_type": "code",
      "source": [
        "np.max(stats, axis=0) # Pega o maior valor de cada coluna"
      ],
      "metadata": {
        "id": "fD1YmZChAyty"
      },
      "execution_count": null,
      "outputs": []
    },
    {
      "cell_type": "code",
      "source": [
        "np.sum(stats, axis=0) # Faz a soma dos valores de cada coluna"
      ],
      "metadata": {
        "id": "IXTEgCnmA0gL"
      },
      "execution_count": null,
      "outputs": []
    },
    {
      "cell_type": "code",
      "source": [
        "np.mean(stats) # Valor médio de todos os elementos do array"
      ],
      "metadata": {
        "id": "35S5LbfdA3gi"
      },
      "execution_count": null,
      "outputs": []
    },
    {
      "cell_type": "code",
      "source": [
        "np.mean(stats, axis=0) # Valor médio de cada coluna do array"
      ],
      "metadata": {
        "id": "p86Ksk0pA5QF"
      },
      "execution_count": null,
      "outputs": []
    },
    {
      "cell_type": "code",
      "source": [
        "np.mean(stats, axis=1) # Valor médio de cada linha do array"
      ],
      "metadata": {
        "id": "FNSBPQNoe5gM"
      },
      "execution_count": null,
      "outputs": []
    },
    {
      "cell_type": "markdown",
      "source": [
        "\n",
        "**Referências:**\n",
        "--------------"
      ],
      "metadata": {
        "id": "--oARHr2AcQ0"
      }
    },
    {
      "cell_type": "markdown",
      "source": [
        "1. <a name=\"1\"></a> Documentação NumPy, disponível em https://NumPy.org/doc/stable/index.html ;\n",
        "2. <a name=\"2\"></a> Tutorial NumPy, disponível em https://NumPy.org/doc/stable/user/absolute_beginners.html ;\n",
        "3. <a name=\"3\"></a> Funções matemáticas do NumPy, disponível em https://numpy.org/doc/stable/reference/routines.math.html\n",
        "4. <a name=\"4\"></a> Álgebra linear com NumPy, disponível em https://numpy.org/doc/stable/reference/routines.linalg.html\n",
        "5. <a name=\"5\"></a> Tutorial NumPy da ABRACD, disponível em https://abracd.org/tutorial-numpy-os-primeiros-passos-em-computacao-numerica-e-tratamento-de-dados/\n",
        "\n",
        "[NumPy_docs]: https://NumPy.org/doc/stable/index.html\n",
        "[NumPy_install]: https://NumPy.org/install/"
      ],
      "metadata": {
        "id": "lrpx0Tf1AfIO"
      }
    }
  ]
}